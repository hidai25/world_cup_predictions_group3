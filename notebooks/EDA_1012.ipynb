{
  "nbformat": 4,
  "nbformat_minor": 0,
  "metadata": {
    "colab": {
      "name": "EDA 1012",
      "version": "0.3.2",
      "provenance": [],
      "collapsed_sections": []
    },
    "kernelspec": {
      "name": "python3",
      "display_name": "Python 3"
    }
  },
  "cells": [
    {
      "metadata": {
        "id": "8OiPaogUvCx5",
        "colab_type": "text"
      },
      "cell_type": "markdown",
      "source": [
        "# EDA- Analysis of the data\n",
        "\n"
      ]
    },
    {
      "metadata": {
        "id": "gLEJbL0K-hvY",
        "colab_type": "code",
        "colab": {
          "base_uri": "https://localhost:8080/",
          "height": 88
        },
        "outputId": "d981250c-5a0c-4481-87c3-7053fdad7493"
      },
      "cell_type": "code",
      "source": [
        "# load different libraries useful for our work\n",
        "\n",
        "import numpy as np\n",
        "import pandas as pd\n",
        "import statsmodels.api as sm\n",
        "import requests\n",
        "import math\n",
        "from statsmodels.api import OLS\n",
        "from sklearn.decomposition import PCA\n",
        "from sklearn.linear_model import LogisticRegression\n",
        "from sklearn.linear_model import LogisticRegressionCV\n",
        "from sklearn.discriminant_analysis import LinearDiscriminantAnalysis\n",
        "from sklearn.discriminant_analysis import QuadraticDiscriminantAnalysis\n",
        "from sklearn.preprocessing import PolynomialFeatures\n",
        "from sklearn.neighbors import KNeighborsClassifier\n",
        "from sklearn.tree import DecisionTreeClassifier\n",
        "from sklearn.ensemble import RandomForestClassifier\n",
        "from sklearn.model_selection import cross_val_score\n",
        "from sklearn.metrics import accuracy_score\n",
        "from sklearn.model_selection import KFold\n",
        "from sklearn.preprocessing import MinMaxScaler\n",
        "from sklearn.ensemble import AdaBoostClassifier\n",
        "from sklearn.preprocessing import StandardScaler\n",
        "from sklearn.metrics import confusion_matrix\n",
        "from sklearn.model_selection import train_test_split\n",
        "from sklearn.model_selection import cross_val_score\n",
        "from sklearn.model_selection import LeaveOneOut\n",
        "from sklearn.model_selection import KFold\n",
        "from sklearn.pipeline import make_pipeline\n",
        "from sklearn.datasets import make_blobs\n",
        "from io import BytesIO\n",
        "from pandas.plotting import scatter_matrix\n",
        "from sklearn.discriminant_analysis import QuadraticDiscriminantAnalysis\n",
        "from sklearn.neural_network import MLPClassifier\n",
        "from scipy.special import gamma\n",
        "from bs4 import BeautifulSoup\n",
        "import bs4 as bs\n",
        "import matplotlib\n",
        "import matplotlib.pyplot as plt\n",
        "%matplotlib inline\n",
        "import datetime\n",
        "from dateutil import relativedelta as rdelta\n",
        "import seaborn as sns\n",
        "sns.set()\n",
        "from IPython.display import display\n",
        "from scipy.stats import norm\n",
        "from keras.models import Sequential\n",
        "from keras.layers import Dense, Activation, Dropout, Flatten, Reshape\n",
        "from keras.optimizers import SGD"
      ],
      "execution_count": 1,
      "outputs": [
        {
          "output_type": "stream",
          "text": [
            "/usr/local/lib/python3.6/dist-packages/statsmodels/compat/pandas.py:56: FutureWarning: The pandas.core.datetools module is deprecated and will be removed in a future version. Please use the pandas.tseries module instead.\n",
            "  from pandas.core import datetools\n",
            "Using TensorFlow backend.\n"
          ],
          "name": "stderr"
        }
      ]
    },
    {
      "metadata": {
        "id": "DaGo7c8Cl3b6",
        "colab_type": "text"
      },
      "cell_type": "markdown",
      "source": [
        "#WC 2018 Participating teams and players data to be used throughout  our work<a id ='Teamdanalysis'></a> "
      ]
    },
    {
      "metadata": {
        "id": "vNQvmLvFtBG5",
        "colab_type": "code",
        "outputId": "8ad4bb98-7c93-47ce-826a-719c72a76a9d",
        "colab": {
          "base_uri": "https://localhost:8080/",
          "height": 71
        }
      },
      "cell_type": "code",
      "source": [
        "# https://en.wikipedia.org/wiki/2018_FIFA_World_Cup_squads\n",
        "# scrape the squad of every nation selected to the world cup with their data and get a list of all the countries from wikipedia\n",
        "\n",
        "my_page=requests.get(\"https://en.wikipedia.org/wiki/2018_FIFA_World_Cup_squads\")\n",
        "\n",
        "#Page for Champions leage Team 2017 - 2018\n",
        "champions_league_page = requests.get(\"https://en.wikipedia.org/wiki/2017%E2%80%9318_UEFA_Champions_League_group_stage\")\n",
        "\n",
        "squad_soup = BeautifulSoup(my_page.text, \"html.parser\")\n",
        "CL_soup = BeautifulSoup(champions_league_page.text, \"html.parser\") # Parse the champions league page\n",
        "\n",
        "#GET the list of teams for CHampions LEague 2017-2018\n",
        "CL_list = []\n",
        "#find top_node of the teams\n",
        "top_node = CL_soup.find(\"th\", attrs={\"width\": \"200\"})\n",
        "\n",
        "next_link = top_node.find_next('a')  # get the first link in the node\n",
        "for i in range(78):  # getting through the next 78 links \n",
        "    next_link = next_link.find_next('a')  # retrieve the next link\n",
        "    CL_team = next_link.text.strip('\\n')  # Strip all junk character\n",
        "    if CL_team and '[' not in CL_team:  # Condition to make sure that the link is an actual team \n",
        "        CL_list.append(CL_team)  # Add the team to the champions league team \n",
        "\n",
        "        \n",
        "cup_date = datetime.datetime(2018, 7, 1, 0, 0, 0)\n",
        "country_tables = squad_soup.findAll(\"table\", attrs={\"class\": \"sortable wikitable plainrowheaders\"})\n",
        "starlist = []\n",
        "countrylist = []\n",
        "top_league_country = ['France', 'Italy', 'Germany', 'England', 'Spain']   #List of top 5 Soccer League in the World\n",
        "\n",
        "\n",
        "for country_table in country_tables:\n",
        "    players = country_table.findAll(\"th\", attrs={\"scope\": \"row\"})\n",
        "        \n",
        "    for name in players:\n",
        "        d = dict()\n",
        "        d['name'] = name.find('a').text.strip('\\n')\n",
        "        pos = name.find_previous_sibling()\n",
        "        d['pos'] = pos.find('a').text.strip('\\n').strip('()')\n",
        "        rawbday = name.find_next_sibling()\n",
        "        bday = datetime.datetime.strptime(rawbday.find('span',attrs={'class':'bday'}).text.strip('\\n'), '%Y-%m-%d')\n",
        "        age = rdelta.relativedelta(cup_date,bday).years\n",
        "        \n",
        "        d['age'] = age\n",
        "        caps = rawbday.find_next_sibling()\n",
        "        d['caps'] = caps.text.strip('\\n')\n",
        "        goals = caps.find_next_sibling()\n",
        "        d['goals'] = goals.text.strip('\\n')\n",
        "        country = goals.find_previous('h3').find('span').text.strip('\\n')\n",
        "        club = goals.find_next('a').find_next('a').text.strip('\\n')   # Retrieve the club information of the player\n",
        "        if caps.find_next('a')['title'] in top_league_country:  #Check if the Club is in Top5 leagues\n",
        "            top_league = 1  # If yes, CLub in Top 5 league \n",
        "        else: \n",
        "            top_league = 0  # Club isn't in top 5 league\n",
        "        d['country'] = country\n",
        "        d['club'] = club  # Add the club Name of the player in the DataFrame\n",
        "        d['Top League'] = top_league # Add the player in Top 5 League or Not. \n",
        "        \n",
        "        if club in CL_list:  # Check if the club played champions league\n",
        "            CL_league = 1\n",
        "        else: \n",
        "            CL_league = 0\n",
        "        d['CL League 2017-2018'] = CL_league # add Champions league 2017/2018 to the data frame\n",
        "        starlist.append(d)\n",
        "\n",
        "    countrylist.append(country)\n",
        "print(starlist)\n",
        "print(countrylist)\n",
        "\n"
      ],
      "execution_count": 6,
      "outputs": [
        {
          "output_type": "stream",
          "text": [
            "[{'name': 'Essam El-Hadary', 'pos': 'GK', 'age': 45, 'caps': '158', 'goals': '0', 'country': 'Egypt', 'club': 'Al-Taawoun', 'Top League': 0, 'CL League 2017-2018': 0}, {'name': 'Ali Gabr', 'pos': 'DF', 'age': 29, 'caps': '21', 'goals': '1', 'country': 'Egypt', 'club': 'West Bromwich Albion', 'Top League': 1, 'CL League 2017-2018': 0}, {'name': 'Ahmed Elmohamady', 'pos': 'DF', 'age': 30, 'caps': '78', 'goals': '2', 'country': 'Egypt', 'club': 'Aston Villa', 'Top League': 1, 'CL League 2017-2018': 0}, {'name': 'Omar Gaber', 'pos': 'MF', 'age': 26, 'caps': '24', 'goals': '0', 'country': 'Egypt', 'club': 'Los Angeles FC', 'Top League': 0, 'CL League 2017-2018': 0}, {'name': 'Sam Morsy', 'pos': 'MF', 'age': 26, 'caps': '5', 'goals': '0', 'country': 'Egypt', 'club': 'Wigan Athletic', 'Top League': 1, 'CL League 2017-2018': 0}, {'name': 'Ahmed Hegazi', 'pos': 'DF', 'age': 27, 'caps': '45', 'goals': '1', 'country': 'Egypt', 'club': 'West Bromwich Albion', 'Top League': 1, 'CL League 2017-2018': 0}, {'name': 'Ahmed Fathy', 'pos': 'DF', 'age': 33, 'caps': '126', 'goals': '3', 'country': 'Egypt', 'club': 'Al Ahly', 'Top League': 0, 'CL League 2017-2018': 0}, {'name': 'Tarek Hamed', 'pos': 'MF', 'age': 29, 'caps': '21', 'goals': '0', 'country': 'Egypt', 'club': 'Zamalek', 'Top League': 0, 'CL League 2017-2018': 0}, {'name': 'Marwan Mohsen', 'pos': 'FW', 'age': 29, 'caps': '24', 'goals': '4', 'country': 'Egypt', 'club': 'Al Ahly', 'Top League': 0, 'CL League 2017-2018': 0}, {'name': 'Mohamed Salah', 'pos': 'FW', 'age': 26, 'caps': '57', 'goals': '33', 'country': 'Egypt', 'club': 'Liverpool', 'Top League': 1, 'CL League 2017-2018': 1}, {'name': 'Kahraba', 'pos': 'FW', 'age': 24, 'caps': '19', 'goals': '3', 'country': 'Egypt', 'club': 'Al-Ittihad', 'Top League': 0, 'CL League 2017-2018': 0}, {'name': 'Ayman Ashraf', 'pos': 'DF', 'age': 27, 'caps': '4', 'goals': '0', 'country': 'Egypt', 'club': 'Al Ahly', 'Top League': 0, 'CL League 2017-2018': 0}, {'name': 'Mohamed Abdel-Shafy', 'pos': 'DF', 'age': 33, 'caps': '51', 'goals': '1', 'country': 'Egypt', 'club': 'Al-Fateh', 'Top League': 0, 'CL League 2017-2018': 0}, {'name': 'Ramadan Sobhi', 'pos': 'FW', 'age': 21, 'caps': '23', 'goals': '1', 'country': 'Egypt', 'club': 'Stoke City', 'Top League': 1, 'CL League 2017-2018': 0}, {'name': 'Mahmoud Hamdy', 'pos': 'DF', 'age': 23, 'caps': '0', 'goals': '0', 'country': 'Egypt', 'club': 'Zamalek', 'Top League': 0, 'CL League 2017-2018': 0}, {'name': 'Sherif Ekramy', 'pos': 'GK', 'age': 34, 'caps': '22', 'goals': '0', 'country': 'Egypt', 'club': 'Al Ahly', 'Top League': 0, 'CL League 2017-2018': 0}, {'name': 'Mohamed Elneny', 'pos': 'MF', 'age': 25, 'caps': '61', 'goals': '5', 'country': 'Egypt', 'club': 'Arsenal', 'Top League': 1, 'CL League 2017-2018': 0}, {'name': 'Shikabala', 'pos': 'FW', 'age': 32, 'caps': '29', 'goals': '2', 'country': 'Egypt', 'club': 'Al-Raed', 'Top League': 0, 'CL League 2017-2018': 0}, {'name': 'Abdallah Said', 'pos': 'MF', 'age': 32, 'caps': '36', 'goals': '6', 'country': 'Egypt', 'club': 'KuPS', 'Top League': 0, 'CL League 2017-2018': 0}, {'name': 'Saad Samir', 'pos': 'DF', 'age': 29, 'caps': '11', 'goals': '0', 'country': 'Egypt', 'club': 'Al Ahly', 'Top League': 0, 'CL League 2017-2018': 0}, {'name': 'Trézéguet', 'pos': 'MF', 'age': 23, 'caps': '24', 'goals': '2', 'country': 'Egypt', 'club': 'Kasımpaşa', 'Top League': 0, 'CL League 2017-2018': 0}, {'name': 'Amr Warda', 'pos': 'FW', 'age': 24, 'caps': '16', 'goals': '0', 'country': 'Egypt', 'club': 'Atromitos', 'Top League': 0, 'CL League 2017-2018': 0}, {'name': 'Mohamed El-Shenawy', 'pos': 'GK', 'age': 29, 'caps': '3', 'goals': '0', 'country': 'Egypt', 'club': 'Al Ahly', 'Top League': 0, 'CL League 2017-2018': 0}, {'name': 'Igor Akinfeev', 'pos': 'GK', 'age': 32, 'caps': '106', 'goals': '0', 'country': 'Russia', 'club': 'CSKA Moscow', 'Top League': 0, 'CL League 2017-2018': 1}, {'name': 'Mário Fernandes', 'pos': 'DF', 'age': 27, 'caps': '5', 'goals': '0', 'country': 'Russia', 'club': 'CSKA Moscow', 'Top League': 0, 'CL League 2017-2018': 1}, {'name': 'Ilya Kutepov', 'pos': 'DF', 'age': 24, 'caps': '7', 'goals': '0', 'country': 'Russia', 'club': 'Spartak Moscow', 'Top League': 0, 'CL League 2017-2018': 1}, {'name': 'Sergei Ignashevich', 'pos': 'DF', 'age': 38, 'caps': '122', 'goals': '8', 'country': 'Russia', 'club': 'CSKA Moscow', 'Top League': 0, 'CL League 2017-2018': 1}, {'name': 'Andrei Semyonov', 'pos': 'DF', 'age': 29, 'caps': '6', 'goals': '0', 'country': 'Russia', 'club': 'Akhmat Grozny', 'Top League': 0, 'CL League 2017-2018': 0}, {'name': 'Denis Cheryshev', 'pos': 'MF', 'age': 27, 'caps': '11', 'goals': '0', 'country': 'Russia', 'club': 'Villarreal', 'Top League': 1, 'CL League 2017-2018': 0}, {'name': 'Daler Kuzyayev', 'pos': 'MF', 'age': 25, 'caps': '6', 'goals': '0', 'country': 'Russia', 'club': 'Zenit Saint Petersburg', 'Top League': 0, 'CL League 2017-2018': 0}, {'name': 'Yury Gazinsky', 'pos': 'MF', 'age': 28, 'caps': '6', 'goals': '0', 'country': 'Russia', 'club': 'Krasnodar', 'Top League': 0, 'CL League 2017-2018': 0}, {'name': 'Alan Dzagoev', 'pos': 'MF', 'age': 28, 'caps': '57', 'goals': '9', 'country': 'Russia', 'club': 'CSKA Moscow', 'Top League': 0, 'CL League 2017-2018': 1}, {'name': 'Fyodor Smolov', 'pos': 'FW', 'age': 28, 'caps': '32', 'goals': '12', 'country': 'Russia', 'club': 'Krasnodar', 'Top League': 0, 'CL League 2017-2018': 0}, {'name': 'Roman Zobnin', 'pos': 'MF', 'age': 24, 'caps': '12', 'goals': '0', 'country': 'Russia', 'club': 'Spartak Moscow', 'Top League': 0, 'CL League 2017-2018': 1}, {'name': 'Andrey Lunyov', 'pos': 'GK', 'age': 26, 'caps': '3', 'goals': '0', 'country': 'Russia', 'club': 'Zenit Saint Petersburg', 'Top League': 0, 'CL League 2017-2018': 0}, {'name': 'Fyodor Kudryashov', 'pos': 'DF', 'age': 31, 'caps': '19', 'goals': '0', 'country': 'Russia', 'club': 'Rubin Kazan', 'Top League': 0, 'CL League 2017-2018': 0}, {'name': 'Vladimir Granat', 'pos': 'DF', 'age': 31, 'caps': '12', 'goals': '1', 'country': 'Russia', 'club': 'Rubin Kazan', 'Top League': 0, 'CL League 2017-2018': 0}, {'name': 'Aleksei Miranchuk', 'pos': 'MF', 'age': 22, 'caps': '18', 'goals': '4', 'country': 'Russia', 'club': 'Lokomotiv Moscow', 'Top League': 0, 'CL League 2017-2018': 0}, {'name': 'Anton Miranchuk', 'pos': 'MF', 'age': 22, 'caps': '6', 'goals': '0', 'country': 'Russia', 'club': 'Lokomotiv Moscow', 'Top League': 0, 'CL League 2017-2018': 0}, {'name': 'Aleksandr Golovin', 'pos': 'MF', 'age': 22, 'caps': '19', 'goals': '2', 'country': 'Russia', 'club': 'CSKA Moscow', 'Top League': 0, 'CL League 2017-2018': 1}, {'name': 'Yuri Zhirkov', 'pos': 'MF', 'age': 34, 'caps': '84', 'goals': '2', 'country': 'Russia', 'club': 'Zenit Saint Petersburg', 'Top League': 0, 'CL League 2017-2018': 0}, {'name': 'Aleksandr Samedov', 'pos': 'MF', 'age': 33, 'caps': '48', 'goals': '7', 'country': 'Russia', 'club': 'Spartak Moscow', 'Top League': 0, 'CL League 2017-2018': 1}, {'name': 'Vladimir Gabulov', 'pos': 'GK', 'age': 34, 'caps': '10', 'goals': '0', 'country': 'Russia', 'club': 'Club Brugge', 'Top League': 0, 'CL League 2017-2018': 0}, {'name': 'Aleksandr Yerokhin', 'pos': 'MF', 'age': 28, 'caps': '17', 'goals': '0', 'country': 'Russia', 'club': 'Zenit Saint Petersburg', 'Top League': 0, 'CL League 2017-2018': 0}, {'name': 'Artem Dzyuba', 'pos': 'FW', 'age': 29, 'caps': '23', 'goals': '11', 'country': 'Russia', 'club': 'Arsenal Tula', 'Top League': 0, 'CL League 2017-2018': 0}, {'name': 'Igor Smolnikov', 'pos': 'DF', 'age': 29, 'caps': '27', 'goals': '0', 'country': 'Russia', 'club': 'Zenit Saint Petersburg', 'Top League': 0, 'CL League 2017-2018': 0}, {'name': 'Abdullah Al-Mayouf', 'pos': 'GK', 'age': 31, 'caps': '11', 'goals': '0', 'country': 'Saudi Arabia', 'club': 'Al-Hilal', 'Top League': 0, 'CL League 2017-2018': 0}, {'name': 'Mansoor Al-Harbi', 'pos': 'DF', 'age': 30, 'caps': '40', 'goals': '1', 'country': 'Saudi Arabia', 'club': 'Al-Ahli', 'Top League': 0, 'CL League 2017-2018': 0}, {'name': 'Osama Hawsawi', 'pos': 'DF', 'age': 34, 'caps': '135', 'goals': '7', 'country': 'Saudi Arabia', 'club': 'Al-Hilal', 'Top League': 0, 'CL League 2017-2018': 0}, {'name': 'Ali Al-Bulaihi', 'pos': 'DF', 'age': 28, 'caps': '4', 'goals': '0', 'country': 'Saudi Arabia', 'club': 'Al-Hilal', 'Top League': 0, 'CL League 2017-2018': 0}, {'name': 'Omar Hawsawi', 'pos': 'DF', 'age': 32, 'caps': '42', 'goals': '3', 'country': 'Saudi Arabia', 'club': 'Al-Nassr', 'Top League': 0, 'CL League 2017-2018': 0}, {'name': 'Mohammed Al-Breik', 'pos': 'DF', 'age': 25, 'caps': '11', 'goals': '1', 'country': 'Saudi Arabia', 'club': 'Al-Hilal', 'Top League': 0, 'CL League 2017-2018': 0}, {'name': 'Salman Al-Faraj', 'pos': 'MF', 'age': 28, 'caps': '43', 'goals': '3', 'country': 'Saudi Arabia', 'club': 'Al-Hilal', 'Top League': 0, 'CL League 2017-2018': 0}, {'name': 'Yahya Al-Shehri', 'pos': 'MF', 'age': 28, 'caps': '57', 'goals': '8', 'country': 'Saudi Arabia', 'club': 'Leganés', 'Top League': 1, 'CL League 2017-2018': 0}, {'name': 'Hattan Bahebri', 'pos': 'MF', 'age': 25, 'caps': '5', 'goals': '0', 'country': 'Saudi Arabia', 'club': 'Al-Shabab', 'Top League': 0, 'CL League 2017-2018': 0}, {'name': 'Mohammad Al-Sahlawi', 'pos': 'FW', 'age': 31, 'caps': '40', 'goals': '28', 'country': 'Saudi Arabia', 'club': 'Al-Nassr', 'Top League': 0, 'CL League 2017-2018': 0}, {'name': 'Abdulmalek Al-Khaibri', 'pos': 'MF', 'age': 32, 'caps': '36', 'goals': '0', 'country': 'Saudi Arabia', 'club': 'Al-Hilal', 'Top League': 0, 'CL League 2017-2018': 0}, {'name': 'Mohamed Kanno', 'pos': 'MF', 'age': 23, 'caps': '6', 'goals': '1', 'country': 'Saudi Arabia', 'club': 'Al-Hilal', 'Top League': 0, 'CL League 2017-2018': 0}, {'name': 'Yasser Al-Shahrani', 'pos': 'DF', 'age': 26, 'caps': '37', 'goals': '0', 'country': 'Saudi Arabia', 'club': 'Al-Hilal', 'Top League': 0, 'CL League 2017-2018': 0}, {'name': 'Abdullah Otayf', 'pos': 'MF', 'age': 25, 'caps': '16', 'goals': '1', 'country': 'Saudi Arabia', 'club': 'Al-Hilal', 'Top League': 0, 'CL League 2017-2018': 0}, {'name': 'Abdullah Al-Khaibari', 'pos': 'MF', 'age': 21, 'caps': '5', 'goals': '0', 'country': 'Saudi Arabia', 'club': 'Al-Shabab', 'Top League': 0, 'CL League 2017-2018': 0}, {'name': 'Housain Al-Mogahwi', 'pos': 'MF', 'age': 30, 'caps': '18', 'goals': '1', 'country': 'Saudi Arabia', 'club': 'Al-Ahli', 'Top League': 0, 'CL League 2017-2018': 0}, {'name': 'Taisir Al-Jassim', 'pos': 'MF', 'age': 33, 'caps': '132', 'goals': '19', 'country': 'Saudi Arabia', 'club': 'Al-Ahli', 'Top League': 0, 'CL League 2017-2018': 0}, {'name': 'Salem Al-Dawsari', 'pos': 'MF', 'age': 26, 'caps': '33', 'goals': '4', 'country': 'Saudi Arabia', 'club': 'Villarreal', 'Top League': 1, 'CL League 2017-2018': 0}, {'name': 'Fahad Al-Muwallad', 'pos': 'FW', 'age': 23, 'caps': '45', 'goals': '10', 'country': 'Saudi Arabia', 'club': 'Levante', 'Top League': 1, 'CL League 2017-2018': 0}, {'name': 'Muhannad Assiri', 'pos': 'FW', 'age': 31, 'caps': '18', 'goals': '4', 'country': 'Saudi Arabia', 'club': 'Al-Ahli', 'Top League': 0, 'CL League 2017-2018': 0}, {'name': 'Yasser Al-Mosailem', 'pos': 'GK', 'age': 34, 'caps': '32', 'goals': '0', 'country': 'Saudi Arabia', 'club': 'Al-Ahli', 'Top League': 0, 'CL League 2017-2018': 0}, {'name': 'Mohammed Al-Owais', 'pos': 'GK', 'age': 26, 'caps': '6', 'goals': '0', 'country': 'Saudi Arabia', 'club': 'Al-Ahli', 'Top League': 0, 'CL League 2017-2018': 0}, {'name': 'Motaz Hawsawi', 'pos': 'DF', 'age': 26, 'caps': '17', 'goals': '0', 'country': 'Saudi Arabia', 'club': 'Al-Ahli', 'Top League': 0, 'CL League 2017-2018': 0}, {'name': 'Fernando Muslera', 'pos': 'GK', 'age': 32, 'caps': '97', 'goals': '0', 'country': 'Uruguay', 'club': 'Galatasaray', 'Top League': 0, 'CL League 2017-2018': 0}, {'name': 'José Giménez', 'pos': 'DF', 'age': 23, 'caps': '42', 'goals': '5', 'country': 'Uruguay', 'club': 'Atlético Madrid', 'Top League': 1, 'CL League 2017-2018': 1}, {'name': 'Diego Godín', 'pos': 'DF', 'age': 32, 'caps': '116', 'goals': '8', 'country': 'Uruguay', 'club': 'Atlético Madrid', 'Top League': 1, 'CL League 2017-2018': 1}, {'name': 'Guillermo Varela', 'pos': 'DF', 'age': 25, 'caps': '3', 'goals': '0', 'country': 'Uruguay', 'club': 'Peñarol', 'Top League': 0, 'CL League 2017-2018': 0}, {'name': 'Carlos Sánchez', 'pos': 'MF', 'age': 33, 'caps': '36', 'goals': '1', 'country': 'Uruguay', 'club': 'Monterrey', 'Top League': 0, 'CL League 2017-2018': 0}, {'name': 'Rodrigo Bentancur', 'pos': 'MF', 'age': 21, 'caps': '7', 'goals': '0', 'country': 'Uruguay', 'club': 'Juventus', 'Top League': 1, 'CL League 2017-2018': 1}, {'name': 'Cristian Rodríguez', 'pos': 'MF', 'age': 32, 'caps': '105', 'goals': '11', 'country': 'Uruguay', 'club': 'Peñarol', 'Top League': 0, 'CL League 2017-2018': 0}, {'name': 'Nahitan Nández', 'pos': 'MF', 'age': 22, 'caps': '12', 'goals': '0', 'country': 'Uruguay', 'club': 'Boca Juniors', 'Top League': 0, 'CL League 2017-2018': 0}, {'name': 'Luis Suárez', 'pos': 'FW', 'age': 31, 'caps': '98', 'goals': '51', 'country': 'Uruguay', 'club': 'Barcelona', 'Top League': 1, 'CL League 2017-2018': 1}, {'name': 'Giorgian De Arrascaeta', 'pos': 'FW', 'age': 24, 'caps': '14', 'goals': '2', 'country': 'Uruguay', 'club': 'Cruzeiro', 'Top League': 0, 'CL League 2017-2018': 0}, {'name': 'Cristhian Stuani', 'pos': 'FW', 'age': 31, 'caps': '41', 'goals': '5', 'country': 'Uruguay', 'club': 'Girona', 'Top League': 1, 'CL League 2017-2018': 0}, {'name': 'Martín Campaña', 'pos': 'GK', 'age': 29, 'caps': '1', 'goals': '0', 'country': 'Uruguay', 'club': 'Independiente', 'Top League': 0, 'CL League 2017-2018': 0}, {'name': 'Gastón Silva', 'pos': 'DF', 'age': 24, 'caps': '17', 'goals': '0', 'country': 'Uruguay', 'club': 'Independiente', 'Top League': 0, 'CL League 2017-2018': 0}, {'name': 'Lucas Torreira', 'pos': 'MF', 'age': 22, 'caps': '3', 'goals': '0', 'country': 'Uruguay', 'club': 'Sampdoria', 'Top League': 1, 'CL League 2017-2018': 0}, {'name': 'Matías Vecino', 'pos': 'MF', 'age': 26, 'caps': '22', 'goals': '1', 'country': 'Uruguay', 'club': 'Inter Milan', 'Top League': 1, 'CL League 2017-2018': 0}, {'name': 'Maxi Pereira', 'pos': 'DF', 'age': 34, 'caps': '125', 'goals': '3', 'country': 'Uruguay', 'club': 'Porto', 'Top League': 0, 'CL League 2017-2018': 1}, {'name': 'Diego Laxalt', 'pos': 'MF', 'age': 25, 'caps': '6', 'goals': '0', 'country': 'Uruguay', 'club': 'Genoa', 'Top League': 1, 'CL League 2017-2018': 0}, {'name': 'Maxi Gómez', 'pos': 'FW', 'age': 21, 'caps': '5', 'goals': '0', 'country': 'Uruguay', 'club': 'Celta Vigo', 'Top League': 1, 'CL League 2017-2018': 0}, {'name': 'Sebastián Coates', 'pos': 'DF', 'age': 27, 'caps': '30', 'goals': '1', 'country': 'Uruguay', 'club': 'Sporting CP', 'Top League': 0, 'CL League 2017-2018': 1}, {'name': 'Jonathan Urretaviscaya', 'pos': 'FW', 'age': 28, 'caps': '4', 'goals': '0', 'country': 'Uruguay', 'club': 'Monterrey', 'Top League': 0, 'CL League 2017-2018': 0}, {'name': 'Edinson Cavani', 'pos': 'FW', 'age': 31, 'caps': '101', 'goals': '42', 'country': 'Uruguay', 'club': 'Paris Saint-Germain', 'Top League': 1, 'CL League 2017-2018': 1}, {'name': 'Martín Cáceres', 'pos': 'DF', 'age': 31, 'caps': '76', 'goals': '4', 'country': 'Uruguay', 'club': 'Lazio', 'Top League': 1, 'CL League 2017-2018': 0}, {'name': 'Martín Silva', 'pos': 'GK', 'age': 35, 'caps': '11', 'goals': '0', 'country': 'Uruguay', 'club': 'Vasco da Gama', 'Top League': 0, 'CL League 2017-2018': 0}, {'name': 'Alireza Beiranvand', 'pos': 'GK', 'age': 25, 'caps': '22', 'goals': '0', 'country': 'Iran', 'club': 'Persepolis', 'Top League': 0, 'CL League 2017-2018': 0}, {'name': 'Mehdi Torabi', 'pos': 'MF', 'age': 23, 'caps': '17', 'goals': '4', 'country': 'Iran', 'club': 'Saipa', 'Top League': 0, 'CL League 2017-2018': 0}, {'name': 'Ehsan Hajsafi', 'pos': 'DF', 'age': 28, 'caps': '94', 'goals': '6', 'country': 'Iran', 'club': 'Olympiacos', 'Top League': 0, 'CL League 2017-2018': 1}, {'name': 'Rouzbeh Cheshmi', 'pos': 'DF', 'age': 24, 'caps': '10', 'goals': '1', 'country': 'Iran', 'club': 'Esteghlal', 'Top League': 0, 'CL League 2017-2018': 0}, {'name': 'Milad Mohammadi', 'pos': 'DF', 'age': 24, 'caps': '19', 'goals': '0', 'country': 'Iran', 'club': 'Akhmat Grozny', 'Top League': 0, 'CL League 2017-2018': 0}, {'name': 'Saeid Ezatolahi', 'pos': 'MF', 'age': 21, 'caps': '25', 'goals': '1', 'country': 'Iran', 'club': 'Amkar Perm', 'Top League': 0, 'CL League 2017-2018': 0}, {'name': 'Masoud Shojaei', 'pos': 'MF', 'age': 34, 'caps': '74', 'goals': '8', 'country': 'Iran', 'club': 'AEK Athens', 'Top League': 0, 'CL League 2017-2018': 0}, {'name': 'Morteza Pouraliganji', 'pos': 'DF', 'age': 26, 'caps': '27', 'goals': '2', 'country': 'Iran', 'club': 'Al-Sadd', 'Top League': 0, 'CL League 2017-2018': 0}, {'name': 'Omid Ebrahimi', 'pos': 'MF', 'age': 30, 'caps': '30', 'goals': '0', 'country': 'Iran', 'club': 'Esteghlal', 'Top League': 0, 'CL League 2017-2018': 0}, {'name': 'Karim Ansarifard', 'pos': 'FW', 'age': 28, 'caps': '64', 'goals': '17', 'country': 'Iran', 'club': 'Olympiacos', 'Top League': 0, 'CL League 2017-2018': 1}, {'name': 'Vahid Amiri', 'pos': 'MF', 'age': 30, 'caps': '36', 'goals': '1', 'country': 'Iran', 'club': 'Persepolis', 'Top League': 0, 'CL League 2017-2018': 0}, {'name': 'Mohammad Rashid Mazaheri', 'pos': 'GK', 'age': 29, 'caps': '3', 'goals': '0', 'country': 'Iran', 'club': 'Zob Ahan', 'Top League': 0, 'CL League 2017-2018': 0}, {'name': 'Mohammad Reza Khanzadeh', 'pos': 'DF', 'age': 27, 'caps': '11', 'goals': '1', 'country': 'Iran', 'club': 'Padideh', 'Top League': 0, 'CL League 2017-2018': 0}, {'name': 'Saman Ghoddos', 'pos': 'FW', 'age': 24, 'caps': '8', 'goals': '1', 'country': 'Iran', 'club': 'Östersund', 'Top League': 0, 'CL League 2017-2018': 0}, {'name': 'Pejman Montazeri', 'pos': 'DF', 'age': 34, 'caps': '46', 'goals': '1', 'country': 'Iran', 'club': 'Esteghlal', 'Top League': 0, 'CL League 2017-2018': 0}, {'name': 'Reza Ghoochannejhad', 'pos': 'FW', 'age': 30, 'caps': '43', 'goals': '17', 'country': 'Iran', 'club': 'Heerenveen', 'Top League': 0, 'CL League 2017-2018': 0}, {'name': 'Mehdi Taremi', 'pos': 'FW', 'age': 25, 'caps': '26', 'goals': '11', 'country': 'Iran', 'club': 'Al-Gharafa', 'Top League': 0, 'CL League 2017-2018': 0}, {'name': 'Alireza Jahanbakhsh', 'pos': 'FW', 'age': 24, 'caps': '38', 'goals': '4', 'country': 'Iran', 'club': 'AZ', 'Top League': 0, 'CL League 2017-2018': 0}, {'name': 'Majid Hosseini', 'pos': 'DF', 'age': 22, 'caps': '1', 'goals': '0', 'country': 'Iran', 'club': 'Esteghlal', 'Top League': 0, 'CL League 2017-2018': 0}, {'name': 'Sardar Azmoun', 'pos': 'FW', 'age': 23, 'caps': '33', 'goals': '23', 'country': 'Iran', 'club': 'Rubin Kazan', 'Top League': 0, 'CL League 2017-2018': 0}, {'name': 'Ashkan Dejagah', 'pos': 'FW', 'age': 31, 'caps': '46', 'goals': '9', 'country': 'Iran', 'club': 'Nottingham Forest', 'Top League': 1, 'CL League 2017-2018': 0}, {'name': 'Amir Abedzadeh', 'pos': 'GK', 'age': 25, 'caps': '1', 'goals': '0', 'country': 'Iran', 'club': 'Marítimo', 'Top League': 0, 'CL League 2017-2018': 0}, {'name': 'Ramin Rezaeian', 'pos': 'DF', 'age': 28, 'caps': '28', 'goals': '2', 'country': 'Iran', 'club': 'Oostende', 'Top League': 0, 'CL League 2017-2018': 0}, {'name': 'Yassine Bounou', 'pos': 'GK', 'age': 27, 'caps': '11', 'goals': '0', 'country': 'Morocco', 'club': 'Girona', 'Top League': 1, 'CL League 2017-2018': 0}, {'name': 'Achraf Hakimi', 'pos': 'DF', 'age': 19, 'caps': '10', 'goals': '1', 'country': 'Morocco', 'club': 'Real Madrid', 'Top League': 1, 'CL League 2017-2018': 1}, {'name': 'Hamza Mendyl', 'pos': 'DF', 'age': 20, 'caps': '13', 'goals': '0', 'country': 'Morocco', 'club': 'Lille', 'Top League': 1, 'CL League 2017-2018': 0}, {'name': 'Manuel da Costa', 'pos': 'DF', 'age': 32, 'caps': '28', 'goals': '1', 'country': 'Morocco', 'club': 'İstanbul Başakşehir', 'Top League': 0, 'CL League 2017-2018': 0}, {'name': 'Medhi Benatia', 'pos': 'DF', 'age': 31, 'caps': '57', 'goals': '2', 'country': 'Morocco', 'club': 'Juventus', 'Top League': 1, 'CL League 2017-2018': 1}, {'name': 'Romain Saïss', 'pos': 'DF', 'age': 28, 'caps': '24', 'goals': '1', 'country': 'Morocco', 'club': 'Wolverhampton Wanderers', 'Top League': 1, 'CL League 2017-2018': 0}, {'name': 'Hakim Ziyech', 'pos': 'MF', 'age': 25, 'caps': '18', 'goals': '9', 'country': 'Morocco', 'club': 'Ajax', 'Top League': 0, 'CL League 2017-2018': 0}, {'name': 'Karim El Ahmadi', 'pos': 'MF', 'age': 33, 'caps': '51', 'goals': '1', 'country': 'Morocco', 'club': 'Feyenoord', 'Top League': 0, 'CL League 2017-2018': 1}, {'name': 'Ayoub El Kaabi', 'pos': 'FW', 'age': 25, 'caps': '10', 'goals': '11', 'country': 'Morocco', 'club': 'RS Berkane', 'Top League': 0, 'CL League 2017-2018': 0}, {'name': 'Younès Belhanda', 'pos': 'MF', 'age': 28, 'caps': '47', 'goals': '5', 'country': 'Morocco', 'club': 'Galatasaray', 'Top League': 0, 'CL League 2017-2018': 0}, {'name': 'Fayçal Fajr', 'pos': 'MF', 'age': 29, 'caps': '23', 'goals': '2', 'country': 'Morocco', 'club': 'Getafe', 'Top League': 1, 'CL League 2017-2018': 0}, {'name': 'Munir Mohamedi', 'pos': 'GK', 'age': 29, 'caps': '27', 'goals': '0', 'country': 'Morocco', 'club': 'Numancia', 'Top League': 1, 'CL League 2017-2018': 0}, {'name': 'Khalid Boutaïb', 'pos': 'FW', 'age': 31, 'caps': '18', 'goals': '7', 'country': 'Morocco', 'club': 'Yeni Malatyaspor', 'Top League': 0, 'CL League 2017-2018': 0}, {'name': 'Mbark Boussoufa', 'pos': 'MF', 'age': 33, 'caps': '59', 'goals': '7', 'country': 'Morocco', 'club': 'Al-Jazira', 'Top League': 0, 'CL League 2017-2018': 0}, {'name': 'Youssef Aït Bennasser', 'pos': 'MF', 'age': 21, 'caps': '14', 'goals': '0', 'country': 'Morocco', 'club': 'Caen', 'Top League': 1, 'CL League 2017-2018': 0}, {'name': 'Nordin Amrabat', 'pos': 'MF', 'age': 31, 'caps': '44', 'goals': '4', 'country': 'Morocco', 'club': 'Leganés', 'Top League': 1, 'CL League 2017-2018': 0}, {'name': 'Nabil Dirar', 'pos': 'DF', 'age': 32, 'caps': '34', 'goals': '3', 'country': 'Morocco', 'club': 'Fenerbahçe', 'Top League': 0, 'CL League 2017-2018': 0}, {'name': 'Amine Harit', 'pos': 'MF', 'age': 21, 'caps': '6', 'goals': '0', 'country': 'Morocco', 'club': 'Schalke 04', 'Top League': 1, 'CL League 2017-2018': 0}, {'name': 'Youssef En-Nesyri', 'pos': 'FW', 'age': 21, 'caps': '16', 'goals': '2', 'country': 'Morocco', 'club': 'Málaga', 'Top League': 1, 'CL League 2017-2018': 0}, {'name': 'Aziz Bouhaddouz', 'pos': 'FW', 'age': 31, 'caps': '15', 'goals': '3', 'country': 'Morocco', 'club': 'FC St. Pauli', 'Top League': 1, 'CL League 2017-2018': 0}, {'name': 'Sofyan Amrabat', 'pos': 'MF', 'age': 21, 'caps': '6', 'goals': '0', 'country': 'Morocco', 'club': 'Feyenoord', 'Top League': 0, 'CL League 2017-2018': 1}, {'name': 'Ahmed Reda Tagnaouti', 'pos': 'GK', 'age': 22, 'caps': '2', 'goals': '0', 'country': 'Morocco', 'club': 'IR Tanger', 'Top League': 0, 'CL League 2017-2018': 0}, {'name': 'Mehdi Carcela', 'pos': 'MF', 'age': 29, 'caps': '20', 'goals': '1', 'country': 'Morocco', 'club': 'Standard Liège', 'Top League': 0, 'CL League 2017-2018': 0}, {'name': 'Rui Patrício', 'pos': 'GK', 'age': 30, 'caps': '69', 'goals': '0', 'country': 'Portugal', 'club': 'Sporting CP', 'Top League': 0, 'CL League 2017-2018': 1}, {'name': 'Bruno Alves', 'pos': 'DF', 'age': 36, 'caps': '96', 'goals': '11', 'country': 'Portugal', 'club': 'Rangers', 'Top League': 0, 'CL League 2017-2018': 0}, {'name': 'Pepe', 'pos': 'DF', 'age': 35, 'caps': '95', 'goals': '5', 'country': 'Portugal', 'club': 'Beşiktaş', 'Top League': 0, 'CL League 2017-2018': 1}, {'name': 'Manuel Fernandes', 'pos': 'MF', 'age': 32, 'caps': '14', 'goals': '3', 'country': 'Portugal', 'club': 'Lokomotiv Moscow', 'Top League': 0, 'CL League 2017-2018': 0}, {'name': 'Raphaël Guerreiro', 'pos': 'DF', 'age': 24, 'caps': '24', 'goals': '2', 'country': 'Portugal', 'club': 'Borussia Dortmund', 'Top League': 1, 'CL League 2017-2018': 1}, {'name': 'José Fonte', 'pos': 'DF', 'age': 34, 'caps': '31', 'goals': '0', 'country': 'Portugal', 'club': 'Dalian Yifang', 'Top League': 0, 'CL League 2017-2018': 0}, {'name': 'Cristiano Ronaldo', 'pos': 'FW', 'age': 33, 'caps': '150', 'goals': '81', 'country': 'Portugal', 'club': 'Real Madrid', 'Top League': 1, 'CL League 2017-2018': 1}, {'name': 'João Moutinho', 'pos': 'MF', 'age': 31, 'caps': '110', 'goals': '7', 'country': 'Portugal', 'club': 'Monaco', 'Top League': 1, 'CL League 2017-2018': 1}, {'name': 'André Silva', 'pos': 'FW', 'age': 22, 'caps': '23', 'goals': '12', 'country': 'Portugal', 'club': 'Milan', 'Top League': 1, 'CL League 2017-2018': 0}, {'name': 'João Mário', 'pos': 'MF', 'age': 25, 'caps': '36', 'goals': '2', 'country': 'Portugal', 'club': 'West Ham United', 'Top League': 1, 'CL League 2017-2018': 0}, {'name': 'Bernardo Silva', 'pos': 'MF', 'age': 23, 'caps': '25', 'goals': '2', 'country': 'Portugal', 'club': 'Manchester City', 'Top League': 1, 'CL League 2017-2018': 1}, {'name': 'Anthony Lopes', 'pos': 'GK', 'age': 27, 'caps': '7', 'goals': '0', 'country': 'Portugal', 'club': 'Lyon', 'Top League': 1, 'CL League 2017-2018': 0}, {'name': 'Rúben Dias', 'pos': 'DF', 'age': 21, 'caps': '1', 'goals': '0', 'country': 'Portugal', 'club': 'Benfica', 'Top League': 0, 'CL League 2017-2018': 1}, {'name': 'William Carvalho', 'pos': 'MF', 'age': 26, 'caps': '43', 'goals': '2', 'country': 'Portugal', 'club': 'Sporting CP', 'Top League': 0, 'CL League 2017-2018': 1}, {'name': 'Ricardo Pereira', 'pos': 'DF', 'age': 24, 'caps': '4', 'goals': '0', 'country': 'Portugal', 'club': 'Porto', 'Top League': 0, 'CL League 2017-2018': 1}, {'name': 'Bruno Fernandes', 'pos': 'MF', 'age': 23, 'caps': '6', 'goals': '1', 'country': 'Portugal', 'club': 'Sporting CP', 'Top League': 0, 'CL League 2017-2018': 1}, {'name': 'Gonçalo Guedes', 'pos': 'FW', 'age': 21, 'caps': '10', 'goals': '3', 'country': 'Portugal', 'club': 'Valencia', 'Top League': 1, 'CL League 2017-2018': 0}, {'name': 'Gelson Martins', 'pos': 'FW', 'age': 23, 'caps': '18', 'goals': '0', 'country': 'Portugal', 'club': 'Sporting CP', 'Top League': 0, 'CL League 2017-2018': 1}, {'name': 'Mário Rui', 'pos': 'DF', 'age': 27, 'caps': '4', 'goals': '0', 'country': 'Portugal', 'club': 'Napoli', 'Top League': 1, 'CL League 2017-2018': 1}, {'name': 'Ricardo Quaresma', 'pos': 'FW', 'age': 34, 'caps': '77', 'goals': '9', 'country': 'Portugal', 'club': 'Beşiktaş', 'Top League': 0, 'CL League 2017-2018': 1}, {'name': 'Cédric', 'pos': 'DF', 'age': 26, 'caps': '29', 'goals': '1', 'country': 'Portugal', 'club': 'Southampton', 'Top League': 1, 'CL League 2017-2018': 0}, {'name': 'Beto', 'pos': 'GK', 'age': 36, 'caps': '14', 'goals': '0', 'country': 'Portugal', 'club': 'Göztepe', 'Top League': 0, 'CL League 2017-2018': 0}, {'name': 'Adrien Silva', 'pos': 'MF', 'age': 29, 'caps': '23', 'goals': '1', 'country': 'Portugal', 'club': 'Leicester City', 'Top League': 1, 'CL League 2017-2018': 0}, {'name': 'David de Gea', 'pos': 'GK', 'age': 27, 'caps': '29', 'goals': '0', 'country': 'Spain', 'club': 'Manchester United', 'Top League': 1, 'CL League 2017-2018': 1}, {'name': 'Dani Carvajal', 'pos': 'DF', 'age': 26, 'caps': '15', 'goals': '0', 'country': 'Spain', 'club': 'Real Madrid', 'Top League': 1, 'CL League 2017-2018': 1}, {'name': 'Gerard Piqué', 'pos': 'DF', 'age': 31, 'caps': '98', 'goals': '5', 'country': 'Spain', 'club': 'Barcelona', 'Top League': 1, 'CL League 2017-2018': 1}, {'name': 'Nacho', 'pos': 'DF', 'age': 28, 'caps': '17', 'goals': '0', 'country': 'Spain', 'club': 'Real Madrid', 'Top League': 1, 'CL League 2017-2018': 1}, {'name': 'Sergio Busquets', 'pos': 'MF', 'age': 29, 'caps': '103', 'goals': '2', 'country': 'Spain', 'club': 'Barcelona', 'Top League': 1, 'CL League 2017-2018': 1}, {'name': 'Andrés Iniesta', 'pos': 'MF', 'age': 34, 'caps': '127', 'goals': '14', 'country': 'Spain', 'club': 'Barcelona', 'Top League': 1, 'CL League 2017-2018': 1}, {'name': 'Saúl', 'pos': 'MF', 'age': 23, 'caps': '10', 'goals': '0', 'country': 'Spain', 'club': 'Atlético Madrid', 'Top League': 1, 'CL League 2017-2018': 1}, {'name': 'Koke', 'pos': 'MF', 'age': 26, 'caps': '40', 'goals': '0', 'country': 'Spain', 'club': 'Atlético Madrid', 'Top League': 1, 'CL League 2017-2018': 1}, {'name': 'Rodrigo', 'pos': 'FW', 'age': 27, 'caps': '6', 'goals': '2', 'country': 'Spain', 'club': 'Valencia', 'Top League': 1, 'CL League 2017-2018': 0}, {'name': 'Thiago', 'pos': 'MF', 'age': 27, 'caps': '29', 'goals': '2', 'country': 'Spain', 'club': 'Bayern Munich', 'Top League': 1, 'CL League 2017-2018': 1}, {'name': 'Lucas Vázquez', 'pos': 'FW', 'age': 27, 'caps': '7', 'goals': '0', 'country': 'Spain', 'club': 'Real Madrid', 'Top League': 1, 'CL League 2017-2018': 1}, {'name': 'Álvaro Odriozola', 'pos': 'DF', 'age': 22, 'caps': '4', 'goals': '1', 'country': 'Spain', 'club': 'Real Sociedad', 'Top League': 1, 'CL League 2017-2018': 0}, {'name': 'Kepa Arrizabalaga', 'pos': 'GK', 'age': 23, 'caps': '1', 'goals': '0', 'country': 'Spain', 'club': 'Athletic Bilbao', 'Top League': 1, 'CL League 2017-2018': 0}, {'name': 'César Azpilicueta', 'pos': 'DF', 'age': 28, 'caps': '22', 'goals': '0', 'country': 'Spain', 'club': 'Chelsea', 'Top League': 1, 'CL League 2017-2018': 1}, {'name': 'Sergio Ramos', 'pos': 'DF', 'age': 32, 'caps': '152', 'goals': '13', 'country': 'Spain', 'club': 'Real Madrid', 'Top League': 1, 'CL League 2017-2018': 1}, {'name': 'Nacho Monreal', 'pos': 'DF', 'age': 32, 'caps': '22', 'goals': '1', 'country': 'Spain', 'club': 'Arsenal', 'Top League': 1, 'CL League 2017-2018': 0}, {'name': 'Iago Aspas', 'pos': 'FW', 'age': 30, 'caps': '10', 'goals': '5', 'country': 'Spain', 'club': 'Celta Vigo', 'Top League': 1, 'CL League 2017-2018': 0}, {'name': 'Jordi Alba', 'pos': 'DF', 'age': 29, 'caps': '62', 'goals': '8', 'country': 'Spain', 'club': 'Barcelona', 'Top League': 1, 'CL League 2017-2018': 1}, {'name': 'Diego Costa', 'pos': 'FW', 'age': 29, 'caps': '20', 'goals': '7', 'country': 'Spain', 'club': 'Atlético Madrid', 'Top League': 1, 'CL League 2017-2018': 1}, {'name': 'Marco Asensio', 'pos': 'MF', 'age': 22, 'caps': '12', 'goals': '0', 'country': 'Spain', 'club': 'Real Madrid', 'Top League': 1, 'CL League 2017-2018': 1}, {'name': 'David Silva', 'pos': 'FW', 'age': 32, 'caps': '121', 'goals': '35', 'country': 'Spain', 'club': 'Manchester City', 'Top League': 1, 'CL League 2017-2018': 1}, {'name': 'Isco', 'pos': 'MF', 'age': 26, 'caps': '28', 'goals': '10', 'country': 'Spain', 'club': 'Real Madrid', 'Top League': 1, 'CL League 2017-2018': 1}, {'name': 'Pepe Reina', 'pos': 'GK', 'age': 35, 'caps': '36', 'goals': '0', 'country': 'Spain', 'club': 'Napoli', 'Top League': 1, 'CL League 2017-2018': 1}, {'name': 'Mathew Ryan', 'pos': 'GK', 'age': 26, 'caps': '44', 'goals': '0', 'country': 'Australia', 'club': 'Brighton & Hove Albion', 'Top League': 1, 'CL League 2017-2018': 0}, {'name': 'Milos Degenek', 'pos': 'DF', 'age': 24, 'caps': '18', 'goals': '0', 'country': 'Australia', 'club': 'Yokohama F. Marinos', 'Top League': 0, 'CL League 2017-2018': 0}, {'name': 'James Meredith', 'pos': 'DF', 'age': 30, 'caps': '2', 'goals': '0', 'country': 'Australia', 'club': 'Millwall', 'Top League': 1, 'CL League 2017-2018': 0}, {'name': 'Tim Cahill', 'pos': 'FW', 'age': 38, 'caps': '106', 'goals': '50', 'country': 'Australia', 'club': 'Millwall', 'Top League': 1, 'CL League 2017-2018': 0}, {'name': 'Mark Milligan', 'pos': 'DF', 'age': 32, 'caps': '71', 'goals': '6', 'country': 'Australia', 'club': 'Al-Ahli', 'Top League': 0, 'CL League 2017-2018': 0}, {'name': 'Matthew Jurman', 'pos': 'DF', 'age': 28, 'caps': '4', 'goals': '0', 'country': 'Australia', 'club': 'Suwon Samsung Bluewings', 'Top League': 0, 'CL League 2017-2018': 0}, {'name': 'Mathew Leckie', 'pos': 'FW', 'age': 27, 'caps': '53', 'goals': '8', 'country': 'Australia', 'club': 'Hertha BSC', 'Top League': 1, 'CL League 2017-2018': 0}, {'name': 'Massimo Luongo', 'pos': 'MF', 'age': 25, 'caps': '36', 'goals': '5', 'country': 'Australia', 'club': 'Queens Park Rangers', 'Top League': 1, 'CL League 2017-2018': 0}, {'name': 'Tomi Juric', 'pos': 'FW', 'age': 26, 'caps': '35', 'goals': '8', 'country': 'Australia', 'club': 'Luzern', 'Top League': 0, 'CL League 2017-2018': 0}, {'name': 'Robbie Kruse', 'pos': 'FW', 'age': 29, 'caps': '64', 'goals': '5', 'country': 'Australia', 'club': 'VfL Bochum', 'Top League': 1, 'CL League 2017-2018': 0}, {'name': 'Andrew Nabbout', 'pos': 'FW', 'age': 25, 'caps': '4', 'goals': '1', 'country': 'Australia', 'club': 'Urawa Red Diamonds', 'Top League': 0, 'CL League 2017-2018': 0}, {'name': 'Brad Jones', 'pos': 'GK', 'age': 36, 'caps': '6', 'goals': '0', 'country': 'Australia', 'club': 'Feyenoord', 'Top League': 0, 'CL League 2017-2018': 1}, {'name': 'Aaron Mooy', 'pos': 'MF', 'age': 27, 'caps': '34', 'goals': '5', 'country': 'Australia', 'club': 'Huddersfield Town', 'Top League': 1, 'CL League 2017-2018': 0}, {'name': 'Jamie Maclaren', 'pos': 'FW', 'age': 24, 'caps': '6', 'goals': '0', 'country': 'Australia', 'club': 'Hibernian', 'Top League': 0, 'CL League 2017-2018': 0}, {'name': 'Mile Jedinak', 'pos': 'MF', 'age': 33, 'caps': '76', 'goals': '18', 'country': 'Australia', 'club': 'Aston Villa', 'Top League': 1, 'CL League 2017-2018': 0}, {'name': 'Aziz Behich', 'pos': 'DF', 'age': 27, 'caps': '23', 'goals': '2', 'country': 'Australia', 'club': 'Bursaspor', 'Top League': 0, 'CL League 2017-2018': 0}, {'name': 'Daniel Arzani', 'pos': 'FW', 'age': 19, 'caps': '2', 'goals': '1', 'country': 'Australia', 'club': 'Melbourne City', 'Top League': 0, 'CL League 2017-2018': 0}, {'name': 'Danny Vukovic', 'pos': 'GK', 'age': 33, 'caps': '1', 'goals': '0', 'country': 'Australia', 'club': 'Genk', 'Top League': 0, 'CL League 2017-2018': 0}, {'name': 'Josh Risdon', 'pos': 'DF', 'age': 25, 'caps': '8', 'goals': '0', 'country': 'Australia', 'club': 'Western Sydney Wanderers', 'Top League': 0, 'CL League 2017-2018': 0}, {'name': 'Trent Sainsbury', 'pos': 'DF', 'age': 26, 'caps': '35', 'goals': '3', 'country': 'Australia', 'club': 'Grasshoppers', 'Top League': 0, 'CL League 2017-2018': 0}, {'name': 'Dimitri Petratos', 'pos': 'FW', 'age': 25, 'caps': '2', 'goals': '0', 'country': 'Australia', 'club': 'Newcastle Jets', 'Top League': 0, 'CL League 2017-2018': 0}, {'name': 'Jackson Irvine', 'pos': 'MF', 'age': 25, 'caps': '19', 'goals': '2', 'country': 'Australia', 'club': 'Hull City', 'Top League': 1, 'CL League 2017-2018': 0}, {'name': 'Tom Rogic', 'pos': 'MF', 'age': 25, 'caps': '37', 'goals': '7', 'country': 'Australia', 'club': 'Celtic', 'Top League': 0, 'CL League 2017-2018': 1}, {'name': 'Kasper Schmeichel', 'pos': 'GK', 'age': 31, 'caps': '35', 'goals': '0', 'country': 'Denmark', 'club': 'Leicester City', 'Top League': 1, 'CL League 2017-2018': 0}, {'name': 'Michael Krohn-Dehli', 'pos': 'MF', 'age': 35, 'caps': '59', 'goals': '6', 'country': 'Denmark', 'club': 'Deportivo La Coruña', 'Top League': 1, 'CL League 2017-2018': 0}, {'name': 'Jannik Vestergaard', 'pos': 'DF', 'age': 25, 'caps': '16', 'goals': '1', 'country': 'Denmark', 'club': 'Borussia Mönchengladbach', 'Top League': 1, 'CL League 2017-2018': 0}, {'name': 'Simon Kjær', 'pos': 'DF', 'age': 29, 'caps': '78', 'goals': '3', 'country': 'Denmark', 'club': 'Sevilla', 'Top League': 1, 'CL League 2017-2018': 1}, {'name': 'Jonas Knudsen', 'pos': 'DF', 'age': 25, 'caps': '3', 'goals': '0', 'country': 'Denmark', 'club': 'Ipswich Town', 'Top League': 1, 'CL League 2017-2018': 0}, {'name': 'Andreas Christensen', 'pos': 'DF', 'age': 22, 'caps': '16', 'goals': '1', 'country': 'Denmark', 'club': 'Chelsea', 'Top League': 1, 'CL League 2017-2018': 1}, {'name': 'William Kvist', 'pos': 'MF', 'age': 33, 'caps': '80', 'goals': '2', 'country': 'Denmark', 'club': 'Copenhagen', 'Top League': 0, 'CL League 2017-2018': 0}, {'name': 'Thomas Delaney', 'pos': 'MF', 'age': 26, 'caps': '27', 'goals': '4', 'country': 'Denmark', 'club': 'Werder Bremen', 'Top League': 1, 'CL League 2017-2018': 0}, {'name': 'Nicolai Jørgensen', 'pos': 'FW', 'age': 27, 'caps': '31', 'goals': '8', 'country': 'Denmark', 'club': 'Feyenoord', 'Top League': 0, 'CL League 2017-2018': 1}, {'name': 'Christian Eriksen', 'pos': 'MF', 'age': 26, 'caps': '78', 'goals': '22', 'country': 'Denmark', 'club': 'Tottenham Hotspur', 'Top League': 1, 'CL League 2017-2018': 1}, {'name': 'Martin Braithwaite', 'pos': 'FW', 'age': 27, 'caps': '20', 'goals': '1', 'country': 'Denmark', 'club': 'Bordeaux', 'Top League': 1, 'CL League 2017-2018': 0}, {'name': 'Kasper Dolberg', 'pos': 'FW', 'age': 20, 'caps': '6', 'goals': '1', 'country': 'Denmark', 'club': 'Ajax', 'Top League': 0, 'CL League 2017-2018': 0}, {'name': 'Mathias Jørgensen', 'pos': 'DF', 'age': 28, 'caps': '12', 'goals': '0', 'country': 'Denmark', 'club': 'Huddersfield Town', 'Top League': 1, 'CL League 2017-2018': 0}, {'name': 'Henrik Dalsgaard', 'pos': 'DF', 'age': 28, 'caps': '11', 'goals': '0', 'country': 'Denmark', 'club': 'Brentford', 'Top League': 1, 'CL League 2017-2018': 0}, {'name': 'Viktor Fischer', 'pos': 'FW', 'age': 24, 'caps': '19', 'goals': '3', 'country': 'Denmark', 'club': 'Copenhagen', 'Top League': 0, 'CL League 2017-2018': 0}, {'name': 'Jonas Lössl', 'pos': 'GK', 'age': 29, 'caps': '1', 'goals': '0', 'country': 'Denmark', 'club': 'Huddersfield Town', 'Top League': 1, 'CL League 2017-2018': 0}, {'name': 'Jens Stryger Larsen', 'pos': 'DF', 'age': 27, 'caps': '13', 'goals': '1', 'country': 'Denmark', 'club': 'Udinese', 'Top League': 1, 'CL League 2017-2018': 0}, {'name': 'Lukas Lerager', 'pos': 'MF', 'age': 24, 'caps': '4', 'goals': '0', 'country': 'Denmark', 'club': 'Bordeaux', 'Top League': 1, 'CL League 2017-2018': 0}, {'name': 'Lasse Schöne', 'pos': 'MF', 'age': 32, 'caps': '36', 'goals': '3', 'country': 'Denmark', 'club': 'Ajax', 'Top League': 0, 'CL League 2017-2018': 0}, {'name': 'Yussuf Poulsen', 'pos': 'FW', 'age': 24, 'caps': '28', 'goals': '4', 'country': 'Denmark', 'club': 'RB Leipzig', 'Top League': 1, 'CL League 2017-2018': 1}, {'name': 'Andreas Cornelius', 'pos': 'FW', 'age': 25, 'caps': '18', 'goals': '4', 'country': 'Denmark', 'club': 'Atalanta', 'Top League': 1, 'CL League 2017-2018': 0}, {'name': 'Frederik Rønnow', 'pos': 'GK', 'age': 25, 'caps': '6', 'goals': '0', 'country': 'Denmark', 'club': 'Brøndby', 'Top League': 0, 'CL League 2017-2018': 0}, {'name': 'Pione Sisto', 'pos': 'FW', 'age': 23, 'caps': '14', 'goals': '1', 'country': 'Denmark', 'club': 'Celta Vigo', 'Top League': 1, 'CL League 2017-2018': 0}, {'name': 'Hugo Lloris', 'pos': 'GK', 'age': 31, 'caps': '98', 'goals': '0', 'country': 'France', 'club': 'Tottenham Hotspur', 'Top League': 1, 'CL League 2017-2018': 1}, {'name': 'Benjamin Pavard', 'pos': 'DF', 'age': 22, 'caps': '6', 'goals': '0', 'country': 'France', 'club': 'VfB Stuttgart', 'Top League': 1, 'CL League 2017-2018': 0}, {'name': 'Presnel Kimpembe', 'pos': 'DF', 'age': 22, 'caps': '2', 'goals': '0', 'country': 'France', 'club': 'Paris Saint-Germain', 'Top League': 1, 'CL League 2017-2018': 1}, {'name': 'Raphaël Varane', 'pos': 'DF', 'age': 25, 'caps': '42', 'goals': '2', 'country': 'France', 'club': 'Real Madrid', 'Top League': 1, 'CL League 2017-2018': 1}, {'name': 'Samuel Umtiti', 'pos': 'DF', 'age': 24, 'caps': '19', 'goals': '2', 'country': 'France', 'club': 'Barcelona', 'Top League': 1, 'CL League 2017-2018': 1}, {'name': 'Paul Pogba', 'pos': 'MF', 'age': 25, 'caps': '54', 'goals': '9', 'country': 'France', 'club': 'Manchester United', 'Top League': 1, 'CL League 2017-2018': 1}, {'name': 'Antoine Griezmann', 'pos': 'FW', 'age': 27, 'caps': '54', 'goals': '20', 'country': 'France', 'club': 'Atlético Madrid', 'Top League': 1, 'CL League 2017-2018': 1}, {'name': 'Thomas Lemar', 'pos': 'FW', 'age': 22, 'caps': '12', 'goals': '3', 'country': 'France', 'club': 'Monaco', 'Top League': 1, 'CL League 2017-2018': 1}, {'name': 'Olivier Giroud', 'pos': 'FW', 'age': 31, 'caps': '74', 'goals': '31', 'country': 'France', 'club': 'Chelsea', 'Top League': 1, 'CL League 2017-2018': 1}, {'name': 'Kylian Mbappé', 'pos': 'FW', 'age': 19, 'caps': '15', 'goals': '4', 'country': 'France', 'club': 'Paris Saint-Germain', 'Top League': 1, 'CL League 2017-2018': 1}, {'name': 'Ousmane Dembélé', 'pos': 'FW', 'age': 21, 'caps': '12', 'goals': '2', 'country': 'France', 'club': 'Barcelona', 'Top League': 1, 'CL League 2017-2018': 1}, {'name': 'Corentin Tolisso', 'pos': 'MF', 'age': 23, 'caps': '9', 'goals': '0', 'country': 'France', 'club': 'Bayern Munich', 'Top League': 1, 'CL League 2017-2018': 1}, {'name': \"N'Golo Kanté\", 'pos': 'MF', 'age': 27, 'caps': '24', 'goals': '1', 'country': 'France', 'club': 'Chelsea', 'Top League': 1, 'CL League 2017-2018': 1}, {'name': 'Blaise Matuidi', 'pos': 'MF', 'age': 31, 'caps': '67', 'goals': '9', 'country': 'France', 'club': 'Juventus', 'Top League': 1, 'CL League 2017-2018': 1}, {'name': 'Steven Nzonzi', 'pos': 'MF', 'age': 29, 'caps': '4', 'goals': '0', 'country': 'France', 'club': 'Sevilla', 'Top League': 1, 'CL League 2017-2018': 1}, {'name': 'Steve Mandanda', 'pos': 'GK', 'age': 33, 'caps': '27', 'goals': '0', 'country': 'France', 'club': 'Marseille', 'Top League': 1, 'CL League 2017-2018': 0}, {'name': 'Adil Rami', 'pos': 'DF', 'age': 32, 'caps': '35', 'goals': '1', 'country': 'France', 'club': 'Marseille', 'Top League': 1, 'CL League 2017-2018': 0}, {'name': 'Nabil Fekir', 'pos': 'FW', 'age': 24, 'caps': '12', 'goals': '2', 'country': 'France', 'club': 'Lyon', 'Top League': 1, 'CL League 2017-2018': 0}, {'name': 'Djibril Sidibé', 'pos': 'DF', 'age': 25, 'caps': '17', 'goals': '1', 'country': 'France', 'club': 'Monaco', 'Top League': 1, 'CL League 2017-2018': 1}, {'name': 'Florian Thauvin', 'pos': 'FW', 'age': 25, 'caps': '4', 'goals': '0', 'country': 'France', 'club': 'Marseille', 'Top League': 1, 'CL League 2017-2018': 0}, {'name': 'Lucas Hernández', 'pos': 'DF', 'age': 22, 'caps': '5', 'goals': '0', 'country': 'France', 'club': 'Atlético Madrid', 'Top League': 1, 'CL League 2017-2018': 1}, {'name': 'Benjamin Mendy', 'pos': 'DF', 'age': 23, 'caps': '7', 'goals': '0', 'country': 'France', 'club': 'Manchester City', 'Top League': 1, 'CL League 2017-2018': 1}, {'name': 'Alphonse Areola', 'pos': 'GK', 'age': 25, 'caps': '0', 'goals': '0', 'country': 'France', 'club': 'Paris Saint-Germain', 'Top League': 1, 'CL League 2017-2018': 1}, {'name': 'Pedro Gallese', 'pos': 'GK', 'age': 28, 'caps': '38', 'goals': '0', 'country': 'Peru', 'club': 'Veracruz', 'Top League': 0, 'CL League 2017-2018': 0}, {'name': 'Alberto Rodríguez', 'pos': 'DF', 'age': 34, 'caps': '59', 'goals': '0', 'country': 'Peru', 'club': 'Atlético Junior', 'Top League': 0, 'CL League 2017-2018': 0}, {'name': 'Aldo Corzo', 'pos': 'DF', 'age': 29, 'caps': '25', 'goals': '0', 'country': 'Peru', 'club': 'Universitario', 'Top League': 0, 'CL League 2017-2018': 0}, {'name': 'Anderson Santamaría', 'pos': 'DF', 'age': 26, 'caps': '4', 'goals': '0', 'country': 'Peru', 'club': 'Puebla', 'Top League': 0, 'CL League 2017-2018': 0}, {'name': 'Miguel Araujo', 'pos': 'DF', 'age': 23, 'caps': '7', 'goals': '0', 'country': 'Peru', 'club': 'Alianza Lima', 'Top League': 0, 'CL League 2017-2018': 0}, {'name': 'Miguel Trauco', 'pos': 'DF', 'age': 25, 'caps': '27', 'goals': '0', 'country': 'Peru', 'club': 'Flamengo', 'Top League': 0, 'CL League 2017-2018': 0}, {'name': 'Paolo Hurtado', 'pos': 'MF', 'age': 27, 'caps': '31', 'goals': '3', 'country': 'Peru', 'club': 'Vitória de Guimarães', 'Top League': 0, 'CL League 2017-2018': 0}, {'name': 'Christian Cueva', 'pos': 'MF', 'age': 26, 'caps': '44', 'goals': '8', 'country': 'Peru', 'club': 'São Paulo', 'Top League': 0, 'CL League 2017-2018': 0}, {'name': 'Paolo Guerrero', 'pos': 'FW', 'age': 34, 'caps': '88', 'goals': '34', 'country': 'Peru', 'club': 'Flamengo', 'Top League': 0, 'CL League 2017-2018': 0}, {'name': 'Jefferson Farfán', 'pos': 'FW', 'age': 33, 'caps': '84', 'goals': '25', 'country': 'Peru', 'club': 'Lokomotiv Moscow', 'Top League': 0, 'CL League 2017-2018': 0}, {'name': 'Raúl Ruidíaz', 'pos': 'FW', 'age': 27, 'caps': '30', 'goals': '4', 'country': 'Peru', 'club': 'Morelia', 'Top League': 0, 'CL League 2017-2018': 0}, {'name': 'Carlos Cáceda', 'pos': 'GK', 'age': 26, 'caps': '4', 'goals': '0', 'country': 'Peru', 'club': 'Deportivo Municipal', 'Top League': 0, 'CL League 2017-2018': 0}, {'name': 'Renato Tapia', 'pos': 'MF', 'age': 22, 'caps': '23', 'goals': '1', 'country': 'Peru', 'club': 'Feyenoord', 'Top League': 0, 'CL League 2017-2018': 1}, {'name': 'Andy Polo', 'pos': 'MF', 'age': 23, 'caps': '17', 'goals': '1', 'country': 'Peru', 'club': 'Portland Timbers', 'Top League': 0, 'CL League 2017-2018': 0}, {'name': 'Christian Ramos', 'pos': 'DF', 'age': 29, 'caps': '66', 'goals': '3', 'country': 'Peru', 'club': 'Veracruz', 'Top League': 0, 'CL League 2017-2018': 0}, {'name': 'Wilder Cartagena', 'pos': 'MF', 'age': 23, 'caps': '3', 'goals': '0', 'country': 'Peru', 'club': 'Veracruz', 'Top League': 0, 'CL League 2017-2018': 0}, {'name': 'Luis Advíncula', 'pos': 'DF', 'age': 28, 'caps': '65', 'goals': '0', 'country': 'Peru', 'club': 'Lobos BUAP', 'Top League': 0, 'CL League 2017-2018': 0}, {'name': 'André Carrillo', 'pos': 'FW', 'age': 27, 'caps': '45', 'goals': '5', 'country': 'Peru', 'club': 'Watford', 'Top League': 1, 'CL League 2017-2018': 0}, {'name': 'Yoshimar Yotún', 'pos': 'MF', 'age': 28, 'caps': '73', 'goals': '2', 'country': 'Peru', 'club': 'Orlando City', 'Top League': 0, 'CL League 2017-2018': 0}, {'name': 'Edison Flores', 'pos': 'FW', 'age': 24, 'caps': '29', 'goals': '9', 'country': 'Peru', 'club': 'AaB', 'Top League': 0, 'CL League 2017-2018': 0}, {'name': 'José Carvallo', 'pos': 'GK', 'age': 32, 'caps': '6', 'goals': '0', 'country': 'Peru', 'club': 'UTC', 'Top League': 0, 'CL League 2017-2018': 0}, {'name': 'Nilson Loyola', 'pos': 'DF', 'age': 23, 'caps': '3', 'goals': '0', 'country': 'Peru', 'club': 'Melgar', 'Top League': 0, 'CL League 2017-2018': 0}, {'name': 'Pedro Aquino', 'pos': 'MF', 'age': 23, 'caps': '13', 'goals': '0', 'country': 'Peru', 'club': 'Lobos BUAP', 'Top League': 0, 'CL League 2017-2018': 0}, {'name': 'Nahuel Guzmán', 'pos': 'GK', 'age': 32, 'caps': '6', 'goals': '0', 'country': 'Argentina', 'club': 'UANL', 'Top League': 0, 'CL League 2017-2018': 0}, {'name': 'Gabriel Mercado', 'pos': 'DF', 'age': 31, 'caps': '20', 'goals': '3', 'country': 'Argentina', 'club': 'Sevilla', 'Top League': 1, 'CL League 2017-2018': 1}, {'name': 'Nicolás Tagliafico', 'pos': 'DF', 'age': 25, 'caps': '4', 'goals': '0', 'country': 'Argentina', 'club': 'Ajax', 'Top League': 0, 'CL League 2017-2018': 0}, {'name': 'Cristian Ansaldi', 'pos': 'DF', 'age': 31, 'caps': '5', 'goals': '0', 'country': 'Argentina', 'club': 'Torino', 'Top League': 1, 'CL League 2017-2018': 0}, {'name': 'Lucas Biglia', 'pos': 'MF', 'age': 32, 'caps': '57', 'goals': '1', 'country': 'Argentina', 'club': 'Milan', 'Top League': 1, 'CL League 2017-2018': 0}, {'name': 'Federico Fazio', 'pos': 'DF', 'age': 31, 'caps': '9', 'goals': '1', 'country': 'Argentina', 'club': 'Roma', 'Top League': 1, 'CL League 2017-2018': 1}, {'name': 'Éver Banega', 'pos': 'MF', 'age': 30, 'caps': '62', 'goals': '6', 'country': 'Argentina', 'club': 'Sevilla', 'Top League': 1, 'CL League 2017-2018': 1}, {'name': 'Marcos Acuña', 'pos': 'DF', 'age': 26, 'caps': '10', 'goals': '0', 'country': 'Argentina', 'club': 'Sporting CP', 'Top League': 0, 'CL League 2017-2018': 1}, {'name': 'Gonzalo Higuaín', 'pos': 'FW', 'age': 30, 'caps': '71', 'goals': '31', 'country': 'Argentina', 'club': 'Juventus', 'Top League': 1, 'CL League 2017-2018': 1}, {'name': 'Lionel Messi', 'pos': 'FW', 'age': 31, 'caps': '124', 'goals': '64', 'country': 'Argentina', 'club': 'Barcelona', 'Top League': 1, 'CL League 2017-2018': 1}, {'name': 'Ángel Di María', 'pos': 'MF', 'age': 30, 'caps': '94', 'goals': '19', 'country': 'Argentina', 'club': 'Paris Saint-Germain', 'Top League': 1, 'CL League 2017-2018': 1}, {'name': 'Franco Armani', 'pos': 'GK', 'age': 31, 'caps': '0', 'goals': '0', 'country': 'Argentina', 'club': 'River Plate', 'Top League': 0, 'CL League 2017-2018': 0}, {'name': 'Maximiliano Meza', 'pos': 'MF', 'age': 25, 'caps': '2', 'goals': '0', 'country': 'Argentina', 'club': 'Independiente', 'Top League': 0, 'CL League 2017-2018': 0}, {'name': 'Javier Mascherano', 'pos': 'DF', 'age': 34, 'caps': '143', 'goals': '3', 'country': 'Argentina', 'club': 'Hebei China Fortune', 'Top League': 0, 'CL League 2017-2018': 0}, {'name': 'Enzo Pérez', 'pos': 'MF', 'age': 32, 'caps': '23', 'goals': '1', 'country': 'Argentina', 'club': 'River Plate', 'Top League': 0, 'CL League 2017-2018': 0}, {'name': 'Marcos Rojo', 'pos': 'DF', 'age': 28, 'caps': '56', 'goals': '2', 'country': 'Argentina', 'club': 'Manchester United', 'Top League': 1, 'CL League 2017-2018': 1}, {'name': 'Nicolás Otamendi', 'pos': 'DF', 'age': 30, 'caps': '54', 'goals': '4', 'country': 'Argentina', 'club': 'Manchester City', 'Top League': 1, 'CL League 2017-2018': 1}, {'name': 'Eduardo Salvio', 'pos': 'DF', 'age': 27, 'caps': '9', 'goals': '0', 'country': 'Argentina', 'club': 'Benfica', 'Top League': 0, 'CL League 2017-2018': 1}, {'name': 'Sergio Agüero', 'pos': 'FW', 'age': 30, 'caps': '85', 'goals': '37', 'country': 'Argentina', 'club': 'Manchester City', 'Top League': 1, 'CL League 2017-2018': 1}, {'name': 'Giovani Lo Celso', 'pos': 'MF', 'age': 22, 'caps': '5', 'goals': '0', 'country': 'Argentina', 'club': 'Paris Saint-Germain', 'Top League': 1, 'CL League 2017-2018': 1}, {'name': 'Paulo Dybala', 'pos': 'FW', 'age': 24, 'caps': '12', 'goals': '0', 'country': 'Argentina', 'club': 'Juventus', 'Top League': 1, 'CL League 2017-2018': 1}, {'name': 'Cristian Pavón', 'pos': 'MF', 'age': 22, 'caps': '5', 'goals': '0', 'country': 'Argentina', 'club': 'Boca Juniors', 'Top League': 0, 'CL League 2017-2018': 0}, {'name': 'Willy Caballero', 'pos': 'GK', 'age': 36, 'caps': '3', 'goals': '0', 'country': 'Argentina', 'club': 'Chelsea', 'Top League': 1, 'CL League 2017-2018': 1}, {'name': 'Dominik Livaković', 'pos': 'GK', 'age': 23, 'caps': '1', 'goals': '0', 'country': 'Croatia', 'club': 'Dinamo Zagreb', 'Top League': 0, 'CL League 2017-2018': 0}, {'name': 'Šime Vrsaljko', 'pos': 'DF', 'age': 26, 'caps': '35', 'goals': '0', 'country': 'Croatia', 'club': 'Atlético Madrid', 'Top League': 1, 'CL League 2017-2018': 1}, {'name': 'Ivan Strinić', 'pos': 'DF', 'age': 30, 'caps': '43', 'goals': '0', 'country': 'Croatia', 'club': 'Sampdoria', 'Top League': 1, 'CL League 2017-2018': 0}, {'name': 'Ivan Perišić', 'pos': 'FW', 'age': 29, 'caps': '66', 'goals': '18', 'country': 'Croatia', 'club': 'Inter Milan', 'Top League': 1, 'CL League 2017-2018': 0}, {'name': 'Vedran Ćorluka', 'pos': 'DF', 'age': 32, 'caps': '99', 'goals': '4', 'country': 'Croatia', 'club': 'Lokomotiv Moscow', 'Top League': 0, 'CL League 2017-2018': 0}, {'name': 'Dejan Lovren', 'pos': 'DF', 'age': 28, 'caps': '39', 'goals': '2', 'country': 'Croatia', 'club': 'Liverpool', 'Top League': 1, 'CL League 2017-2018': 1}, {'name': 'Ivan Rakitić', 'pos': 'MF', 'age': 30, 'caps': '92', 'goals': '14', 'country': 'Croatia', 'club': 'Barcelona', 'Top League': 1, 'CL League 2017-2018': 1}, {'name': 'Mateo Kovačić', 'pos': 'MF', 'age': 24, 'caps': '41', 'goals': '1', 'country': 'Croatia', 'club': 'Real Madrid', 'Top League': 1, 'CL League 2017-2018': 1}, {'name': 'Andrej Kramarić', 'pos': 'FW', 'age': 27, 'caps': '31', 'goals': '9', 'country': 'Croatia', 'club': '1899 Hoffenheim', 'Top League': 1, 'CL League 2017-2018': 0}, {'name': 'Luka Modrić', 'pos': 'MF', 'age': 32, 'caps': '106', 'goals': '12', 'country': 'Croatia', 'club': 'Real Madrid', 'Top League': 1, 'CL League 2017-2018': 1}, {'name': 'Marcelo Brozović', 'pos': 'MF', 'age': 25, 'caps': '35', 'goals': '6', 'country': 'Croatia', 'club': 'Inter Milan', 'Top League': 1, 'CL League 2017-2018': 0}, {'name': 'Lovre Kalinić', 'pos': 'GK', 'age': 28, 'caps': '11', 'goals': '0', 'country': 'Croatia', 'club': 'Gent', 'Top League': 0, 'CL League 2017-2018': 0}, {'name': 'Tin Jedvaj', 'pos': 'DF', 'age': 22, 'caps': '12', 'goals': '0', 'country': 'Croatia', 'club': 'Bayer Leverkusen', 'Top League': 1, 'CL League 2017-2018': 0}, {'name': 'Filip Bradarić', 'pos': 'MF', 'age': 26, 'caps': '4', 'goals': '0', 'country': 'Croatia', 'club': 'Rijeka', 'Top League': 0, 'CL League 2017-2018': 0}, {'name': 'Duje Ćaleta-Car', 'pos': 'DF', 'age': 21, 'caps': '1', 'goals': '0', 'country': 'Croatia', 'club': 'Red Bull Salzburg', 'Top League': 0, 'CL League 2017-2018': 0}, {'name': 'Nikola Kalinić', 'pos': 'FW', 'age': 30, 'caps': '42', 'goals': '15', 'country': 'Croatia', 'club': 'Milan', 'Top League': 1, 'CL League 2017-2018': 0}, {'name': 'Mario Mandžukić', 'pos': 'FW', 'age': 32, 'caps': '83', 'goals': '30', 'country': 'Croatia', 'club': 'Juventus', 'Top League': 1, 'CL League 2017-2018': 1}, {'name': 'Ante Rebić', 'pos': 'FW', 'age': 24, 'caps': '16', 'goals': '1', 'country': 'Croatia', 'club': 'Eintracht Frankfurt', 'Top League': 1, 'CL League 2017-2018': 0}, {'name': 'Milan Badelj', 'pos': 'MF', 'age': 29, 'caps': '38', 'goals': '1', 'country': 'Croatia', 'club': 'Fiorentina', 'Top League': 1, 'CL League 2017-2018': 0}, {'name': 'Marko Pjaca', 'pos': 'FW', 'age': 23, 'caps': '16', 'goals': '1', 'country': 'Croatia', 'club': 'Schalke 04', 'Top League': 1, 'CL League 2017-2018': 0}, {'name': 'Domagoj Vida', 'pos': 'DF', 'age': 29, 'caps': '59', 'goals': '2', 'country': 'Croatia', 'club': 'Beşiktaş', 'Top League': 0, 'CL League 2017-2018': 1}, {'name': 'Josip Pivarić', 'pos': 'DF', 'age': 29, 'caps': '19', 'goals': '0', 'country': 'Croatia', 'club': 'Dynamo Kyiv', 'Top League': 0, 'CL League 2017-2018': 0}, {'name': 'Danijel Subašić', 'pos': 'GK', 'age': 33, 'caps': '38', 'goals': '0', 'country': 'Croatia', 'club': 'Monaco', 'Top League': 1, 'CL League 2017-2018': 1}, {'name': 'Hannes Þór Halldórsson', 'pos': 'GK', 'age': 34, 'caps': '49', 'goals': '0', 'country': 'Iceland', 'club': 'Randers', 'Top League': 0, 'CL League 2017-2018': 0}, {'name': 'Birkir Már Sævarsson', 'pos': 'DF', 'age': 33, 'caps': '79', 'goals': '1', 'country': 'Iceland', 'club': 'Valur', 'Top League': 0, 'CL League 2017-2018': 0}, {'name': 'Samúel Friðjónsson', 'pos': 'MF', 'age': 22, 'caps': '4', 'goals': '0', 'country': 'Iceland', 'club': 'Vålerenga', 'Top League': 0, 'CL League 2017-2018': 0}, {'name': 'Albert Guðmundsson', 'pos': 'MF', 'age': 21, 'caps': '5', 'goals': '3', 'country': 'Iceland', 'club': 'PSV Eindhoven', 'Top League': 0, 'CL League 2017-2018': 0}, {'name': 'Sverrir Ingi Ingason', 'pos': 'DF', 'age': 24, 'caps': '20', 'goals': '3', 'country': 'Iceland', 'club': 'Rostov', 'Top League': 0, 'CL League 2017-2018': 0}, {'name': 'Ragnar Sigurðsson', 'pos': 'DF', 'age': 32, 'caps': '77', 'goals': '3', 'country': 'Iceland', 'club': 'Rostov', 'Top League': 0, 'CL League 2017-2018': 0}, {'name': 'Jóhann Berg Guðmundsson', 'pos': 'MF', 'age': 27, 'caps': '67', 'goals': '7', 'country': 'Iceland', 'club': 'Burnley', 'Top League': 1, 'CL League 2017-2018': 0}, {'name': 'Birkir Bjarnason', 'pos': 'MF', 'age': 30, 'caps': '67', 'goals': '9', 'country': 'Iceland', 'club': 'Aston Villa', 'Top League': 1, 'CL League 2017-2018': 0}, {'name': 'Björn Bergmann Sigurðarson', 'pos': 'FW', 'age': 27, 'caps': '12', 'goals': '1', 'country': 'Iceland', 'club': 'Rostov', 'Top League': 0, 'CL League 2017-2018': 0}, {'name': 'Gylfi Sigurðsson', 'pos': 'MF', 'age': 28, 'caps': '57', 'goals': '19', 'country': 'Iceland', 'club': 'Everton', 'Top League': 1, 'CL League 2017-2018': 0}, {'name': 'Alfreð Finnbogason', 'pos': 'FW', 'age': 29, 'caps': '47', 'goals': '13', 'country': 'Iceland', 'club': 'FC Augsburg', 'Top League': 1, 'CL League 2017-2018': 0}, {'name': 'Frederik Schram', 'pos': 'GK', 'age': 23, 'caps': '4', 'goals': '0', 'country': 'Iceland', 'club': 'Roskilde', 'Top League': 0, 'CL League 2017-2018': 0}, {'name': 'Rúnar Alex Rúnarsson', 'pos': 'GK', 'age': 23, 'caps': '3', 'goals': '0', 'country': 'Iceland', 'club': 'Nordsjælland', 'Top League': 0, 'CL League 2017-2018': 0}, {'name': 'Kári Árnason', 'pos': 'DF', 'age': 35, 'caps': '67', 'goals': '5', 'country': 'Iceland', 'club': 'Aberdeen', 'Top League': 0, 'CL League 2017-2018': 0}, {'name': 'Hólmar Örn Eyjólfsson', 'pos': 'DF', 'age': 27, 'caps': '10', 'goals': '1', 'country': 'Iceland', 'club': 'Levski Sofia', 'Top League': 0, 'CL League 2017-2018': 0}, {'name': 'Ólafur Ingi Skúlason', 'pos': 'MF', 'age': 35, 'caps': '36', 'goals': '1', 'country': 'Iceland', 'club': 'Kardemir Karabükspor', 'Top League': 0, 'CL League 2017-2018': 0}, {'name': 'Aron Gunnarsson', 'pos': 'MF', 'age': 29, 'caps': '77', 'goals': '2', 'country': 'Iceland', 'club': 'Cardiff City', 'Top League': 0, 'CL League 2017-2018': 0}, {'name': 'Hörður Björgvin Magnússon', 'pos': 'DF', 'age': 25, 'caps': '16', 'goals': '2', 'country': 'Iceland', 'club': 'Bristol City', 'Top League': 1, 'CL League 2017-2018': 0}, {'name': 'Rúrik Gíslason', 'pos': 'MF', 'age': 30, 'caps': '47', 'goals': '3', 'country': 'Iceland', 'club': 'SV Sandhausen', 'Top League': 1, 'CL League 2017-2018': 0}, {'name': 'Emil Hallfreðsson', 'pos': 'MF', 'age': 34, 'caps': '64', 'goals': '1', 'country': 'Iceland', 'club': 'Udinese', 'Top League': 1, 'CL League 2017-2018': 0}, {'name': 'Arnór Ingvi Traustason', 'pos': 'MF', 'age': 25, 'caps': '19', 'goals': '5', 'country': 'Iceland', 'club': 'Malmö', 'Top League': 0, 'CL League 2017-2018': 0}, {'name': 'Jón Daði Böðvarsson', 'pos': 'FW', 'age': 26, 'caps': '38', 'goals': '2', 'country': 'Iceland', 'club': 'Reading', 'Top League': 1, 'CL League 2017-2018': 0}, {'name': 'Ari Freyr Skúlason', 'pos': 'DF', 'age': 31, 'caps': '56', 'goals': '0', 'country': 'Iceland', 'club': 'Lokeren', 'Top League': 0, 'CL League 2017-2018': 0}, {'name': 'Ikechukwu Ezenwa', 'pos': 'GK', 'age': 29, 'caps': '24', 'goals': '0', 'country': 'Nigeria', 'club': 'Enyimba', 'Top League': 0, 'CL League 2017-2018': 0}, {'name': 'Brian Idowu', 'pos': 'DF', 'age': 26, 'caps': '5', 'goals': '1', 'country': 'Nigeria', 'club': 'Amkar Perm', 'Top League': 0, 'CL League 2017-2018': 0}, {'name': 'Elderson Echiéjilé', 'pos': 'DF', 'age': 30, 'caps': '62', 'goals': '3', 'country': 'Nigeria', 'club': 'Cercle Brugge', 'Top League': 0, 'CL League 2017-2018': 0}, {'name': 'Wilfred Ndidi', 'pos': 'MF', 'age': 21, 'caps': '17', 'goals': '0', 'country': 'Nigeria', 'club': 'Leicester City', 'Top League': 1, 'CL League 2017-2018': 0}, {'name': 'William Troost-Ekong', 'pos': 'DF', 'age': 24, 'caps': '22', 'goals': '1', 'country': 'Nigeria', 'club': 'Bursaspor', 'Top League': 0, 'CL League 2017-2018': 0}, {'name': 'Leon Balogun', 'pos': 'DF', 'age': 30, 'caps': '19', 'goals': '0', 'country': 'Nigeria', 'club': 'Mainz 05', 'Top League': 1, 'CL League 2017-2018': 0}, {'name': 'Ahmed Musa', 'pos': 'FW', 'age': 25, 'caps': '72', 'goals': '13', 'country': 'Nigeria', 'club': 'CSKA Moscow', 'Top League': 0, 'CL League 2017-2018': 1}, {'name': 'Peter Etebo', 'pos': 'MF', 'age': 22, 'caps': '14', 'goals': '1', 'country': 'Nigeria', 'club': 'Las Palmas', 'Top League': 1, 'CL League 2017-2018': 0}, {'name': 'Odion Ighalo', 'pos': 'FW', 'age': 29, 'caps': '19', 'goals': '4', 'country': 'Nigeria', 'club': 'Changchun Yatai', 'Top League': 0, 'CL League 2017-2018': 0}, {'name': 'John Obi Mikel', 'pos': 'MF', 'age': 31, 'caps': '85', 'goals': '6', 'country': 'Nigeria', 'club': 'Tianjin TEDA', 'Top League': 0, 'CL League 2017-2018': 0}, {'name': 'Victor Moses', 'pos': 'FW', 'age': 27, 'caps': '34', 'goals': '11', 'country': 'Nigeria', 'club': 'Chelsea', 'Top League': 1, 'CL League 2017-2018': 1}, {'name': 'Shehu Abdullahi', 'pos': 'DF', 'age': 25, 'caps': '25', 'goals': '0', 'country': 'Nigeria', 'club': 'Bursaspor', 'Top League': 0, 'CL League 2017-2018': 0}, {'name': 'Simeon Nwankwo', 'pos': 'FW', 'age': 26, 'caps': '2', 'goals': '0', 'country': 'Nigeria', 'club': 'Crotone', 'Top League': 1, 'CL League 2017-2018': 0}, {'name': 'Kelechi Iheanacho', 'pos': 'FW', 'age': 22, 'caps': '18', 'goals': '8', 'country': 'Nigeria', 'club': 'Leicester City', 'Top League': 1, 'CL League 2017-2018': 0}, {'name': 'Joel Obi', 'pos': 'MF', 'age': 27, 'caps': '17', 'goals': '0', 'country': 'Nigeria', 'club': 'Torino', 'Top League': 1, 'CL League 2017-2018': 0}, {'name': 'Daniel Akpeyi', 'pos': 'GK', 'age': 32, 'caps': '7', 'goals': '0', 'country': 'Nigeria', 'club': 'Chippa United', 'Top League': 0, 'CL League 2017-2018': 0}, {'name': 'Ogenyi Onazi', 'pos': 'MF', 'age': 25, 'caps': '52', 'goals': '1', 'country': 'Nigeria', 'club': 'Trabzonspor', 'Top League': 0, 'CL League 2017-2018': 0}, {'name': 'Alex Iwobi', 'pos': 'FW', 'age': 22, 'caps': '19', 'goals': '5', 'country': 'Nigeria', 'club': 'Arsenal', 'Top League': 1, 'CL League 2017-2018': 0}, {'name': 'John Ogu', 'pos': 'MF', 'age': 30, 'caps': '20', 'goals': '2', 'country': 'Nigeria', 'club': \"Hapoel Be'er Sheva\", 'Top League': 0, 'CL League 2017-2018': 0}, {'name': 'Chidozie Awaziem', 'pos': 'DF', 'age': 21, 'caps': '4', 'goals': '0', 'country': 'Nigeria', 'club': 'Nantes', 'Top League': 1, 'CL League 2017-2018': 0}, {'name': 'Tyronne Ebuehi', 'pos': 'DF', 'age': 22, 'caps': '7', 'goals': '0', 'country': 'Nigeria', 'club': 'ADO Den Haag', 'Top League': 0, 'CL League 2017-2018': 0}, {'name': 'Kenneth Omeruo', 'pos': 'DF', 'age': 24, 'caps': '39', 'goals': '0', 'country': 'Nigeria', 'club': 'Kasımpaşa', 'Top League': 0, 'CL League 2017-2018': 0}, {'name': 'Francis Uzoho', 'pos': 'GK', 'age': 19, 'caps': '6', 'goals': '0', 'country': 'Nigeria', 'club': 'Deportivo La Coruña', 'Top League': 1, 'CL League 2017-2018': 0}, {'name': 'Alisson', 'pos': 'GK', 'age': 25, 'caps': '26', 'goals': '0', 'country': 'Brazil', 'club': 'Roma', 'Top League': 1, 'CL League 2017-2018': 1}, {'name': 'Thiago Silva', 'pos': 'DF', 'age': 33, 'caps': '71', 'goals': '5', 'country': 'Brazil', 'club': 'Paris Saint-Germain', 'Top League': 1, 'CL League 2017-2018': 1}, {'name': 'Miranda', 'pos': 'DF', 'age': 33, 'caps': '47', 'goals': '2', 'country': 'Brazil', 'club': 'Inter Milan', 'Top League': 1, 'CL League 2017-2018': 0}, {'name': 'Pedro Geromel', 'pos': 'DF', 'age': 32, 'caps': '2', 'goals': '0', 'country': 'Brazil', 'club': 'Grêmio', 'Top League': 0, 'CL League 2017-2018': 0}, {'name': 'Casemiro', 'pos': 'MF', 'age': 26, 'caps': '24', 'goals': '0', 'country': 'Brazil', 'club': 'Real Madrid', 'Top League': 1, 'CL League 2017-2018': 1}, {'name': 'Filipe Luís', 'pos': 'DF', 'age': 32, 'caps': '33', 'goals': '2', 'country': 'Brazil', 'club': 'Atlético Madrid', 'Top League': 1, 'CL League 2017-2018': 1}, {'name': 'Douglas Costa', 'pos': 'FW', 'age': 27, 'caps': '25', 'goals': '3', 'country': 'Brazil', 'club': 'Juventus', 'Top League': 1, 'CL League 2017-2018': 1}, {'name': 'Renato Augusto', 'pos': 'MF', 'age': 30, 'caps': '28', 'goals': '5', 'country': 'Brazil', 'club': 'Beijing Sinobo Guoan', 'Top League': 0, 'CL League 2017-2018': 0}, {'name': 'Gabriel Jesus', 'pos': 'FW', 'age': 21, 'caps': '17', 'goals': '10', 'country': 'Brazil', 'club': 'Manchester City', 'Top League': 1, 'CL League 2017-2018': 1}, {'name': 'Neymar', 'pos': 'FW', 'age': 26, 'caps': '85', 'goals': '55', 'country': 'Brazil', 'club': 'Paris Saint-Germain', 'Top League': 1, 'CL League 2017-2018': 1}, {'name': 'Philippe Coutinho', 'pos': 'MF', 'age': 26, 'caps': '37', 'goals': '10', 'country': 'Brazil', 'club': 'Barcelona', 'Top League': 1, 'CL League 2017-2018': 1}, {'name': 'Marcelo', 'pos': 'DF', 'age': 30, 'caps': '54', 'goals': '6', 'country': 'Brazil', 'club': 'Real Madrid', 'Top League': 1, 'CL League 2017-2018': 1}, {'name': 'Marquinhos', 'pos': 'DF', 'age': 24, 'caps': '26', 'goals': '0', 'country': 'Brazil', 'club': 'Paris Saint-Germain', 'Top League': 1, 'CL League 2017-2018': 1}, {'name': 'Danilo', 'pos': 'DF', 'age': 26, 'caps': '18', 'goals': '0', 'country': 'Brazil', 'club': 'Manchester City', 'Top League': 1, 'CL League 2017-2018': 1}, {'name': 'Paulinho', 'pos': 'MF', 'age': 29, 'caps': '50', 'goals': '12', 'country': 'Brazil', 'club': 'Barcelona', 'Top League': 1, 'CL League 2017-2018': 1}, {'name': 'Cássio', 'pos': 'GK', 'age': 31, 'caps': '1', 'goals': '0', 'country': 'Brazil', 'club': 'Corinthians', 'Top League': 0, 'CL League 2017-2018': 0}, {'name': 'Fernandinho', 'pos': 'MF', 'age': 33, 'caps': '44', 'goals': '2', 'country': 'Brazil', 'club': 'Manchester City', 'Top League': 1, 'CL League 2017-2018': 1}, {'name': 'Fred', 'pos': 'MF', 'age': 25, 'caps': '8', 'goals': '0', 'country': 'Brazil', 'club': 'Shakhtar Donetsk', 'Top League': 0, 'CL League 2017-2018': 1}, {'name': 'Willian', 'pos': 'MF', 'age': 29, 'caps': '57', 'goals': '8', 'country': 'Brazil', 'club': 'Chelsea', 'Top League': 1, 'CL League 2017-2018': 1}, {'name': 'Roberto Firmino', 'pos': 'FW', 'age': 26, 'caps': '21', 'goals': '6', 'country': 'Brazil', 'club': 'Liverpool', 'Top League': 1, 'CL League 2017-2018': 1}, {'name': 'Taison', 'pos': 'FW', 'age': 30, 'caps': '8', 'goals': '1', 'country': 'Brazil', 'club': 'Shakhtar Donetsk', 'Top League': 0, 'CL League 2017-2018': 1}, {'name': 'Fagner', 'pos': 'DF', 'age': 29, 'caps': '4', 'goals': '0', 'country': 'Brazil', 'club': 'Corinthians', 'Top League': 0, 'CL League 2017-2018': 0}, {'name': 'Ederson', 'pos': 'GK', 'age': 24, 'caps': '1', 'goals': '0', 'country': 'Brazil', 'club': 'Manchester City', 'Top League': 1, 'CL League 2017-2018': 1}, {'name': 'Keylor Navas', 'pos': 'GK', 'age': 31, 'caps': '81', 'goals': '0', 'country': 'Costa Rica', 'club': 'Real Madrid', 'Top League': 1, 'CL League 2017-2018': 1}, {'name': 'Johnny Acosta', 'pos': 'DF', 'age': 34, 'caps': '69', 'goals': '2', 'country': 'Costa Rica', 'club': 'Águilas Doradas', 'Top League': 0, 'CL League 2017-2018': 0}, {'name': 'Giancarlo González', 'pos': 'DF', 'age': 30, 'caps': '70', 'goals': '2', 'country': 'Costa Rica', 'club': 'Bologna', 'Top League': 1, 'CL League 2017-2018': 0}, {'name': 'Ian Smith', 'pos': 'DF', 'age': 20, 'caps': '4', 'goals': '0', 'country': 'Costa Rica', 'club': 'Norrköping', 'Top League': 0, 'CL League 2017-2018': 0}, {'name': 'Celso Borges', 'pos': 'MF', 'age': 30, 'caps': '113', 'goals': '21', 'country': 'Costa Rica', 'club': 'Deportivo La Coruña', 'Top League': 1, 'CL League 2017-2018': 0}, {'name': 'Óscar Duarte', 'pos': 'DF', 'age': 29, 'caps': '39', 'goals': '2', 'country': 'Costa Rica', 'club': 'Espanyol', 'Top League': 1, 'CL League 2017-2018': 0}, {'name': 'Christian Bolaños', 'pos': 'MF', 'age': 34, 'caps': '81', 'goals': '6', 'country': 'Costa Rica', 'club': 'Saprissa', 'Top League': 0, 'CL League 2017-2018': 0}, {'name': 'Bryan Oviedo', 'pos': 'DF', 'age': 28, 'caps': '44', 'goals': '1', 'country': 'Costa Rica', 'club': 'Sunderland', 'Top League': 1, 'CL League 2017-2018': 0}, {'name': 'Daniel Colindres', 'pos': 'MF', 'age': 33, 'caps': '11', 'goals': '0', 'country': 'Costa Rica', 'club': 'Saprissa', 'Top League': 0, 'CL League 2017-2018': 0}, {'name': 'Bryan Ruiz', 'pos': 'MF', 'age': 32, 'caps': '110', 'goals': '24', 'country': 'Costa Rica', 'club': 'Sporting CP', 'Top League': 0, 'CL League 2017-2018': 1}, {'name': 'Johan Venegas', 'pos': 'FW', 'age': 29, 'caps': '47', 'goals': '10', 'country': 'Costa Rica', 'club': 'Saprissa', 'Top League': 0, 'CL League 2017-2018': 0}, {'name': 'Joel Campbell', 'pos': 'FW', 'age': 26, 'caps': '77', 'goals': '15', 'country': 'Costa Rica', 'club': 'Real Betis', 'Top League': 1, 'CL League 2017-2018': 0}, {'name': 'Rodney Wallace', 'pos': 'MF', 'age': 30, 'caps': '30', 'goals': '4', 'country': 'Costa Rica', 'club': 'New York City FC', 'Top League': 0, 'CL League 2017-2018': 0}, {'name': 'Randall Azofeifa', 'pos': 'MF', 'age': 33, 'caps': '58', 'goals': '3', 'country': 'Costa Rica', 'club': 'Herediano', 'Top League': 0, 'CL League 2017-2018': 0}, {'name': 'Francisco Calvo', 'pos': 'DF', 'age': 25, 'caps': '38', 'goals': '4', 'country': 'Costa Rica', 'club': 'Minnesota United', 'Top League': 0, 'CL League 2017-2018': 0}, {'name': 'Cristian Gamboa', 'pos': 'DF', 'age': 28, 'caps': '68', 'goals': '3', 'country': 'Costa Rica', 'club': 'Celtic', 'Top League': 0, 'CL League 2017-2018': 1}, {'name': 'Yeltsin Tejeda', 'pos': 'MF', 'age': 26, 'caps': '51', 'goals': '0', 'country': 'Costa Rica', 'club': 'Lausanne', 'Top League': 0, 'CL League 2017-2018': 0}, {'name': 'Patrick Pemberton', 'pos': 'GK', 'age': 36, 'caps': '39', 'goals': '0', 'country': 'Costa Rica', 'club': 'Alajuelense', 'Top League': 0, 'CL League 2017-2018': 0}, {'name': 'Kendall Waston', 'pos': 'DF', 'age': 30, 'caps': '26', 'goals': '3', 'country': 'Costa Rica', 'club': 'Vancouver Whitecaps FC', 'Top League': 0, 'CL League 2017-2018': 0}, {'name': 'David Guzmán', 'pos': 'MF', 'age': 28, 'caps': '43', 'goals': '0', 'country': 'Costa Rica', 'club': 'Portland Timbers', 'Top League': 0, 'CL League 2017-2018': 0}, {'name': 'Marco Ureña', 'pos': 'FW', 'age': 28, 'caps': '64', 'goals': '15', 'country': 'Costa Rica', 'club': 'Los Angeles FC', 'Top League': 0, 'CL League 2017-2018': 0}, {'name': 'Kenner Gutiérrez', 'pos': 'DF', 'age': 29, 'caps': '9', 'goals': '0', 'country': 'Costa Rica', 'club': 'Alajuelense', 'Top League': 0, 'CL League 2017-2018': 0}, {'name': 'Leonel Moreira', 'pos': 'GK', 'age': 28, 'caps': '9', 'goals': '0', 'country': 'Costa Rica', 'club': 'Herediano', 'Top League': 0, 'CL League 2017-2018': 0}, {'name': 'Vladimir Stojković', 'pos': 'GK', 'age': 34, 'caps': '81', 'goals': '0', 'country': 'Serbia', 'club': 'Partizan', 'Top League': 0, 'CL League 2017-2018': 0}, {'name': 'Antonio Rukavina', 'pos': 'DF', 'age': 34, 'caps': '47', 'goals': '0', 'country': 'Serbia', 'club': 'Villarreal', 'Top League': 1, 'CL League 2017-2018': 0}, {'name': 'Duško Tošić', 'pos': 'DF', 'age': 33, 'caps': '24', 'goals': '1', 'country': 'Serbia', 'club': 'Beşiktaş', 'Top League': 0, 'CL League 2017-2018': 1}, {'name': 'Luka Milivojević', 'pos': 'MF', 'age': 27, 'caps': '28', 'goals': '1', 'country': 'Serbia', 'club': 'Crystal Palace', 'Top League': 1, 'CL League 2017-2018': 0}, {'name': 'Uroš Spajić', 'pos': 'DF', 'age': 25, 'caps': '5', 'goals': '0', 'country': 'Serbia', 'club': 'Anderlecht', 'Top League': 0, 'CL League 2017-2018': 1}, {'name': 'Branislav Ivanović', 'pos': 'DF', 'age': 34, 'caps': '103', 'goals': '13', 'country': 'Serbia', 'club': 'Zenit Saint Petersburg', 'Top League': 0, 'CL League 2017-2018': 0}, {'name': 'Andrija Živković', 'pos': 'MF', 'age': 21, 'caps': '10', 'goals': '0', 'country': 'Serbia', 'club': 'Benfica', 'Top League': 0, 'CL League 2017-2018': 1}, {'name': 'Aleksandar Prijović', 'pos': 'FW', 'age': 28, 'caps': '9', 'goals': '1', 'country': 'Serbia', 'club': 'PAOK', 'Top League': 0, 'CL League 2017-2018': 0}, {'name': 'Aleksandar Mitrović', 'pos': 'FW', 'age': 23, 'caps': '37', 'goals': '16', 'country': 'Serbia', 'club': 'Fulham', 'Top League': 1, 'CL League 2017-2018': 0}, {'name': 'Dušan Tadić', 'pos': 'MF', 'age': 29, 'caps': '53', 'goals': '13', 'country': 'Serbia', 'club': 'Southampton', 'Top League': 1, 'CL League 2017-2018': 0}, {'name': 'Aleksandar Kolarov', 'pos': 'DF', 'age': 32, 'caps': '76', 'goals': '10', 'country': 'Serbia', 'club': 'Roma', 'Top League': 1, 'CL League 2017-2018': 1}, {'name': 'Predrag Rajković', 'pos': 'GK', 'age': 22, 'caps': '8', 'goals': '0', 'country': 'Serbia', 'club': 'Maccabi Tel Aviv', 'Top League': 0, 'CL League 2017-2018': 0}, {'name': 'Miloš Veljković', 'pos': 'DF', 'age': 22, 'caps': '2', 'goals': '0', 'country': 'Serbia', 'club': 'Werder Bremen', 'Top League': 1, 'CL League 2017-2018': 0}, {'name': 'Milan Rodić', 'pos': 'DF', 'age': 27, 'caps': '1', 'goals': '0', 'country': 'Serbia', 'club': 'Red Star Belgrade', 'Top League': 0, 'CL League 2017-2018': 0}, {'name': 'Nikola Milenković', 'pos': 'DF', 'age': 20, 'caps': '3', 'goals': '0', 'country': 'Serbia', 'club': 'Fiorentina', 'Top League': 1, 'CL League 2017-2018': 0}, {'name': 'Marko Grujić', 'pos': 'MF', 'age': 22, 'caps': '8', 'goals': '0', 'country': 'Serbia', 'club': 'Cardiff City', 'Top League': 0, 'CL League 2017-2018': 0}, {'name': 'Filip Kostić', 'pos': 'MF', 'age': 25, 'caps': '23', 'goals': '2', 'country': 'Serbia', 'club': 'Hamburger SV', 'Top League': 1, 'CL League 2017-2018': 0}, {'name': 'Nemanja Radonjić', 'pos': 'FW', 'age': 22, 'caps': '3', 'goals': '0', 'country': 'Serbia', 'club': 'Red Star Belgrade', 'Top League': 0, 'CL League 2017-2018': 0}, {'name': 'Luka Jović', 'pos': 'FW', 'age': 20, 'caps': '1', 'goals': '0', 'country': 'Serbia', 'club': 'Eintracht Frankfurt', 'Top League': 1, 'CL League 2017-2018': 0}, {'name': 'Sergej Milinković-Savić', 'pos': 'MF', 'age': 23, 'caps': '4', 'goals': '0', 'country': 'Serbia', 'club': 'Lazio', 'Top League': 1, 'CL League 2017-2018': 0}, {'name': 'Nemanja Matić', 'pos': 'MF', 'age': 29, 'caps': '40', 'goals': '2', 'country': 'Serbia', 'club': 'Manchester United', 'Top League': 1, 'CL League 2017-2018': 1}, {'name': 'Adem Ljajić', 'pos': 'MF', 'age': 26, 'caps': '29', 'goals': '6', 'country': 'Serbia', 'club': 'Torino', 'Top League': 1, 'CL League 2017-2018': 0}, {'name': 'Marko Dmitrović', 'pos': 'GK', 'age': 26, 'caps': '2', 'goals': '0', 'country': 'Serbia', 'club': 'Eibar', 'Top League': 1, 'CL League 2017-2018': 0}, {'name': 'Yann Sommer', 'pos': 'GK', 'age': 29, 'caps': '35', 'goals': '0', 'country': 'Switzerland', 'club': 'Borussia Mönchengladbach', 'Top League': 1, 'CL League 2017-2018': 0}, {'name': 'Stephan Lichtsteiner', 'pos': 'DF', 'age': 34, 'caps': '100', 'goals': '8', 'country': 'Switzerland', 'club': 'Juventus', 'Top League': 1, 'CL League 2017-2018': 1}, {'name': 'François Moubandje', 'pos': 'DF', 'age': 28, 'caps': '18', 'goals': '0', 'country': 'Switzerland', 'club': 'Toulouse', 'Top League': 1, 'CL League 2017-2018': 0}, {'name': 'Nico Elvedi', 'pos': 'DF', 'age': 21, 'caps': '6', 'goals': '0', 'country': 'Switzerland', 'club': 'Borussia Mönchengladbach', 'Top League': 1, 'CL League 2017-2018': 0}, {'name': 'Manuel Akanji', 'pos': 'DF', 'age': 22, 'caps': '7', 'goals': '0', 'country': 'Switzerland', 'club': 'Borussia Dortmund', 'Top League': 1, 'CL League 2017-2018': 1}, {'name': 'Michael Lang', 'pos': 'DF', 'age': 27, 'caps': '24', 'goals': '2', 'country': 'Switzerland', 'club': 'Basel', 'Top League': 0, 'CL League 2017-2018': 1}, {'name': 'Breel Embolo', 'pos': 'FW', 'age': 21, 'caps': '25', 'goals': '3', 'country': 'Switzerland', 'club': 'Schalke 04', 'Top League': 1, 'CL League 2017-2018': 0}, {'name': 'Remo Freuler', 'pos': 'MF', 'age': 26, 'caps': '10', 'goals': '0', 'country': 'Switzerland', 'club': 'Atalanta', 'Top League': 1, 'CL League 2017-2018': 0}, {'name': 'Haris Seferović', 'pos': 'FW', 'age': 26, 'caps': '51', 'goals': '12', 'country': 'Switzerland', 'club': 'Benfica', 'Top League': 0, 'CL League 2017-2018': 1}, {'name': 'Granit Xhaka', 'pos': 'MF', 'age': 25, 'caps': '62', 'goals': '9', 'country': 'Switzerland', 'club': 'Arsenal', 'Top League': 1, 'CL League 2017-2018': 0}, {'name': 'Valon Behrami', 'pos': 'MF', 'age': 33, 'caps': '79', 'goals': '2', 'country': 'Switzerland', 'club': 'Udinese', 'Top League': 1, 'CL League 2017-2018': 0}, {'name': 'Yvon Mvogo', 'pos': 'GK', 'age': 24, 'caps': '0', 'goals': '0', 'country': 'Switzerland', 'club': 'RB Leipzig', 'Top League': 1, 'CL League 2017-2018': 1}, {'name': 'Ricardo Rodríguez', 'pos': 'DF', 'age': 25, 'caps': '53', 'goals': '5', 'country': 'Switzerland', 'club': 'Milan', 'Top League': 1, 'CL League 2017-2018': 0}, {'name': 'Steven Zuber', 'pos': 'MF', 'age': 26, 'caps': '12', 'goals': '3', 'country': 'Switzerland', 'club': '1899 Hoffenheim', 'Top League': 1, 'CL League 2017-2018': 0}, {'name': 'Blerim Džemaili', 'pos': 'MF', 'age': 32, 'caps': '65', 'goals': '9', 'country': 'Switzerland', 'club': 'Bologna', 'Top League': 1, 'CL League 2017-2018': 0}, {'name': 'Gelson Fernandes', 'pos': 'MF', 'age': 31, 'caps': '67', 'goals': '2', 'country': 'Switzerland', 'club': 'Eintracht Frankfurt', 'Top League': 1, 'CL League 2017-2018': 0}, {'name': 'Denis Zakaria', 'pos': 'MF', 'age': 21, 'caps': '10', 'goals': '0', 'country': 'Switzerland', 'club': 'Borussia Mönchengladbach', 'Top League': 1, 'CL League 2017-2018': 0}, {'name': 'Mario Gavranović', 'pos': 'FW', 'age': 28, 'caps': '14', 'goals': '5', 'country': 'Switzerland', 'club': 'Dinamo Zagreb', 'Top League': 0, 'CL League 2017-2018': 0}, {'name': 'Josip Drmić', 'pos': 'FW', 'age': 25, 'caps': '29', 'goals': '9', 'country': 'Switzerland', 'club': 'Borussia Mönchengladbach', 'Top League': 1, 'CL League 2017-2018': 0}, {'name': 'Johan Djourou', 'pos': 'DF', 'age': 31, 'caps': '74', 'goals': '2', 'country': 'Switzerland', 'club': 'Antalyaspor', 'Top League': 0, 'CL League 2017-2018': 0}, {'name': 'Roman Bürki', 'pos': 'GK', 'age': 27, 'caps': '9', 'goals': '0', 'country': 'Switzerland', 'club': 'Borussia Dortmund', 'Top League': 1, 'CL League 2017-2018': 1}, {'name': 'Fabian Schär', 'pos': 'DF', 'age': 26, 'caps': '39', 'goals': '7', 'country': 'Switzerland', 'club': 'Deportivo La Coruña', 'Top League': 1, 'CL League 2017-2018': 0}, {'name': 'Xherdan Shaqiri', 'pos': 'MF', 'age': 26, 'caps': '70', 'goals': '20', 'country': 'Switzerland', 'club': 'Stoke City', 'Top League': 1, 'CL League 2017-2018': 0}, {'name': 'Manuel Neuer', 'pos': 'GK', 'age': 32, 'caps': '76', 'goals': '0', 'country': 'Germany', 'club': 'Bayern Munich', 'Top League': 1, 'CL League 2017-2018': 1}, {'name': 'Marvin Plattenhardt', 'pos': 'DF', 'age': 26, 'caps': '6', 'goals': '0', 'country': 'Germany', 'club': 'Hertha BSC', 'Top League': 1, 'CL League 2017-2018': 0}, {'name': 'Jonas Hector', 'pos': 'DF', 'age': 28, 'caps': '38', 'goals': '3', 'country': 'Germany', 'club': '1. FC Köln', 'Top League': 1, 'CL League 2017-2018': 0}, {'name': 'Matthias Ginter', 'pos': 'DF', 'age': 24, 'caps': '18', 'goals': '0', 'country': 'Germany', 'club': 'Borussia Mönchengladbach', 'Top League': 1, 'CL League 2017-2018': 0}, {'name': 'Mats Hummels', 'pos': 'DF', 'age': 29, 'caps': '64', 'goals': '5', 'country': 'Germany', 'club': 'Bayern Munich', 'Top League': 1, 'CL League 2017-2018': 1}, {'name': 'Sami Khedira', 'pos': 'MF', 'age': 31, 'caps': '75', 'goals': '7', 'country': 'Germany', 'club': 'Juventus', 'Top League': 1, 'CL League 2017-2018': 1}, {'name': 'Julian Draxler', 'pos': 'MF', 'age': 24, 'caps': '44', 'goals': '6', 'country': 'Germany', 'club': 'Paris Saint-Germain', 'Top League': 1, 'CL League 2017-2018': 1}, {'name': 'Toni Kroos', 'pos': 'MF', 'age': 28, 'caps': '83', 'goals': '12', 'country': 'Germany', 'club': 'Real Madrid', 'Top League': 1, 'CL League 2017-2018': 1}, {'name': 'Timo Werner', 'pos': 'FW', 'age': 22, 'caps': '14', 'goals': '8', 'country': 'Germany', 'club': 'RB Leipzig', 'Top League': 1, 'CL League 2017-2018': 1}, {'name': 'Mesut Özil', 'pos': 'MF', 'age': 29, 'caps': '90', 'goals': '23', 'country': 'Germany', 'club': 'Arsenal', 'Top League': 1, 'CL League 2017-2018': 0}, {'name': 'Marco Reus', 'pos': 'FW', 'age': 29, 'caps': '31', 'goals': '9', 'country': 'Germany', 'club': 'Borussia Dortmund', 'Top League': 1, 'CL League 2017-2018': 1}, {'name': 'Kevin Trapp', 'pos': 'GK', 'age': 27, 'caps': '3', 'goals': '0', 'country': 'Germany', 'club': 'Paris Saint-Germain', 'Top League': 1, 'CL League 2017-2018': 1}, {'name': 'Thomas Müller', 'pos': 'MF', 'age': 28, 'caps': '91', 'goals': '38', 'country': 'Germany', 'club': 'Bayern Munich', 'Top League': 1, 'CL League 2017-2018': 1}, {'name': 'Leon Goretzka', 'pos': 'MF', 'age': 23, 'caps': '15', 'goals': '6', 'country': 'Germany', 'club': 'Schalke 04', 'Top League': 1, 'CL League 2017-2018': 0}, {'name': 'Niklas Süle', 'pos': 'DF', 'age': 22, 'caps': '11', 'goals': '0', 'country': 'Germany', 'club': 'Bayern Munich', 'Top League': 1, 'CL League 2017-2018': 1}, {'name': 'Antonio Rüdiger', 'pos': 'DF', 'age': 25, 'caps': '24', 'goals': '1', 'country': 'Germany', 'club': 'Chelsea', 'Top League': 1, 'CL League 2017-2018': 1}, {'name': 'Jérôme Boateng', 'pos': 'DF', 'age': 29, 'caps': '71', 'goals': '1', 'country': 'Germany', 'club': 'Bayern Munich', 'Top League': 1, 'CL League 2017-2018': 1}, {'name': 'Joshua Kimmich', 'pos': 'DF', 'age': 23, 'caps': '29', 'goals': '3', 'country': 'Germany', 'club': 'Bayern Munich', 'Top League': 1, 'CL League 2017-2018': 1}, {'name': 'Sebastian Rudy', 'pos': 'MF', 'age': 28, 'caps': '25', 'goals': '1', 'country': 'Germany', 'club': 'Bayern Munich', 'Top League': 1, 'CL League 2017-2018': 1}, {'name': 'Julian Brandt', 'pos': 'MF', 'age': 22, 'caps': '16', 'goals': '1', 'country': 'Germany', 'club': 'Bayer Leverkusen', 'Top League': 1, 'CL League 2017-2018': 0}, {'name': 'İlkay Gündoğan', 'pos': 'MF', 'age': 27, 'caps': '26', 'goals': '4', 'country': 'Germany', 'club': 'Manchester City', 'Top League': 1, 'CL League 2017-2018': 1}, {'name': 'Marc-André ter Stegen', 'pos': 'GK', 'age': 26, 'caps': '20', 'goals': '0', 'country': 'Germany', 'club': 'Barcelona', 'Top League': 1, 'CL League 2017-2018': 1}, {'name': 'Mario Gómez', 'pos': 'FW', 'age': 32, 'caps': '75', 'goals': '31', 'country': 'Germany', 'club': 'VfB Stuttgart', 'Top League': 1, 'CL League 2017-2018': 0}, {'name': 'José de Jesús Corona', 'pos': 'GK', 'age': 37, 'caps': '52', 'goals': '0', 'country': 'Mexico', 'club': 'Cruz Azul', 'Top League': 0, 'CL League 2017-2018': 0}, {'name': 'Hugo Ayala', 'pos': 'DF', 'age': 31, 'caps': '43', 'goals': '1', 'country': 'Mexico', 'club': 'UANL', 'Top League': 0, 'CL League 2017-2018': 0}, {'name': 'Carlos Salcedo', 'pos': 'DF', 'age': 24, 'caps': '21', 'goals': '0', 'country': 'Mexico', 'club': 'Eintracht Frankfurt', 'Top League': 1, 'CL League 2017-2018': 0}, {'name': 'Rafael Márquez', 'pos': 'DF', 'age': 39, 'caps': '145', 'goals': '18', 'country': 'Mexico', 'club': 'Atlas', 'Top League': 0, 'CL League 2017-2018': 0}, {'name': 'Érick Gutiérrez', 'pos': 'MF', 'age': 23, 'caps': '9', 'goals': '0', 'country': 'Mexico', 'club': 'Pachuca', 'Top League': 0, 'CL League 2017-2018': 0}, {'name': 'Jonathan dos Santos', 'pos': 'MF', 'age': 28, 'caps': '32', 'goals': '0', 'country': 'Mexico', 'club': 'LA Galaxy', 'Top League': 0, 'CL League 2017-2018': 0}, {'name': 'Miguel Layún', 'pos': 'MF', 'age': 30, 'caps': '64', 'goals': '6', 'country': 'Mexico', 'club': 'Sevilla', 'Top League': 1, 'CL League 2017-2018': 1}, {'name': 'Marco Fabián', 'pos': 'FW', 'age': 28, 'caps': '39', 'goals': '9', 'country': 'Mexico', 'club': 'Eintracht Frankfurt', 'Top League': 1, 'CL League 2017-2018': 0}, {'name': 'Raúl Jiménez', 'pos': 'FW', 'age': 27, 'caps': '63', 'goals': '13', 'country': 'Mexico', 'club': 'Benfica', 'Top League': 0, 'CL League 2017-2018': 1}, {'name': 'Giovani dos Santos', 'pos': 'MF', 'age': 29, 'caps': '105', 'goals': '19', 'country': 'Mexico', 'club': 'LA Galaxy', 'Top League': 0, 'CL League 2017-2018': 0}, {'name': 'Carlos Vela', 'pos': 'FW', 'age': 29, 'caps': '68', 'goals': '18', 'country': 'Mexico', 'club': 'Los Angeles FC', 'Top League': 0, 'CL League 2017-2018': 0}, {'name': 'Alfredo Talavera', 'pos': 'GK', 'age': 35, 'caps': '27', 'goals': '0', 'country': 'Mexico', 'club': 'Toluca', 'Top League': 0, 'CL League 2017-2018': 0}, {'name': 'Guillermo Ochoa', 'pos': 'GK', 'age': 32, 'caps': '94', 'goals': '0', 'country': 'Mexico', 'club': 'Standard Liège', 'Top League': 0, 'CL League 2017-2018': 0}, {'name': 'Javier Hernández', 'pos': 'FW', 'age': 30, 'caps': '102', 'goals': '49', 'country': 'Mexico', 'club': 'West Ham United', 'Top League': 1, 'CL League 2017-2018': 0}, {'name': 'Héctor Moreno', 'pos': 'DF', 'age': 30, 'caps': '92', 'goals': '3', 'country': 'Mexico', 'club': 'Real Sociedad', 'Top League': 1, 'CL League 2017-2018': 0}, {'name': 'Héctor Herrera', 'pos': 'DF', 'age': 28, 'caps': '66', 'goals': '5', 'country': 'Mexico', 'club': 'Porto', 'Top League': 0, 'CL League 2017-2018': 1}, {'name': 'Jesús Manuel Corona', 'pos': 'MF', 'age': 25, 'caps': '36', 'goals': '7', 'country': 'Mexico', 'club': 'Porto', 'Top League': 0, 'CL League 2017-2018': 1}, {'name': 'Andrés Guardado', 'pos': 'MF', 'age': 31, 'caps': '145', 'goals': '25', 'country': 'Mexico', 'club': 'Real Betis', 'Top League': 1, 'CL League 2017-2018': 0}, {'name': 'Oribe Peralta', 'pos': 'FW', 'age': 34, 'caps': '67', 'goals': '26', 'country': 'Mexico', 'club': 'América', 'Top League': 0, 'CL League 2017-2018': 0}, {'name': 'Javier Aquino', 'pos': 'MF', 'age': 28, 'caps': '53', 'goals': '0', 'country': 'Mexico', 'club': 'UANL', 'Top League': 0, 'CL League 2017-2018': 0}, {'name': 'Edson Álvarez', 'pos': 'DF', 'age': 20, 'caps': '13', 'goals': '1', 'country': 'Mexico', 'club': 'América', 'Top League': 0, 'CL League 2017-2018': 0}, {'name': 'Hirving Lozano', 'pos': 'FW', 'age': 22, 'caps': '28', 'goals': '7', 'country': 'Mexico', 'club': 'PSV Eindhoven', 'Top League': 0, 'CL League 2017-2018': 0}, {'name': 'Jesús Gallardo', 'pos': 'MF', 'age': 23, 'caps': '23', 'goals': '0', 'country': 'Mexico', 'club': 'UNAM', 'Top League': 0, 'CL League 2017-2018': 0}, {'name': 'Kim Seung-gyu', 'pos': 'GK', 'age': 27, 'caps': '33', 'goals': '0', 'country': 'South Korea', 'club': 'Vissel Kobe', 'Top League': 0, 'CL League 2017-2018': 0}, {'name': 'Lee Yong', 'pos': 'DF', 'age': 31, 'caps': '28', 'goals': '0', 'country': 'South Korea', 'club': 'Jeonbuk Hyundai Motors', 'Top League': 0, 'CL League 2017-2018': 0}, {'name': 'Jung Seung-hyun', 'pos': 'DF', 'age': 24, 'caps': '6', 'goals': '0', 'country': 'South Korea', 'club': 'Sagan Tosu', 'Top League': 0, 'CL League 2017-2018': 0}, {'name': 'Oh Ban-suk', 'pos': 'DF', 'age': 30, 'caps': '2', 'goals': '0', 'country': 'South Korea', 'club': 'Jeju United', 'Top League': 0, 'CL League 2017-2018': 0}, {'name': 'Yun Young-sun', 'pos': 'DF', 'age': 29, 'caps': '6', 'goals': '0', 'country': 'South Korea', 'club': 'Seongnam FC', 'Top League': 0, 'CL League 2017-2018': 0}, {'name': 'Park Joo-ho', 'pos': 'DF', 'age': 31, 'caps': '36', 'goals': '0', 'country': 'South Korea', 'club': 'Ulsan Hyundai', 'Top League': 0, 'CL League 2017-2018': 0}, {'name': 'Son Heung-min', 'pos': 'FW', 'age': 25, 'caps': '67', 'goals': '21', 'country': 'South Korea', 'club': 'Tottenham Hotspur', 'Top League': 1, 'CL League 2017-2018': 1}, {'name': 'Ju Se-jong', 'pos': 'MF', 'age': 27, 'caps': '11', 'goals': '1', 'country': 'South Korea', 'club': 'Asan Mugunghwa', 'Top League': 0, 'CL League 2017-2018': 0}, {'name': 'Kim Shin-wook', 'pos': 'FW', 'age': 30, 'caps': '50', 'goals': '10', 'country': 'South Korea', 'club': 'Jeonbuk Hyundai Motors', 'Top League': 0, 'CL League 2017-2018': 0}, {'name': 'Lee Seung-woo', 'pos': 'MF', 'age': 20, 'caps': '4', 'goals': '0', 'country': 'South Korea', 'club': 'Hellas Verona', 'Top League': 1, 'CL League 2017-2018': 0}, {'name': 'Hwang Hee-chan', 'pos': 'FW', 'age': 22, 'caps': '14', 'goals': '2', 'country': 'South Korea', 'club': 'Red Bull Salzburg', 'Top League': 0, 'CL League 2017-2018': 0}, {'name': 'Kim Min-woo', 'pos': 'DF', 'age': 28, 'caps': '20', 'goals': '1', 'country': 'South Korea', 'club': 'Sangju Sangmu', 'Top League': 0, 'CL League 2017-2018': 0}, {'name': 'Koo Ja-cheol', 'pos': 'MF', 'age': 29, 'caps': '68', 'goals': '19', 'country': 'South Korea', 'club': 'FC Augsburg', 'Top League': 1, 'CL League 2017-2018': 0}, {'name': 'Hong Chul', 'pos': 'DF', 'age': 27, 'caps': '14', 'goals': '0', 'country': 'South Korea', 'club': 'Sangju Sangmu', 'Top League': 0, 'CL League 2017-2018': 0}, {'name': 'Jung Woo-young', 'pos': 'MF', 'age': 28, 'caps': '30', 'goals': '1', 'country': 'South Korea', 'club': 'Vissel Kobe', 'Top League': 0, 'CL League 2017-2018': 0}, {'name': 'Ki Sung-yueng', 'pos': 'MF', 'age': 29, 'caps': '102', 'goals': '10', 'country': 'South Korea', 'club': 'Swansea City', 'Top League': 0, 'CL League 2017-2018': 0}, {'name': 'Lee Jae-sung', 'pos': 'MF', 'age': 25, 'caps': '35', 'goals': '6', 'country': 'South Korea', 'club': 'Jeonbuk Hyundai Motors', 'Top League': 0, 'CL League 2017-2018': 0}, {'name': 'Moon Seon-min', 'pos': 'MF', 'age': 26, 'caps': '3', 'goals': '1', 'country': 'South Korea', 'club': 'Incheon United', 'Top League': 0, 'CL League 2017-2018': 0}, {'name': 'Kim Young-gwon', 'pos': 'DF', 'age': 28, 'caps': '53', 'goals': '2', 'country': 'South Korea', 'club': 'Guangzhou Evergrande', 'Top League': 0, 'CL League 2017-2018': 0}, {'name': 'Jang Hyun-soo', 'pos': 'DF', 'age': 26, 'caps': '51', 'goals': '3', 'country': 'South Korea', 'club': 'FC Tokyo', 'Top League': 0, 'CL League 2017-2018': 0}, {'name': 'Kim Jin-hyeon', 'pos': 'GK', 'age': 30, 'caps': '15', 'goals': '0', 'country': 'South Korea', 'club': 'Cerezo Osaka', 'Top League': 0, 'CL League 2017-2018': 0}, {'name': 'Go Yo-han', 'pos': 'DF', 'age': 30, 'caps': '20', 'goals': '0', 'country': 'South Korea', 'club': 'FC Seoul', 'Top League': 0, 'CL League 2017-2018': 0}, {'name': 'Jo Hyeon-woo', 'pos': 'GK', 'age': 26, 'caps': '6', 'goals': '0', 'country': 'South Korea', 'club': 'Daegu FC', 'Top League': 0, 'CL League 2017-2018': 0}, {'name': 'Robin Olsen', 'pos': 'GK', 'age': 28, 'caps': '18', 'goals': '0', 'country': 'Sweden', 'club': 'Copenhagen', 'Top League': 0, 'CL League 2017-2018': 0}, {'name': 'Mikael Lustig', 'pos': 'DF', 'age': 31, 'caps': '66', 'goals': '6', 'country': 'Sweden', 'club': 'Celtic', 'Top League': 0, 'CL League 2017-2018': 1}, {'name': 'Victor Lindelöf', 'pos': 'DF', 'age': 23, 'caps': '21', 'goals': '1', 'country': 'Sweden', 'club': 'Manchester United', 'Top League': 1, 'CL League 2017-2018': 1}, {'name': 'Andreas Granqvist', 'pos': 'DF', 'age': 33, 'caps': '72', 'goals': '6', 'country': 'Sweden', 'club': 'Krasnodar', 'Top League': 0, 'CL League 2017-2018': 0}, {'name': 'Martin Olsson', 'pos': 'DF', 'age': 30, 'caps': '43', 'goals': '5', 'country': 'Sweden', 'club': 'Swansea City', 'Top League': 0, 'CL League 2017-2018': 0}, {'name': 'Ludwig Augustinsson', 'pos': 'DF', 'age': 24, 'caps': '15', 'goals': '0', 'country': 'Sweden', 'club': 'Werder Bremen', 'Top League': 1, 'CL League 2017-2018': 0}, {'name': 'Sebastian Larsson', 'pos': 'MF', 'age': 33, 'caps': '100', 'goals': '6', 'country': 'Sweden', 'club': 'Hull City', 'Top League': 1, 'CL League 2017-2018': 0}, {'name': 'Albin Ekdal', 'pos': 'MF', 'age': 28, 'caps': '34', 'goals': '0', 'country': 'Sweden', 'club': 'Hamburger SV', 'Top League': 1, 'CL League 2017-2018': 0}, {'name': 'Marcus Berg', 'pos': 'FW', 'age': 31, 'caps': '57', 'goals': '18', 'country': 'Sweden', 'club': 'Al Ain', 'Top League': 0, 'CL League 2017-2018': 0}, {'name': 'Emil Forsberg', 'pos': 'MF', 'age': 26, 'caps': '36', 'goals': '6', 'country': 'Sweden', 'club': 'RB Leipzig', 'Top League': 1, 'CL League 2017-2018': 1}, {'name': 'John Guidetti', 'pos': 'FW', 'age': 26, 'caps': '20', 'goals': '1', 'country': 'Sweden', 'club': 'Alavés', 'Top League': 1, 'CL League 2017-2018': 0}, {'name': 'Karl-Johan Johnsson', 'pos': 'GK', 'age': 28, 'caps': '5', 'goals': '0', 'country': 'Sweden', 'club': 'Guingamp', 'Top League': 1, 'CL League 2017-2018': 0}, {'name': 'Gustav Svensson', 'pos': 'MF', 'age': 31, 'caps': '13', 'goals': '0', 'country': 'Sweden', 'club': 'Seattle Sounders FC', 'Top League': 0, 'CL League 2017-2018': 0}, {'name': 'Filip Helander', 'pos': 'DF', 'age': 25, 'caps': '4', 'goals': '0', 'country': 'Sweden', 'club': 'Bologna', 'Top League': 1, 'CL League 2017-2018': 0}, {'name': 'Oscar Hiljemark', 'pos': 'MF', 'age': 26, 'caps': '22', 'goals': '2', 'country': 'Sweden', 'club': 'Genoa', 'Top League': 1, 'CL League 2017-2018': 0}, {'name': 'Emil Krafth', 'pos': 'DF', 'age': 23, 'caps': '13', 'goals': '0', 'country': 'Sweden', 'club': 'Bologna', 'Top League': 1, 'CL League 2017-2018': 0}, {'name': 'Viktor Claesson', 'pos': 'MF', 'age': 26, 'caps': '22', 'goals': '3', 'country': 'Sweden', 'club': 'Krasnodar', 'Top League': 0, 'CL League 2017-2018': 0}, {'name': 'Pontus Jansson', 'pos': 'DF', 'age': 27, 'caps': '15', 'goals': '0', 'country': 'Sweden', 'club': 'Leeds United', 'Top League': 1, 'CL League 2017-2018': 0}, {'name': 'Marcus Rohdén', 'pos': 'MF', 'age': 27, 'caps': '12', 'goals': '1', 'country': 'Sweden', 'club': 'Crotone', 'Top League': 1, 'CL League 2017-2018': 0}, {'name': 'Ola Toivonen', 'pos': 'FW', 'age': 31, 'caps': '59', 'goals': '13', 'country': 'Sweden', 'club': 'Toulouse', 'Top League': 1, 'CL League 2017-2018': 0}, {'name': 'Jimmy Durmaz', 'pos': 'MF', 'age': 29, 'caps': '45', 'goals': '3', 'country': 'Sweden', 'club': 'Toulouse', 'Top League': 1, 'CL League 2017-2018': 0}, {'name': 'Isaac Kiese Thelin', 'pos': 'FW', 'age': 26, 'caps': '20', 'goals': '2', 'country': 'Sweden', 'club': 'Waasland-Beveren', 'Top League': 0, 'CL League 2017-2018': 0}, {'name': 'Kristoffer Nordfeldt', 'pos': 'GK', 'age': 29, 'caps': '8', 'goals': '0', 'country': 'Sweden', 'club': 'Swansea City', 'Top League': 0, 'CL League 2017-2018': 0}, {'name': 'Thibaut Courtois', 'pos': 'GK', 'age': 26, 'caps': '58', 'goals': '0', 'country': 'Belgium', 'club': 'Chelsea', 'Top League': 1, 'CL League 2017-2018': 1}, {'name': 'Toby Alderweireld', 'pos': 'DF', 'age': 29, 'caps': '77', 'goals': '3', 'country': 'Belgium', 'club': 'Tottenham Hotspur', 'Top League': 1, 'CL League 2017-2018': 1}, {'name': 'Thomas Vermaelen', 'pos': 'DF', 'age': 32, 'caps': '66', 'goals': '1', 'country': 'Belgium', 'club': 'Barcelona', 'Top League': 1, 'CL League 2017-2018': 1}, {'name': 'Vincent Kompany', 'pos': 'DF', 'age': 32, 'caps': '77', 'goals': '4', 'country': 'Belgium', 'club': 'Manchester City', 'Top League': 1, 'CL League 2017-2018': 1}, {'name': 'Jan Vertonghen', 'pos': 'DF', 'age': 31, 'caps': '102', 'goals': '8', 'country': 'Belgium', 'club': 'Tottenham Hotspur', 'Top League': 1, 'CL League 2017-2018': 1}, {'name': 'Axel Witsel', 'pos': 'MF', 'age': 29, 'caps': '90', 'goals': '9', 'country': 'Belgium', 'club': 'Tianjin Quanjian', 'Top League': 0, 'CL League 2017-2018': 0}, {'name': 'Kevin De Bruyne', 'pos': 'MF', 'age': 27, 'caps': '62', 'goals': '14', 'country': 'Belgium', 'club': 'Manchester City', 'Top League': 1, 'CL League 2017-2018': 1}, {'name': 'Marouane Fellaini', 'pos': 'MF', 'age': 30, 'caps': '82', 'goals': '17', 'country': 'Belgium', 'club': 'Manchester United', 'Top League': 1, 'CL League 2017-2018': 1}, {'name': 'Romelu Lukaku', 'pos': 'FW', 'age': 25, 'caps': '69', 'goals': '36', 'country': 'Belgium', 'club': 'Manchester United', 'Top League': 1, 'CL League 2017-2018': 1}, {'name': 'Eden Hazard', 'pos': 'FW', 'age': 27, 'caps': '86', 'goals': '22', 'country': 'Belgium', 'club': 'Chelsea', 'Top League': 1, 'CL League 2017-2018': 1}, {'name': 'Yannick Carrasco', 'pos': 'MF', 'age': 24, 'caps': '26', 'goals': '5', 'country': 'Belgium', 'club': 'Dalian Yifang', 'Top League': 0, 'CL League 2017-2018': 0}, {'name': 'Simon Mignolet', 'pos': 'GK', 'age': 30, 'caps': '21', 'goals': '0', 'country': 'Belgium', 'club': 'Liverpool', 'Top League': 1, 'CL League 2017-2018': 1}, {'name': 'Koen Casteels', 'pos': 'GK', 'age': 26, 'caps': '0', 'goals': '0', 'country': 'Belgium', 'club': 'VfL Wolfsburg', 'Top League': 1, 'CL League 2017-2018': 0}, {'name': 'Dries Mertens', 'pos': 'FW', 'age': 31, 'caps': '69', 'goals': '14', 'country': 'Belgium', 'club': 'Napoli', 'Top League': 1, 'CL League 2017-2018': 1}, {'name': 'Thomas Meunier', 'pos': 'DF', 'age': 26, 'caps': '25', 'goals': '5', 'country': 'Belgium', 'club': 'Paris Saint-Germain', 'Top League': 1, 'CL League 2017-2018': 1}, {'name': 'Thorgan Hazard', 'pos': 'MF', 'age': 25, 'caps': '11', 'goals': '1', 'country': 'Belgium', 'club': 'Borussia Mönchengladbach', 'Top League': 1, 'CL League 2017-2018': 0}, {'name': 'Youri Tielemans', 'pos': 'MF', 'age': 21, 'caps': '9', 'goals': '0', 'country': 'Belgium', 'club': 'Monaco', 'Top League': 1, 'CL League 2017-2018': 1}, {'name': 'Adnan Januzaj', 'pos': 'FW', 'age': 23, 'caps': '8', 'goals': '0', 'country': 'Belgium', 'club': 'Real Sociedad', 'Top League': 1, 'CL League 2017-2018': 0}, {'name': 'Mousa Dembélé', 'pos': 'MF', 'age': 30, 'caps': '76', 'goals': '5', 'country': 'Belgium', 'club': 'Tottenham Hotspur', 'Top League': 1, 'CL League 2017-2018': 1}, {'name': 'Dedryck Boyata', 'pos': 'DF', 'age': 27, 'caps': '7', 'goals': '0', 'country': 'Belgium', 'club': 'Celtic', 'Top League': 0, 'CL League 2017-2018': 1}, {'name': 'Michy Batshuayi', 'pos': 'FW', 'age': 24, 'caps': '16', 'goals': '7', 'country': 'Belgium', 'club': 'Borussia Dortmund', 'Top League': 1, 'CL League 2017-2018': 1}, {'name': 'Nacer Chadli', 'pos': 'MF', 'age': 28, 'caps': '45', 'goals': '5', 'country': 'Belgium', 'club': 'West Bromwich Albion', 'Top League': 1, 'CL League 2017-2018': 0}, {'name': 'Leander Dendoncker', 'pos': 'DF', 'age': 23, 'caps': '5', 'goals': '0', 'country': 'Belgium', 'club': 'Anderlecht', 'Top League': 0, 'CL League 2017-2018': 1}, {'name': 'Jordan Pickford', 'pos': 'GK', 'age': 24, 'caps': '3', 'goals': '0', 'country': 'England', 'club': 'Everton', 'Top League': 1, 'CL League 2017-2018': 0}, {'name': 'Kyle Walker', 'pos': 'DF', 'age': 28, 'caps': '35', 'goals': '0', 'country': 'England', 'club': 'Manchester City', 'Top League': 1, 'CL League 2017-2018': 1}, {'name': 'Danny Rose', 'pos': 'DF', 'age': 27, 'caps': '18', 'goals': '0', 'country': 'England', 'club': 'Tottenham Hotspur', 'Top League': 1, 'CL League 2017-2018': 1}, {'name': 'Eric Dier', 'pos': 'MF', 'age': 24, 'caps': '26', 'goals': '3', 'country': 'England', 'club': 'Tottenham Hotspur', 'Top League': 1, 'CL League 2017-2018': 1}, {'name': 'John Stones', 'pos': 'DF', 'age': 24, 'caps': '26', 'goals': '0', 'country': 'England', 'club': 'Manchester City', 'Top League': 1, 'CL League 2017-2018': 1}, {'name': 'Harry Maguire', 'pos': 'DF', 'age': 25, 'caps': '5', 'goals': '0', 'country': 'England', 'club': 'Leicester City', 'Top League': 1, 'CL League 2017-2018': 0}, {'name': 'Jesse Lingard', 'pos': 'MF', 'age': 25, 'caps': '12', 'goals': '1', 'country': 'England', 'club': 'Manchester United', 'Top League': 1, 'CL League 2017-2018': 1}, {'name': 'Jordan Henderson', 'pos': 'MF', 'age': 28, 'caps': '39', 'goals': '0', 'country': 'England', 'club': 'Liverpool', 'Top League': 1, 'CL League 2017-2018': 1}, {'name': 'Harry Kane', 'pos': 'FW', 'age': 24, 'caps': '24', 'goals': '13', 'country': 'England', 'club': 'Tottenham Hotspur', 'Top League': 1, 'CL League 2017-2018': 1}, {'name': 'Raheem Sterling', 'pos': 'FW', 'age': 23, 'caps': '38', 'goals': '2', 'country': 'England', 'club': 'Manchester City', 'Top League': 1, 'CL League 2017-2018': 1}, {'name': 'Jamie Vardy', 'pos': 'FW', 'age': 31, 'caps': '22', 'goals': '7', 'country': 'England', 'club': 'Leicester City', 'Top League': 1, 'CL League 2017-2018': 0}, {'name': 'Kieran Trippier', 'pos': 'DF', 'age': 27, 'caps': '7', 'goals': '0', 'country': 'England', 'club': 'Tottenham Hotspur', 'Top League': 1, 'CL League 2017-2018': 1}, {'name': 'Jack Butland', 'pos': 'GK', 'age': 25, 'caps': '8', 'goals': '0', 'country': 'England', 'club': 'Stoke City', 'Top League': 1, 'CL League 2017-2018': 0}, {'name': 'Danny Welbeck', 'pos': 'FW', 'age': 27, 'caps': '39', 'goals': '16', 'country': 'England', 'club': 'Arsenal', 'Top League': 1, 'CL League 2017-2018': 0}, {'name': 'Gary Cahill', 'pos': 'DF', 'age': 32, 'caps': '60', 'goals': '5', 'country': 'England', 'club': 'Chelsea', 'Top League': 1, 'CL League 2017-2018': 1}, {'name': 'Phil Jones', 'pos': 'DF', 'age': 26, 'caps': '25', 'goals': '0', 'country': 'England', 'club': 'Manchester United', 'Top League': 1, 'CL League 2017-2018': 1}, {'name': 'Fabian Delph', 'pos': 'DF', 'age': 28, 'caps': '11', 'goals': '0', 'country': 'England', 'club': 'Manchester City', 'Top League': 1, 'CL League 2017-2018': 1}, {'name': 'Ashley Young', 'pos': 'DF', 'age': 32, 'caps': '34', 'goals': '7', 'country': 'England', 'club': 'Manchester United', 'Top League': 1, 'CL League 2017-2018': 1}, {'name': 'Marcus Rashford', 'pos': 'FW', 'age': 20, 'caps': '19', 'goals': '3', 'country': 'England', 'club': 'Manchester United', 'Top League': 1, 'CL League 2017-2018': 1}, {'name': 'Dele Alli', 'pos': 'MF', 'age': 22, 'caps': '25', 'goals': '2', 'country': 'England', 'club': 'Tottenham Hotspur', 'Top League': 1, 'CL League 2017-2018': 1}, {'name': 'Ruben Loftus-Cheek', 'pos': 'MF', 'age': 22, 'caps': '4', 'goals': '0', 'country': 'England', 'club': 'Crystal Palace', 'Top League': 1, 'CL League 2017-2018': 0}, {'name': 'Trent Alexander-Arnold', 'pos': 'DF', 'age': 19, 'caps': '1', 'goals': '0', 'country': 'England', 'club': 'Liverpool', 'Top League': 1, 'CL League 2017-2018': 1}, {'name': 'Nick Pope', 'pos': 'GK', 'age': 26, 'caps': '1', 'goals': '0', 'country': 'England', 'club': 'Burnley', 'Top League': 1, 'CL League 2017-2018': 0}, {'name': 'Jaime Penedo', 'pos': 'GK', 'age': 36, 'caps': '131', 'goals': '0', 'country': 'Panama', 'club': 'Dinamo București', 'Top League': 0, 'CL League 2017-2018': 0}, {'name': 'Michael Amir Murillo', 'pos': 'DF', 'age': 22, 'caps': '22', 'goals': '2', 'country': 'Panama', 'club': 'New York Red Bulls', 'Top League': 0, 'CL League 2017-2018': 0}, {'name': 'Harold Cummings', 'pos': 'DF', 'age': 26, 'caps': '52', 'goals': '0', 'country': 'Panama', 'club': 'San Jose Earthquakes', 'Top League': 0, 'CL League 2017-2018': 0}, {'name': 'Fidel Escobar', 'pos': 'DF', 'age': 23, 'caps': '23', 'goals': '1', 'country': 'Panama', 'club': 'New York Red Bulls', 'Top League': 0, 'CL League 2017-2018': 0}, {'name': 'Román Torres', 'pos': 'DF', 'age': 32, 'caps': '111', 'goals': '10', 'country': 'Panama', 'club': 'Seattle Sounders FC', 'Top League': 0, 'CL League 2017-2018': 0}, {'name': 'Gabriel Gómez', 'pos': 'MF', 'age': 34, 'caps': '144', 'goals': '12', 'country': 'Panama', 'club': 'Atlético Bucaramanga', 'Top League': 0, 'CL League 2017-2018': 0}, {'name': 'Blas Pérez', 'pos': 'FW', 'age': 37, 'caps': '118', 'goals': '43', 'country': 'Panama', 'club': 'Municipal', 'Top League': 0, 'CL League 2017-2018': 0}, {'name': 'Édgar Bárcenas', 'pos': 'MF', 'age': 24, 'caps': '29', 'goals': '0', 'country': 'Panama', 'club': 'Tapachula', 'Top League': 0, 'CL League 2017-2018': 0}, {'name': 'Gabriel Torres', 'pos': 'FW', 'age': 29, 'caps': '72', 'goals': '14', 'country': 'Panama', 'club': 'Huachipato', 'Top League': 0, 'CL League 2017-2018': 0}, {'name': 'Ismael Díaz', 'pos': 'FW', 'age': 21, 'caps': '11', 'goals': '2', 'country': 'Panama', 'club': 'Deportivo Fabril', 'Top League': 1, 'CL League 2017-2018': 0}, {'name': 'Armando Cooper', 'pos': 'MF', 'age': 30, 'caps': '98', 'goals': '7', 'country': 'Panama', 'club': 'Universidad de Chile', 'Top League': 0, 'CL League 2017-2018': 0}, {'name': 'José Calderón', 'pos': 'GK', 'age': 32, 'caps': '31', 'goals': '0', 'country': 'Panama', 'club': 'Chorrillo', 'Top League': 0, 'CL League 2017-2018': 0}, {'name': 'Adolfo Machado', 'pos': 'DF', 'age': 33, 'caps': '76', 'goals': '1', 'country': 'Panama', 'club': 'Houston Dynamo', 'Top League': 0, 'CL League 2017-2018': 0}, {'name': 'Valentín Pimentel', 'pos': 'MF', 'age': 27, 'caps': '23', 'goals': '1', 'country': 'Panama', 'club': 'Plaza Amador', 'Top League': 0, 'CL League 2017-2018': 0}, {'name': 'Erick Davis', 'pos': 'DF', 'age': 27, 'caps': '38', 'goals': '0', 'country': 'Panama', 'club': 'Dunajská Streda', 'Top League': 0, 'CL League 2017-2018': 0}, {'name': 'Abdiel Arroyo', 'pos': 'FW', 'age': 24, 'caps': '33', 'goals': '5', 'country': 'Panama', 'club': 'Alajuelense', 'Top League': 0, 'CL League 2017-2018': 0}, {'name': 'Luis Ovalle', 'pos': 'DF', 'age': 29, 'caps': '25', 'goals': '0', 'country': 'Panama', 'club': 'CD Olimpia', 'Top League': 0, 'CL League 2017-2018': 0}, {'name': 'Luis Tejada', 'pos': 'FW', 'age': 36, 'caps': '105', 'goals': '43', 'country': 'Panama', 'club': 'Sport Boys', 'Top League': 0, 'CL League 2017-2018': 0}, {'name': 'Ricardo Ávila', 'pos': 'MF', 'age': 21, 'caps': '5', 'goals': '0', 'country': 'Panama', 'club': 'Gent', 'Top League': 0, 'CL League 2017-2018': 0}, {'name': 'Aníbal Godoy', 'pos': 'MF', 'age': 28, 'caps': '88', 'goals': '1', 'country': 'Panama', 'club': 'San Jose Earthquakes', 'Top League': 0, 'CL League 2017-2018': 0}, {'name': 'José Luis Rodríguez', 'pos': 'MF', 'age': 20, 'caps': '2', 'goals': '0', 'country': 'Panama', 'club': 'Gent', 'Top League': 0, 'CL League 2017-2018': 0}, {'name': 'Álex Rodríguez', 'pos': 'GK', 'age': 27, 'caps': '6', 'goals': '0', 'country': 'Panama', 'club': 'San Francisco', 'Top League': 0, 'CL League 2017-2018': 0}, {'name': 'Felipe Baloy', 'pos': 'DF', 'age': 37, 'caps': '102', 'goals': '3', 'country': 'Panama', 'club': 'Municipal', 'Top League': 0, 'CL League 2017-2018': 0}, {'name': 'Farouk Ben Mustapha', 'pos': 'GK', 'age': 29, 'caps': '15', 'goals': '0', 'country': 'Tunisia', 'club': 'Al-Shabab', 'Top League': 0, 'CL League 2017-2018': 0}, {'name': 'Syam Ben Youssef', 'pos': 'DF', 'age': 29, 'caps': '42', 'goals': '1', 'country': 'Tunisia', 'club': 'Kasımpaşa', 'Top League': 0, 'CL League 2017-2018': 0}, {'name': 'Yohan Benalouane', 'pos': 'DF', 'age': 31, 'caps': '4', 'goals': '0', 'country': 'Tunisia', 'club': 'Leicester City', 'Top League': 1, 'CL League 2017-2018': 0}, {'name': 'Yassine Meriah', 'pos': 'DF', 'age': 24, 'caps': '16', 'goals': '1', 'country': 'Tunisia', 'club': 'CS Sfaxien', 'Top League': 0, 'CL League 2017-2018': 0}, {'name': 'Oussama Haddadi', 'pos': 'DF', 'age': 26, 'caps': '9', 'goals': '0', 'country': 'Tunisia', 'club': 'Dijon', 'Top League': 1, 'CL League 2017-2018': 0}, {'name': 'Rami Bedoui', 'pos': 'DF', 'age': 28, 'caps': '8', 'goals': '0', 'country': 'Tunisia', 'club': 'Étoile du Sahel', 'Top League': 0, 'CL League 2017-2018': 0}, {'name': 'Saîf-Eddine Khaoui', 'pos': 'FW', 'age': 23, 'caps': '5', 'goals': '0', 'country': 'Tunisia', 'club': 'Troyes', 'Top League': 1, 'CL League 2017-2018': 0}, {'name': 'Fakhreddine Ben Youssef', 'pos': 'FW', 'age': 27, 'caps': '39', 'goals': '5', 'country': 'Tunisia', 'club': 'Al-Ettifaq', 'Top League': 0, 'CL League 2017-2018': 0}, {'name': 'Anice Badri', 'pos': 'MF', 'age': 27, 'caps': '7', 'goals': '2', 'country': 'Tunisia', 'club': 'Espérance', 'Top League': 0, 'CL League 2017-2018': 0}, {'name': 'Wahbi Khazri', 'pos': 'FW', 'age': 27, 'caps': '35', 'goals': '12', 'country': 'Tunisia', 'club': 'Rennes', 'Top League': 1, 'CL League 2017-2018': 0}, {'name': 'Dylan Bronn', 'pos': 'DF', 'age': 23, 'caps': '5', 'goals': '0', 'country': 'Tunisia', 'club': 'Gent', 'Top League': 0, 'CL League 2017-2018': 0}, {'name': 'Ali Maâloul', 'pos': 'DF', 'age': 28, 'caps': '46', 'goals': '0', 'country': 'Tunisia', 'club': 'Al Ahly', 'Top League': 0, 'CL League 2017-2018': 0}, {'name': 'Ferjani Sassi', 'pos': 'MF', 'age': 26, 'caps': '39', 'goals': '3', 'country': 'Tunisia', 'club': 'Al-Nassr', 'Top League': 0, 'CL League 2017-2018': 0}, {'name': 'Mohamed Amine Ben Amor', 'pos': 'MF', 'age': 26, 'caps': '26', 'goals': '1', 'country': 'Tunisia', 'club': 'Al-Ahli', 'Top League': 0, 'CL League 2017-2018': 0}, {'name': 'Ahmed Khalil', 'pos': 'FW', 'age': 23, 'caps': '3', 'goals': '0', 'country': 'Tunisia', 'club': 'Club Africain', 'Top League': 0, 'CL League 2017-2018': 0}, {'name': 'Aymen Mathlouthi', 'pos': 'GK', 'age': 33, 'caps': '70', 'goals': '0', 'country': 'Tunisia', 'club': 'Al-Batin', 'Top League': 0, 'CL League 2017-2018': 0}, {'name': 'Ellyes Skhiri', 'pos': 'MF', 'age': 23, 'caps': '5', 'goals': '0', 'country': 'Tunisia', 'club': 'Montpellier', 'Top League': 1, 'CL League 2017-2018': 0}, {'name': 'Bassem Srarfi', 'pos': 'FW', 'age': 21, 'caps': '5', 'goals': '0', 'country': 'Tunisia', 'club': 'Nice', 'Top League': 1, 'CL League 2017-2018': 0}, {'name': 'Saber Khalifa', 'pos': 'FW', 'age': 31, 'caps': '44', 'goals': '7', 'country': 'Tunisia', 'club': 'Club Africain', 'Top League': 0, 'CL League 2017-2018': 0}, {'name': 'Ghailene Chaalali', 'pos': 'FW', 'age': 24, 'caps': '6', 'goals': '1', 'country': 'Tunisia', 'club': 'Espérance', 'Top League': 0, 'CL League 2017-2018': 0}, {'name': 'Hamdi Nagguez', 'pos': 'DF', 'age': 25, 'caps': '15', 'goals': '0', 'country': 'Tunisia', 'club': 'Zamalek', 'Top League': 0, 'CL League 2017-2018': 0}, {'name': 'Mouez Hassen', 'pos': 'GK', 'age': 23, 'caps': '3', 'goals': '0', 'country': 'Tunisia', 'club': 'Châteauroux', 'Top League': 1, 'CL League 2017-2018': 0}, {'name': 'Naïm Sliti', 'pos': 'FW', 'age': 25, 'caps': '17', 'goals': '3', 'country': 'Tunisia', 'club': 'Dijon', 'Top League': 1, 'CL League 2017-2018': 0}, {'name': 'David Ospina', 'pos': 'GK', 'age': 29, 'caps': '86', 'goals': '0', 'country': 'Colombia', 'club': 'Arsenal', 'Top League': 1, 'CL League 2017-2018': 0}, {'name': 'Cristián Zapata', 'pos': 'DF', 'age': 31, 'caps': '55', 'goals': '2', 'country': 'Colombia', 'club': 'Milan', 'Top League': 1, 'CL League 2017-2018': 0}, {'name': 'Óscar Murillo', 'pos': 'DF', 'age': 30, 'caps': '13', 'goals': '0', 'country': 'Colombia', 'club': 'Pachuca', 'Top League': 0, 'CL League 2017-2018': 0}, {'name': 'Santiago Arias', 'pos': 'DF', 'age': 26, 'caps': '41', 'goals': '0', 'country': 'Colombia', 'club': 'PSV Eindhoven', 'Top League': 0, 'CL League 2017-2018': 0}, {'name': 'Wílmar Barrios', 'pos': 'MF', 'age': 24, 'caps': '10', 'goals': '0', 'country': 'Colombia', 'club': 'Boca Juniors', 'Top League': 0, 'CL League 2017-2018': 0}, {'name': 'Carlos Sánchez', 'pos': 'MF', 'age': 32, 'caps': '85', 'goals': '0', 'country': 'Colombia', 'club': 'Espanyol', 'Top League': 1, 'CL League 2017-2018': 0}, {'name': 'Carlos Bacca', 'pos': 'FW', 'age': 31, 'caps': '45', 'goals': '14', 'country': 'Colombia', 'club': 'Villarreal', 'Top League': 1, 'CL League 2017-2018': 0}, {'name': 'Abel Aguilar', 'pos': 'MF', 'age': 33, 'caps': '70', 'goals': '7', 'country': 'Colombia', 'club': 'Deportivo Cali', 'Top League': 0, 'CL League 2017-2018': 0}, {'name': 'Radamel Falcao', 'pos': 'FW', 'age': 32, 'caps': '73', 'goals': '29', 'country': 'Colombia', 'club': 'Monaco', 'Top League': 1, 'CL League 2017-2018': 1}, {'name': 'James Rodríguez', 'pos': 'MF', 'age': 26, 'caps': '63', 'goals': '21', 'country': 'Colombia', 'club': 'Bayern Munich', 'Top League': 1, 'CL League 2017-2018': 1}, {'name': 'Juan Cuadrado', 'pos': 'MF', 'age': 30, 'caps': '70', 'goals': '7', 'country': 'Colombia', 'club': 'Juventus', 'Top League': 1, 'CL League 2017-2018': 1}, {'name': 'Camilo Vargas', 'pos': 'GK', 'age': 29, 'caps': '5', 'goals': '0', 'country': 'Colombia', 'club': 'Deportivo Cali', 'Top League': 0, 'CL League 2017-2018': 0}, {'name': 'Yerry Mina', 'pos': 'DF', 'age': 23, 'caps': '12', 'goals': '3', 'country': 'Colombia', 'club': 'Barcelona', 'Top League': 1, 'CL League 2017-2018': 1}, {'name': 'Luis Muriel', 'pos': 'FW', 'age': 27, 'caps': '18', 'goals': '2', 'country': 'Colombia', 'club': 'Sevilla', 'Top League': 1, 'CL League 2017-2018': 1}, {'name': 'Mateus Uribe', 'pos': 'MF', 'age': 27, 'caps': '8', 'goals': '0', 'country': 'Colombia', 'club': 'América', 'Top League': 0, 'CL League 2017-2018': 0}, {'name': 'Jefferson Lerma', 'pos': 'MF', 'age': 23, 'caps': '5', 'goals': '0', 'country': 'Colombia', 'club': 'Levante', 'Top League': 1, 'CL League 2017-2018': 0}, {'name': 'Johan Mojica', 'pos': 'DF', 'age': 25, 'caps': '4', 'goals': '1', 'country': 'Colombia', 'club': 'Girona', 'Top League': 1, 'CL League 2017-2018': 0}, {'name': 'Farid Díaz', 'pos': 'DF', 'age': 34, 'caps': '13', 'goals': '0', 'country': 'Colombia', 'club': 'Olimpia', 'Top League': 0, 'CL League 2017-2018': 0}, {'name': 'Miguel Borja', 'pos': 'FW', 'age': 25, 'caps': '7', 'goals': '2', 'country': 'Colombia', 'club': 'Palmeiras', 'Top League': 0, 'CL League 2017-2018': 0}, {'name': 'Juan Fernando Quintero', 'pos': 'MF', 'age': 25, 'caps': '15', 'goals': '2', 'country': 'Colombia', 'club': 'River Plate', 'Top League': 0, 'CL League 2017-2018': 0}, {'name': 'José Izquierdo', 'pos': 'FW', 'age': 25, 'caps': '5', 'goals': '1', 'country': 'Colombia', 'club': 'Brighton & Hove Albion', 'Top League': 1, 'CL League 2017-2018': 0}, {'name': 'José Fernando Cuadrado', 'pos': 'GK', 'age': 33, 'caps': '1', 'goals': '0', 'country': 'Colombia', 'club': 'Once Caldas', 'Top League': 0, 'CL League 2017-2018': 0}, {'name': 'Dávinson Sánchez', 'pos': 'DF', 'age': 22, 'caps': '9', 'goals': '0', 'country': 'Colombia', 'club': 'Tottenham Hotspur', 'Top League': 1, 'CL League 2017-2018': 1}, {'name': 'Eiji Kawashima', 'pos': 'GK', 'age': 35, 'caps': '84', 'goals': '0', 'country': 'Japan', 'club': 'Metz', 'Top League': 1, 'CL League 2017-2018': 0}, {'name': 'Naomichi Ueda', 'pos': 'DF', 'age': 23, 'caps': '4', 'goals': '0', 'country': 'Japan', 'club': 'Kashima Antlers', 'Top League': 0, 'CL League 2017-2018': 0}, {'name': 'Gen Shoji', 'pos': 'DF', 'age': 25, 'caps': '11', 'goals': '1', 'country': 'Japan', 'club': 'Kashima Antlers', 'Top League': 0, 'CL League 2017-2018': 0}, {'name': 'Keisuke Honda', 'pos': 'MF', 'age': 32, 'caps': '95', 'goals': '36', 'country': 'Japan', 'club': 'Pachuca', 'Top League': 0, 'CL League 2017-2018': 0}, {'name': 'Yuto Nagatomo', 'pos': 'DF', 'age': 31, 'caps': '105', 'goals': '3', 'country': 'Japan', 'club': 'Galatasaray', 'Top League': 0, 'CL League 2017-2018': 0}, {'name': 'Wataru Endo', 'pos': 'DF', 'age': 25, 'caps': '12', 'goals': '0', 'country': 'Japan', 'club': 'Urawa Red Diamonds', 'Top League': 0, 'CL League 2017-2018': 0}, {'name': 'Gaku Shibasaki', 'pos': 'MF', 'age': 26, 'caps': '18', 'goals': '3', 'country': 'Japan', 'club': 'Getafe', 'Top League': 1, 'CL League 2017-2018': 0}, {'name': 'Genki Haraguchi', 'pos': 'MF', 'age': 27, 'caps': '33', 'goals': '6', 'country': 'Japan', 'club': 'Fortuna Düsseldorf', 'Top League': 1, 'CL League 2017-2018': 0}, {'name': 'Shinji Okazaki', 'pos': 'FW', 'age': 32, 'caps': '113', 'goals': '50', 'country': 'Japan', 'club': 'Leicester City', 'Top League': 1, 'CL League 2017-2018': 0}, {'name': 'Shinji Kagawa', 'pos': 'MF', 'age': 29, 'caps': '92', 'goals': '30', 'country': 'Japan', 'club': 'Borussia Dortmund', 'Top League': 1, 'CL League 2017-2018': 1}, {'name': 'Takashi Usami', 'pos': 'MF', 'age': 26, 'caps': '24', 'goals': '3', 'country': 'Japan', 'club': 'Fortuna Düsseldorf', 'Top League': 1, 'CL League 2017-2018': 0}, {'name': 'Masaaki Higashiguchi', 'pos': 'GK', 'age': 32, 'caps': '5', 'goals': '0', 'country': 'Japan', 'club': 'Gamba Osaka', 'Top League': 0, 'CL League 2017-2018': 0}, {'name': 'Yoshinori Muto', 'pos': 'FW', 'age': 25, 'caps': '24', 'goals': '2', 'country': 'Japan', 'club': 'Mainz 05', 'Top League': 1, 'CL League 2017-2018': 0}, {'name': 'Takashi Inui', 'pos': 'MF', 'age': 30, 'caps': '27', 'goals': '4', 'country': 'Japan', 'club': 'Eibar', 'Top League': 1, 'CL League 2017-2018': 0}, {'name': 'Yuya Osako', 'pos': 'FW', 'age': 28, 'caps': '29', 'goals': '7', 'country': 'Japan', 'club': '1. FC Köln', 'Top League': 1, 'CL League 2017-2018': 0}, {'name': 'Hotaru Yamaguchi', 'pos': 'MF', 'age': 27, 'caps': '42', 'goals': '2', 'country': 'Japan', 'club': 'Cerezo Osaka', 'Top League': 0, 'CL League 2017-2018': 0}, {'name': 'Makoto Hasebe', 'pos': 'MF', 'age': 34, 'caps': '110', 'goals': '2', 'country': 'Japan', 'club': 'Eintracht Frankfurt', 'Top League': 1, 'CL League 2017-2018': 0}, {'name': 'Ryota Oshima', 'pos': 'MF', 'age': 25, 'caps': '5', 'goals': '0', 'country': 'Japan', 'club': 'Kawasaki Frontale', 'Top League': 0, 'CL League 2017-2018': 0}, {'name': 'Hiroki Sakai', 'pos': 'DF', 'age': 28, 'caps': '43', 'goals': '0', 'country': 'Japan', 'club': 'Marseille', 'Top League': 1, 'CL League 2017-2018': 0}, {'name': 'Tomoaki Makino', 'pos': 'DF', 'age': 31, 'caps': '32', 'goals': '4', 'country': 'Japan', 'club': 'Urawa Red Diamonds', 'Top League': 0, 'CL League 2017-2018': 0}, {'name': 'Gōtoku Sakai', 'pos': 'DF', 'age': 27, 'caps': '41', 'goals': '0', 'country': 'Japan', 'club': 'Hamburger SV', 'Top League': 1, 'CL League 2017-2018': 0}, {'name': 'Maya Yoshida', 'pos': 'DF', 'age': 29, 'caps': '82', 'goals': '10', 'country': 'Japan', 'club': 'Southampton', 'Top League': 1, 'CL League 2017-2018': 0}, {'name': 'Kosuke Nakamura', 'pos': 'GK', 'age': 23, 'caps': '4', 'goals': '0', 'country': 'Japan', 'club': 'Kashiwa Reysol', 'Top League': 0, 'CL League 2017-2018': 0}, {'name': 'Wojciech Szczęsny', 'pos': 'GK', 'age': 28, 'caps': '35', 'goals': '0', 'country': 'Poland', 'club': 'Juventus', 'Top League': 1, 'CL League 2017-2018': 1}, {'name': 'Michał Pazdan', 'pos': 'DF', 'age': 30, 'caps': '33', 'goals': '0', 'country': 'Poland', 'club': 'Legia Warsaw', 'Top League': 0, 'CL League 2017-2018': 0}, {'name': 'Artur Jędrzejczyk', 'pos': 'DF', 'age': 30, 'caps': '36', 'goals': '3', 'country': 'Poland', 'club': 'Legia Warsaw', 'Top League': 0, 'CL League 2017-2018': 0}, {'name': 'Thiago Cionek', 'pos': 'DF', 'age': 32, 'caps': '19', 'goals': '0', 'country': 'Poland', 'club': 'SPAL', 'Top League': 1, 'CL League 2017-2018': 0}, {'name': 'Jan Bednarek', 'pos': 'DF', 'age': 22, 'caps': '3', 'goals': '0', 'country': 'Poland', 'club': 'Southampton', 'Top League': 1, 'CL League 2017-2018': 0}, {'name': 'Jacek Góralski', 'pos': 'MF', 'age': 25, 'caps': '5', 'goals': '0', 'country': 'Poland', 'club': 'Ludogorets Razgrad', 'Top League': 0, 'CL League 2017-2018': 0}, {'name': 'Arkadiusz Milik', 'pos': 'FW', 'age': 24, 'caps': '40', 'goals': '12', 'country': 'Poland', 'club': 'Napoli', 'Top League': 1, 'CL League 2017-2018': 1}, {'name': 'Karol Linetty', 'pos': 'MF', 'age': 23, 'caps': '20', 'goals': '1', 'country': 'Poland', 'club': 'Sampdoria', 'Top League': 1, 'CL League 2017-2018': 0}, {'name': 'Robert Lewandowski', 'pos': 'FW', 'age': 29, 'caps': '95', 'goals': '55', 'country': 'Poland', 'club': 'Bayern Munich', 'Top League': 1, 'CL League 2017-2018': 1}, {'name': 'Grzegorz Krychowiak', 'pos': 'MF', 'age': 28, 'caps': '51', 'goals': '2', 'country': 'Poland', 'club': 'West Bromwich Albion', 'Top League': 1, 'CL League 2017-2018': 0}, {'name': 'Kamil Grosicki', 'pos': 'MF', 'age': 30, 'caps': '57', 'goals': '12', 'country': 'Poland', 'club': 'Hull City', 'Top League': 1, 'CL League 2017-2018': 0}, {'name': 'Bartosz Białkowski', 'pos': 'GK', 'age': 30, 'caps': '1', 'goals': '0', 'country': 'Poland', 'club': 'Ipswich Town', 'Top League': 1, 'CL League 2017-2018': 0}, {'name': 'Maciej Rybus', 'pos': 'MF', 'age': 28, 'caps': '51', 'goals': '2', 'country': 'Poland', 'club': 'Lokomotiv Moscow', 'Top League': 0, 'CL League 2017-2018': 0}, {'name': 'Łukasz Teodorczyk', 'pos': 'FW', 'age': 27, 'caps': '17', 'goals': '4', 'country': 'Poland', 'club': 'Anderlecht', 'Top League': 0, 'CL League 2017-2018': 1}, {'name': 'Kamil Glik', 'pos': 'DF', 'age': 30, 'caps': '57', 'goals': '4', 'country': 'Poland', 'club': 'Monaco', 'Top League': 1, 'CL League 2017-2018': 1}, {'name': 'Jakub Błaszczykowski', 'pos': 'MF', 'age': 32, 'caps': '99', 'goals': '20', 'country': 'Poland', 'club': 'VfL Wolfsburg', 'Top League': 1, 'CL League 2017-2018': 0}, {'name': 'Sławomir Peszko', 'pos': 'MF', 'age': 33, 'caps': '43', 'goals': '2', 'country': 'Poland', 'club': 'Lechia Gdańsk', 'Top League': 0, 'CL League 2017-2018': 0}, {'name': 'Bartosz Bereszyński', 'pos': 'DF', 'age': 25, 'caps': '8', 'goals': '0', 'country': 'Poland', 'club': 'Sampdoria', 'Top League': 1, 'CL League 2017-2018': 0}, {'name': 'Piotr Zieliński', 'pos': 'MF', 'age': 24, 'caps': '33', 'goals': '5', 'country': 'Poland', 'club': 'Napoli', 'Top League': 1, 'CL League 2017-2018': 1}, {'name': 'Łukasz Piszczek', 'pos': 'DF', 'age': 33, 'caps': '63', 'goals': '3', 'country': 'Poland', 'club': 'Borussia Dortmund', 'Top League': 1, 'CL League 2017-2018': 1}, {'name': 'Rafał Kurzawa', 'pos': 'MF', 'age': 25, 'caps': '3', 'goals': '0', 'country': 'Poland', 'club': 'Górnik Zabrze', 'Top League': 0, 'CL League 2017-2018': 0}, {'name': 'Łukasz Fabiański', 'pos': 'GK', 'age': 33, 'caps': '45', 'goals': '0', 'country': 'Poland', 'club': 'Swansea City', 'Top League': 0, 'CL League 2017-2018': 0}, {'name': 'Dawid Kownacki', 'pos': 'FW', 'age': 21, 'caps': '2', 'goals': '1', 'country': 'Poland', 'club': 'Sampdoria', 'Top League': 1, 'CL League 2017-2018': 0}, {'name': 'Abdoulaye Diallo', 'pos': 'GK', 'age': 26, 'caps': '17', 'goals': '0', 'country': 'Senegal', 'club': 'Rennes', 'Top League': 1, 'CL League 2017-2018': 0}, {'name': 'Adama Mbengue', 'pos': 'DF', 'age': 24, 'caps': '6', 'goals': '0', 'country': 'Senegal', 'club': 'Caen', 'Top League': 1, 'CL League 2017-2018': 0}, {'name': 'Kalidou Koulibaly', 'pos': 'DF', 'age': 27, 'caps': '26', 'goals': '0', 'country': 'Senegal', 'club': 'Napoli', 'Top League': 1, 'CL League 2017-2018': 1}, {'name': 'Kara Mbodji', 'pos': 'DF', 'age': 28, 'caps': '52', 'goals': '5', 'country': 'Senegal', 'club': 'Anderlecht', 'Top League': 0, 'CL League 2017-2018': 1}, {'name': 'Idrissa Gueye', 'pos': 'MF', 'age': 28, 'caps': '61', 'goals': '1', 'country': 'Senegal', 'club': 'Everton', 'Top League': 1, 'CL League 2017-2018': 0}, {'name': 'Salif Sané', 'pos': 'MF', 'age': 27, 'caps': '22', 'goals': '0', 'country': 'Senegal', 'club': 'Hannover 96', 'Top League': 1, 'CL League 2017-2018': 0}, {'name': 'Moussa Sow', 'pos': 'FW', 'age': 32, 'caps': '51', 'goals': '18', 'country': 'Senegal', 'club': 'Bursaspor', 'Top League': 0, 'CL League 2017-2018': 0}, {'name': 'Cheikhou Kouyaté', 'pos': 'MF', 'age': 28, 'caps': '48', 'goals': '2', 'country': 'Senegal', 'club': 'West Ham United', 'Top League': 1, 'CL League 2017-2018': 0}, {'name': 'Mame Biram Diouf', 'pos': 'FW', 'age': 30, 'caps': '49', 'goals': '10', 'country': 'Senegal', 'club': 'Stoke City', 'Top League': 1, 'CL League 2017-2018': 0}, {'name': 'Sadio Mané', 'pos': 'FW', 'age': 26, 'caps': '53', 'goals': '14', 'country': 'Senegal', 'club': 'Liverpool', 'Top League': 1, 'CL League 2017-2018': 1}, {'name': \"Cheikh N'Doye\", 'pos': 'MF', 'age': 32, 'caps': '26', 'goals': '3', 'country': 'Senegal', 'club': 'Birmingham City', 'Top League': 1, 'CL League 2017-2018': 0}, {'name': 'Youssouf Sabaly', 'pos': 'DF', 'age': 25, 'caps': '5', 'goals': '0', 'country': 'Senegal', 'club': 'Bordeaux', 'Top League': 1, 'CL League 2017-2018': 0}, {'name': \"Alfred N'Diaye\", 'pos': 'MF', 'age': 28, 'caps': '21', 'goals': '0', 'country': 'Senegal', 'club': 'Wolverhampton Wanderers', 'Top League': 1, 'CL League 2017-2018': 0}, {'name': 'Moussa Konaté', 'pos': 'FW', 'age': 25, 'caps': '28', 'goals': '10', 'country': 'Senegal', 'club': 'Amiens', 'Top League': 1, 'CL League 2017-2018': 0}, {'name': 'Diafra Sakho', 'pos': 'FW', 'age': 28, 'caps': '12', 'goals': '3', 'country': 'Senegal', 'club': 'Rennes', 'Top League': 1, 'CL League 2017-2018': 0}, {'name': \"Khadim N'Diaye\", 'pos': 'GK', 'age': 33, 'caps': '26', 'goals': '0', 'country': 'Senegal', 'club': 'Horoya', 'Top League': 0, 'CL League 2017-2018': 0}, {'name': 'Badou Ndiaye', 'pos': 'MF', 'age': 27, 'caps': '20', 'goals': '1', 'country': 'Senegal', 'club': 'Stoke City', 'Top League': 1, 'CL League 2017-2018': 0}, {'name': 'Ismaïla Sarr', 'pos': 'FW', 'age': 20, 'caps': '16', 'goals': '3', 'country': 'Senegal', 'club': 'Rennes', 'Top League': 1, 'CL League 2017-2018': 0}, {'name': \"M'Baye Niang\", 'pos': 'FW', 'age': 23, 'caps': '7', 'goals': '0', 'country': 'Senegal', 'club': 'Torino', 'Top League': 1, 'CL League 2017-2018': 0}, {'name': 'Keita Baldé', 'pos': 'FW', 'age': 23, 'caps': '19', 'goals': '3', 'country': 'Senegal', 'club': 'Monaco', 'Top League': 1, 'CL League 2017-2018': 1}, {'name': 'Lamine Gassama', 'pos': 'DF', 'age': 28, 'caps': '36', 'goals': '0', 'country': 'Senegal', 'club': 'Alanyaspor', 'Top League': 0, 'CL League 2017-2018': 0}, {'name': 'Moussa Wagué', 'pos': 'DF', 'age': 19, 'caps': '10', 'goals': '0', 'country': 'Senegal', 'club': 'Eupen', 'Top League': 0, 'CL League 2017-2018': 0}, {'name': 'Alfred Gomis', 'pos': 'GK', 'age': 24, 'caps': '1', 'goals': '0', 'country': 'Senegal', 'club': 'SPAL', 'Top League': 1, 'CL League 2017-2018': 0}]\n",
            "['Egypt', 'Russia', 'Saudi Arabia', 'Uruguay', 'Iran', 'Morocco', 'Portugal', 'Spain', 'Australia', 'Denmark', 'France', 'Peru', 'Argentina', 'Croatia', 'Iceland', 'Nigeria', 'Brazil', 'Costa Rica', 'Serbia', 'Switzerland', 'Germany', 'Mexico', 'South Korea', 'Sweden', 'Belgium', 'England', 'Panama', 'Tunisia', 'Colombia', 'Japan', 'Poland', 'Senegal']\n"
          ],
          "name": "stdout"
        }
      ]
    },
    {
      "metadata": {
        "id": "OMUYu8L3ZfDe",
        "colab_type": "code",
        "outputId": "447e94d4-dcf3-41d6-d8f6-009869a7df16",
        "colab": {
          "base_uri": "https://localhost:8080/",
          "height": 391
        }
      },
      "cell_type": "code",
      "source": [
        "# put the squad data and nations participating on a data frame to use in later analysis\n",
        "\n",
        "# players squads in details and their respective information\n",
        "df_players = pd.DataFrame(starlist)\n",
        "display(df_players.head())\n",
        "\n",
        "# All the national teams participating in the world cup- used frequently throughout our worl\n",
        "df_countries = pd.DataFrame(countrylist,columns = ['Nations Participating'])\n",
        "display(df_countries.head())\n",
        "\n",
        "cup2018_players = df_players['name']\n",
        "\n",
        "list_of_players=df_players['name']"
      ],
      "execution_count": 7,
      "outputs": [
        {
          "output_type": "display_data",
          "data": {
            "text/html": [
              "<div>\n",
              "<style scoped>\n",
              "    .dataframe tbody tr th:only-of-type {\n",
              "        vertical-align: middle;\n",
              "    }\n",
              "\n",
              "    .dataframe tbody tr th {\n",
              "        vertical-align: top;\n",
              "    }\n",
              "\n",
              "    .dataframe thead th {\n",
              "        text-align: right;\n",
              "    }\n",
              "</style>\n",
              "<table border=\"1\" class=\"dataframe\">\n",
              "  <thead>\n",
              "    <tr style=\"text-align: right;\">\n",
              "      <th></th>\n",
              "      <th>CL League 2017-2018</th>\n",
              "      <th>Top League</th>\n",
              "      <th>age</th>\n",
              "      <th>caps</th>\n",
              "      <th>club</th>\n",
              "      <th>country</th>\n",
              "      <th>goals</th>\n",
              "      <th>name</th>\n",
              "      <th>pos</th>\n",
              "    </tr>\n",
              "  </thead>\n",
              "  <tbody>\n",
              "    <tr>\n",
              "      <th>0</th>\n",
              "      <td>0</td>\n",
              "      <td>0</td>\n",
              "      <td>45</td>\n",
              "      <td>158</td>\n",
              "      <td>Al-Taawoun</td>\n",
              "      <td>Egypt</td>\n",
              "      <td>0</td>\n",
              "      <td>Essam El-Hadary</td>\n",
              "      <td>GK</td>\n",
              "    </tr>\n",
              "    <tr>\n",
              "      <th>1</th>\n",
              "      <td>0</td>\n",
              "      <td>1</td>\n",
              "      <td>29</td>\n",
              "      <td>21</td>\n",
              "      <td>West Bromwich Albion</td>\n",
              "      <td>Egypt</td>\n",
              "      <td>1</td>\n",
              "      <td>Ali Gabr</td>\n",
              "      <td>DF</td>\n",
              "    </tr>\n",
              "    <tr>\n",
              "      <th>2</th>\n",
              "      <td>0</td>\n",
              "      <td>1</td>\n",
              "      <td>30</td>\n",
              "      <td>78</td>\n",
              "      <td>Aston Villa</td>\n",
              "      <td>Egypt</td>\n",
              "      <td>2</td>\n",
              "      <td>Ahmed Elmohamady</td>\n",
              "      <td>DF</td>\n",
              "    </tr>\n",
              "    <tr>\n",
              "      <th>3</th>\n",
              "      <td>0</td>\n",
              "      <td>0</td>\n",
              "      <td>26</td>\n",
              "      <td>24</td>\n",
              "      <td>Los Angeles FC</td>\n",
              "      <td>Egypt</td>\n",
              "      <td>0</td>\n",
              "      <td>Omar Gaber</td>\n",
              "      <td>MF</td>\n",
              "    </tr>\n",
              "    <tr>\n",
              "      <th>4</th>\n",
              "      <td>0</td>\n",
              "      <td>1</td>\n",
              "      <td>26</td>\n",
              "      <td>5</td>\n",
              "      <td>Wigan Athletic</td>\n",
              "      <td>Egypt</td>\n",
              "      <td>0</td>\n",
              "      <td>Sam Morsy</td>\n",
              "      <td>MF</td>\n",
              "    </tr>\n",
              "  </tbody>\n",
              "</table>\n",
              "</div>"
            ],
            "text/plain": [
              "   CL League 2017-2018  Top League  age caps                  club country  \\\n",
              "0                    0           0   45  158            Al-Taawoun   Egypt   \n",
              "1                    0           1   29   21  West Bromwich Albion   Egypt   \n",
              "2                    0           1   30   78           Aston Villa   Egypt   \n",
              "3                    0           0   26   24        Los Angeles FC   Egypt   \n",
              "4                    0           1   26    5        Wigan Athletic   Egypt   \n",
              "\n",
              "  goals              name pos  \n",
              "0     0   Essam El-Hadary  GK  \n",
              "1     1          Ali Gabr  DF  \n",
              "2     2  Ahmed Elmohamady  DF  \n",
              "3     0        Omar Gaber  MF  \n",
              "4     0         Sam Morsy  MF  "
            ]
          },
          "metadata": {
            "tags": []
          }
        },
        {
          "output_type": "display_data",
          "data": {
            "text/html": [
              "<div>\n",
              "<style scoped>\n",
              "    .dataframe tbody tr th:only-of-type {\n",
              "        vertical-align: middle;\n",
              "    }\n",
              "\n",
              "    .dataframe tbody tr th {\n",
              "        vertical-align: top;\n",
              "    }\n",
              "\n",
              "    .dataframe thead th {\n",
              "        text-align: right;\n",
              "    }\n",
              "</style>\n",
              "<table border=\"1\" class=\"dataframe\">\n",
              "  <thead>\n",
              "    <tr style=\"text-align: right;\">\n",
              "      <th></th>\n",
              "      <th>Nations Participating</th>\n",
              "    </tr>\n",
              "  </thead>\n",
              "  <tbody>\n",
              "    <tr>\n",
              "      <th>0</th>\n",
              "      <td>Egypt</td>\n",
              "    </tr>\n",
              "    <tr>\n",
              "      <th>1</th>\n",
              "      <td>Russia</td>\n",
              "    </tr>\n",
              "    <tr>\n",
              "      <th>2</th>\n",
              "      <td>Saudi Arabia</td>\n",
              "    </tr>\n",
              "    <tr>\n",
              "      <th>3</th>\n",
              "      <td>Uruguay</td>\n",
              "    </tr>\n",
              "    <tr>\n",
              "      <th>4</th>\n",
              "      <td>Iran</td>\n",
              "    </tr>\n",
              "  </tbody>\n",
              "</table>\n",
              "</div>"
            ],
            "text/plain": [
              "  Nations Participating\n",
              "0                 Egypt\n",
              "1                Russia\n",
              "2          Saudi Arabia\n",
              "3               Uruguay\n",
              "4                  Iran"
            ]
          },
          "metadata": {
            "tags": []
          }
        }
      ]
    },
    {
      "metadata": {
        "id": "loT7zH1DFvgV",
        "colab_type": "text"
      },
      "cell_type": "markdown",
      "source": [
        "#Squad data averaged and summed"
      ]
    },
    {
      "metadata": {
        "id": "TwBF9MyvrUGs",
        "colab_type": "code",
        "outputId": "c5a1af81-a6d7-4a3c-e4ca-654ec65bf7e8",
        "colab": {
          "base_uri": "https://localhost:8080/",
          "height": 235
        }
      },
      "cell_type": "code",
      "source": [
        "# make a pivot table of the averages of all the squads  ages caps and goals and sum the other columns\n",
        "df_players['caps'] = pd.to_numeric(df_players['caps'])\n",
        "df_players['goals'] = pd.to_numeric(df_players['goals'])\n",
        "players_features = pd.pivot_table(df_players,index='country',values=['age','caps','Top League','CL League 2017-2018','goals'], aggfunc={'age':'mean','caps':'mean','Top League':'sum','CL League 2017-2018':'sum','goals':'sum'}) # 'Top League'\n",
        "players_features['country']=players_features.index\n",
        "players_features.head()"
      ],
      "execution_count": 8,
      "outputs": [
        {
          "output_type": "execute_result",
          "data": {
            "text/html": [
              "<div>\n",
              "<style scoped>\n",
              "    .dataframe tbody tr th:only-of-type {\n",
              "        vertical-align: middle;\n",
              "    }\n",
              "\n",
              "    .dataframe tbody tr th {\n",
              "        vertical-align: top;\n",
              "    }\n",
              "\n",
              "    .dataframe thead th {\n",
              "        text-align: right;\n",
              "    }\n",
              "</style>\n",
              "<table border=\"1\" class=\"dataframe\">\n",
              "  <thead>\n",
              "    <tr style=\"text-align: right;\">\n",
              "      <th></th>\n",
              "      <th>CL League 2017-2018</th>\n",
              "      <th>Top League</th>\n",
              "      <th>age</th>\n",
              "      <th>caps</th>\n",
              "      <th>goals</th>\n",
              "      <th>country</th>\n",
              "    </tr>\n",
              "    <tr>\n",
              "      <th>country</th>\n",
              "      <th></th>\n",
              "      <th></th>\n",
              "      <th></th>\n",
              "      <th></th>\n",
              "      <th></th>\n",
              "      <th></th>\n",
              "    </tr>\n",
              "  </thead>\n",
              "  <tbody>\n",
              "    <tr>\n",
              "      <th>Argentina</th>\n",
              "      <td>14</td>\n",
              "      <td>14</td>\n",
              "      <td>29.130435</td>\n",
              "      <td>37.347826</td>\n",
              "      <td>172</td>\n",
              "      <td>Argentina</td>\n",
              "    </tr>\n",
              "    <tr>\n",
              "      <th>Australia</th>\n",
              "      <td>2</td>\n",
              "      <td>9</td>\n",
              "      <td>27.608696</td>\n",
              "      <td>29.826087</td>\n",
              "      <td>121</td>\n",
              "      <td>Australia</td>\n",
              "    </tr>\n",
              "    <tr>\n",
              "      <th>Belgium</th>\n",
              "      <td>17</td>\n",
              "      <td>19</td>\n",
              "      <td>27.217391</td>\n",
              "      <td>47.260870</td>\n",
              "      <td>156</td>\n",
              "      <td>Belgium</td>\n",
              "    </tr>\n",
              "    <tr>\n",
              "      <th>Brazil</th>\n",
              "      <td>18</td>\n",
              "      <td>17</td>\n",
              "      <td>28.130435</td>\n",
              "      <td>29.869565</td>\n",
              "      <td>127</td>\n",
              "      <td>Brazil</td>\n",
              "    </tr>\n",
              "    <tr>\n",
              "      <th>Colombia</th>\n",
              "      <td>6</td>\n",
              "      <td>13</td>\n",
              "      <td>27.913043</td>\n",
              "      <td>31.000000</td>\n",
              "      <td>91</td>\n",
              "      <td>Colombia</td>\n",
              "    </tr>\n",
              "  </tbody>\n",
              "</table>\n",
              "</div>"
            ],
            "text/plain": [
              "           CL League 2017-2018  Top League        age       caps  goals  \\\n",
              "country                                                                   \n",
              "Argentina                   14          14  29.130435  37.347826    172   \n",
              "Australia                    2           9  27.608696  29.826087    121   \n",
              "Belgium                     17          19  27.217391  47.260870    156   \n",
              "Brazil                      18          17  28.130435  29.869565    127   \n",
              "Colombia                     6          13  27.913043  31.000000     91   \n",
              "\n",
              "             country  \n",
              "country               \n",
              "Argentina  Argentina  \n",
              "Australia  Australia  \n",
              "Belgium      Belgium  \n",
              "Brazil        Brazil  \n",
              "Colombia    Colombia  "
            ]
          },
          "metadata": {
            "tags": []
          },
          "execution_count": 8
        }
      ]
    },
    {
      "metadata": {
        "id": "l0HsTQK9pNP6",
        "colab_type": "text"
      },
      "cell_type": "markdown",
      "source": [
        "#X and Y train Dataset-Cleaning preparation and creation\n",
        "\n"
      ]
    },
    {
      "metadata": {
        "id": "EFmkiJ6bEAOa",
        "colab_type": "code",
        "outputId": "5cab6dd0-2eea-4143-8ee8-aec36765af5f",
        "colab": {
          "base_uri": "https://localhost:8080/",
          "height": 204
        }
      },
      "cell_type": "code",
      "source": [
        "# wolrdcup1 fifa international results\n",
        "response = requests.get('https://drive.google.com/uc?export=download&id=1p9aepCMiZWyA9eQYuUl3gDV51kYVqMDj')\n",
        "df = pd.read_csv(BytesIO(response.content))\n",
        "df.head()"
      ],
      "execution_count": 9,
      "outputs": [
        {
          "output_type": "execute_result",
          "data": {
            "text/html": [
              "<div>\n",
              "<style scoped>\n",
              "    .dataframe tbody tr th:only-of-type {\n",
              "        vertical-align: middle;\n",
              "    }\n",
              "\n",
              "    .dataframe tbody tr th {\n",
              "        vertical-align: top;\n",
              "    }\n",
              "\n",
              "    .dataframe thead th {\n",
              "        text-align: right;\n",
              "    }\n",
              "</style>\n",
              "<table border=\"1\" class=\"dataframe\">\n",
              "  <thead>\n",
              "    <tr style=\"text-align: right;\">\n",
              "      <th></th>\n",
              "      <th>date</th>\n",
              "      <th>home_team</th>\n",
              "      <th>away_team</th>\n",
              "      <th>home_score</th>\n",
              "      <th>away_score</th>\n",
              "      <th>tournament</th>\n",
              "      <th>city</th>\n",
              "      <th>country</th>\n",
              "      <th>neutral</th>\n",
              "    </tr>\n",
              "  </thead>\n",
              "  <tbody>\n",
              "    <tr>\n",
              "      <th>0</th>\n",
              "      <td>1872-11-30</td>\n",
              "      <td>Scotland</td>\n",
              "      <td>England</td>\n",
              "      <td>0</td>\n",
              "      <td>0</td>\n",
              "      <td>Friendly</td>\n",
              "      <td>Glasgow</td>\n",
              "      <td>Scotland</td>\n",
              "      <td>False</td>\n",
              "    </tr>\n",
              "    <tr>\n",
              "      <th>1</th>\n",
              "      <td>1873-03-08</td>\n",
              "      <td>England</td>\n",
              "      <td>Scotland</td>\n",
              "      <td>4</td>\n",
              "      <td>2</td>\n",
              "      <td>Friendly</td>\n",
              "      <td>London</td>\n",
              "      <td>England</td>\n",
              "      <td>False</td>\n",
              "    </tr>\n",
              "    <tr>\n",
              "      <th>2</th>\n",
              "      <td>1874-03-07</td>\n",
              "      <td>Scotland</td>\n",
              "      <td>England</td>\n",
              "      <td>2</td>\n",
              "      <td>1</td>\n",
              "      <td>Friendly</td>\n",
              "      <td>Glasgow</td>\n",
              "      <td>Scotland</td>\n",
              "      <td>False</td>\n",
              "    </tr>\n",
              "    <tr>\n",
              "      <th>3</th>\n",
              "      <td>1875-03-06</td>\n",
              "      <td>England</td>\n",
              "      <td>Scotland</td>\n",
              "      <td>2</td>\n",
              "      <td>2</td>\n",
              "      <td>Friendly</td>\n",
              "      <td>London</td>\n",
              "      <td>England</td>\n",
              "      <td>False</td>\n",
              "    </tr>\n",
              "    <tr>\n",
              "      <th>4</th>\n",
              "      <td>1876-03-04</td>\n",
              "      <td>Scotland</td>\n",
              "      <td>England</td>\n",
              "      <td>3</td>\n",
              "      <td>0</td>\n",
              "      <td>Friendly</td>\n",
              "      <td>Glasgow</td>\n",
              "      <td>Scotland</td>\n",
              "      <td>False</td>\n",
              "    </tr>\n",
              "  </tbody>\n",
              "</table>\n",
              "</div>"
            ],
            "text/plain": [
              "         date home_team away_team  home_score  away_score tournament     city  \\\n",
              "0  1872-11-30  Scotland   England           0           0   Friendly  Glasgow   \n",
              "1  1873-03-08   England  Scotland           4           2   Friendly   London   \n",
              "2  1874-03-07  Scotland   England           2           1   Friendly  Glasgow   \n",
              "3  1875-03-06   England  Scotland           2           2   Friendly   London   \n",
              "4  1876-03-04  Scotland   England           3           0   Friendly  Glasgow   \n",
              "\n",
              "    country  neutral  \n",
              "0  Scotland    False  \n",
              "1   England    False  \n",
              "2  Scotland    False  \n",
              "3   England    False  \n",
              "4  Scotland    False  "
            ]
          },
          "metadata": {
            "tags": []
          },
          "execution_count": 9
        }
      ]
    },
    {
      "metadata": {
        "id": "wWoO6EosKW0v",
        "colab_type": "code",
        "outputId": "ef960d0d-4721-49a2-849f-5b39c0571798",
        "colab": {
          "base_uri": "https://localhost:8080/",
          "height": 34
        }
      },
      "cell_type": "code",
      "source": [
        "print(df.shape)\n",
        "df=df.drop([\"city\"],axis=1)"
      ],
      "execution_count": 10,
      "outputs": [
        {
          "output_type": "stream",
          "text": [
            "(39638, 9)\n"
          ],
          "name": "stdout"
        }
      ]
    },
    {
      "metadata": {
        "id": "jy436zWRJ3CA",
        "colab_type": "code",
        "outputId": "ec4ef9c8-465c-4b1a-d8d3-a7da59119fde",
        "colab": {
          "base_uri": "https://localhost:8080/",
          "height": 297
        }
      },
      "cell_type": "code",
      "source": [
        "df.describe()"
      ],
      "execution_count": 11,
      "outputs": [
        {
          "output_type": "execute_result",
          "data": {
            "text/html": [
              "<div>\n",
              "<style scoped>\n",
              "    .dataframe tbody tr th:only-of-type {\n",
              "        vertical-align: middle;\n",
              "    }\n",
              "\n",
              "    .dataframe tbody tr th {\n",
              "        vertical-align: top;\n",
              "    }\n",
              "\n",
              "    .dataframe thead th {\n",
              "        text-align: right;\n",
              "    }\n",
              "</style>\n",
              "<table border=\"1\" class=\"dataframe\">\n",
              "  <thead>\n",
              "    <tr style=\"text-align: right;\">\n",
              "      <th></th>\n",
              "      <th>home_score</th>\n",
              "      <th>away_score</th>\n",
              "    </tr>\n",
              "  </thead>\n",
              "  <tbody>\n",
              "    <tr>\n",
              "      <th>count</th>\n",
              "      <td>39638.000000</td>\n",
              "      <td>39638.000000</td>\n",
              "    </tr>\n",
              "    <tr>\n",
              "      <th>mean</th>\n",
              "      <td>1.748221</td>\n",
              "      <td>1.187749</td>\n",
              "    </tr>\n",
              "    <tr>\n",
              "      <th>std</th>\n",
              "      <td>1.747294</td>\n",
              "      <td>1.400002</td>\n",
              "    </tr>\n",
              "    <tr>\n",
              "      <th>min</th>\n",
              "      <td>0.000000</td>\n",
              "      <td>0.000000</td>\n",
              "    </tr>\n",
              "    <tr>\n",
              "      <th>25%</th>\n",
              "      <td>1.000000</td>\n",
              "      <td>0.000000</td>\n",
              "    </tr>\n",
              "    <tr>\n",
              "      <th>50%</th>\n",
              "      <td>1.000000</td>\n",
              "      <td>1.000000</td>\n",
              "    </tr>\n",
              "    <tr>\n",
              "      <th>75%</th>\n",
              "      <td>2.000000</td>\n",
              "      <td>2.000000</td>\n",
              "    </tr>\n",
              "    <tr>\n",
              "      <th>max</th>\n",
              "      <td>31.000000</td>\n",
              "      <td>21.000000</td>\n",
              "    </tr>\n",
              "  </tbody>\n",
              "</table>\n",
              "</div>"
            ],
            "text/plain": [
              "         home_score    away_score\n",
              "count  39638.000000  39638.000000\n",
              "mean       1.748221      1.187749\n",
              "std        1.747294      1.400002\n",
              "min        0.000000      0.000000\n",
              "25%        1.000000      0.000000\n",
              "50%        1.000000      1.000000\n",
              "75%        2.000000      2.000000\n",
              "max       31.000000     21.000000"
            ]
          },
          "metadata": {
            "tags": []
          },
          "execution_count": 11
        }
      ]
    },
    {
      "metadata": {
        "id": "e5qjyKrNoEuz",
        "colab_type": "code",
        "outputId": "c56913ba-59f1-4e69-b28c-32719f56b1c5",
        "colab": {
          "base_uri": "https://localhost:8080/",
          "height": 204
        }
      },
      "cell_type": "code",
      "source": [
        "\n",
        "# Add winnning team column and goal difference\n",
        "winner=[]\n",
        "for i in range(len(df['home_team'])):\n",
        "  if df['home_score'][i] > df['away_score'][i]:\n",
        "    winner.append(df['home_team'][i])\n",
        "  elif df['home_score'][i] < df['away_score'][i]:\n",
        "    winner.append(df['away_team'][i])\n",
        "  else:\n",
        "    winner.append('Draw')\n",
        "df['winning_team']=winner\n",
        "df['goal_difference']=np.absolute(df['home_score']-df['away_score'])\n",
        "df.head()\n"
      ],
      "execution_count": 12,
      "outputs": [
        {
          "output_type": "execute_result",
          "data": {
            "text/html": [
              "<div>\n",
              "<style scoped>\n",
              "    .dataframe tbody tr th:only-of-type {\n",
              "        vertical-align: middle;\n",
              "    }\n",
              "\n",
              "    .dataframe tbody tr th {\n",
              "        vertical-align: top;\n",
              "    }\n",
              "\n",
              "    .dataframe thead th {\n",
              "        text-align: right;\n",
              "    }\n",
              "</style>\n",
              "<table border=\"1\" class=\"dataframe\">\n",
              "  <thead>\n",
              "    <tr style=\"text-align: right;\">\n",
              "      <th></th>\n",
              "      <th>date</th>\n",
              "      <th>home_team</th>\n",
              "      <th>away_team</th>\n",
              "      <th>home_score</th>\n",
              "      <th>away_score</th>\n",
              "      <th>tournament</th>\n",
              "      <th>country</th>\n",
              "      <th>neutral</th>\n",
              "      <th>winning_team</th>\n",
              "      <th>goal_difference</th>\n",
              "    </tr>\n",
              "  </thead>\n",
              "  <tbody>\n",
              "    <tr>\n",
              "      <th>0</th>\n",
              "      <td>1872-11-30</td>\n",
              "      <td>Scotland</td>\n",
              "      <td>England</td>\n",
              "      <td>0</td>\n",
              "      <td>0</td>\n",
              "      <td>Friendly</td>\n",
              "      <td>Scotland</td>\n",
              "      <td>False</td>\n",
              "      <td>Draw</td>\n",
              "      <td>0</td>\n",
              "    </tr>\n",
              "    <tr>\n",
              "      <th>1</th>\n",
              "      <td>1873-03-08</td>\n",
              "      <td>England</td>\n",
              "      <td>Scotland</td>\n",
              "      <td>4</td>\n",
              "      <td>2</td>\n",
              "      <td>Friendly</td>\n",
              "      <td>England</td>\n",
              "      <td>False</td>\n",
              "      <td>England</td>\n",
              "      <td>2</td>\n",
              "    </tr>\n",
              "    <tr>\n",
              "      <th>2</th>\n",
              "      <td>1874-03-07</td>\n",
              "      <td>Scotland</td>\n",
              "      <td>England</td>\n",
              "      <td>2</td>\n",
              "      <td>1</td>\n",
              "      <td>Friendly</td>\n",
              "      <td>Scotland</td>\n",
              "      <td>False</td>\n",
              "      <td>Scotland</td>\n",
              "      <td>1</td>\n",
              "    </tr>\n",
              "    <tr>\n",
              "      <th>3</th>\n",
              "      <td>1875-03-06</td>\n",
              "      <td>England</td>\n",
              "      <td>Scotland</td>\n",
              "      <td>2</td>\n",
              "      <td>2</td>\n",
              "      <td>Friendly</td>\n",
              "      <td>England</td>\n",
              "      <td>False</td>\n",
              "      <td>Draw</td>\n",
              "      <td>0</td>\n",
              "    </tr>\n",
              "    <tr>\n",
              "      <th>4</th>\n",
              "      <td>1876-03-04</td>\n",
              "      <td>Scotland</td>\n",
              "      <td>England</td>\n",
              "      <td>3</td>\n",
              "      <td>0</td>\n",
              "      <td>Friendly</td>\n",
              "      <td>Scotland</td>\n",
              "      <td>False</td>\n",
              "      <td>Scotland</td>\n",
              "      <td>3</td>\n",
              "    </tr>\n",
              "  </tbody>\n",
              "</table>\n",
              "</div>"
            ],
            "text/plain": [
              "         date home_team away_team  home_score  away_score tournament  \\\n",
              "0  1872-11-30  Scotland   England           0           0   Friendly   \n",
              "1  1873-03-08   England  Scotland           4           2   Friendly   \n",
              "2  1874-03-07  Scotland   England           2           1   Friendly   \n",
              "3  1875-03-06   England  Scotland           2           2   Friendly   \n",
              "4  1876-03-04  Scotland   England           3           0   Friendly   \n",
              "\n",
              "    country  neutral winning_team  goal_difference  \n",
              "0  Scotland    False         Draw                0  \n",
              "1   England    False      England                2  \n",
              "2  Scotland    False     Scotland                1  \n",
              "3   England    False         Draw                0  \n",
              "4  Scotland    False     Scotland                3  "
            ]
          },
          "metadata": {
            "tags": []
          },
          "execution_count": 12
        }
      ]
    },
    {
      "metadata": {
        "id": "K17fGj9gsGFM",
        "colab_type": "code",
        "outputId": "3ad28b93-252c-4f10-d250-8474b0533e59",
        "colab": {
          "base_uri": "https://localhost:8080/",
          "height": 221
        }
      },
      "cell_type": "code",
      "source": [
        "# get all historical matches of the countries participating in 2018 world cup\n",
        "\n",
        "df_natteam_home=df[df['home_team'].isin(countrylist)]\n",
        "df_natteam_away=df[df['away_team'].isin(countrylist)]\n",
        "df=pd.concat((df_natteam_home,df_natteam_away))\n",
        "# df.drop_duplicates()\n",
        "display(df.shape)\n",
        "df.head()"
      ],
      "execution_count": 13,
      "outputs": [
        {
          "output_type": "display_data",
          "data": {
            "text/plain": [
              "(20375, 10)"
            ]
          },
          "metadata": {
            "tags": []
          }
        },
        {
          "output_type": "execute_result",
          "data": {
            "text/html": [
              "<div>\n",
              "<style scoped>\n",
              "    .dataframe tbody tr th:only-of-type {\n",
              "        vertical-align: middle;\n",
              "    }\n",
              "\n",
              "    .dataframe tbody tr th {\n",
              "        vertical-align: top;\n",
              "    }\n",
              "\n",
              "    .dataframe thead th {\n",
              "        text-align: right;\n",
              "    }\n",
              "</style>\n",
              "<table border=\"1\" class=\"dataframe\">\n",
              "  <thead>\n",
              "    <tr style=\"text-align: right;\">\n",
              "      <th></th>\n",
              "      <th>date</th>\n",
              "      <th>home_team</th>\n",
              "      <th>away_team</th>\n",
              "      <th>home_score</th>\n",
              "      <th>away_score</th>\n",
              "      <th>tournament</th>\n",
              "      <th>country</th>\n",
              "      <th>neutral</th>\n",
              "      <th>winning_team</th>\n",
              "      <th>goal_difference</th>\n",
              "    </tr>\n",
              "  </thead>\n",
              "  <tbody>\n",
              "    <tr>\n",
              "      <th>1</th>\n",
              "      <td>1873-03-08</td>\n",
              "      <td>England</td>\n",
              "      <td>Scotland</td>\n",
              "      <td>4</td>\n",
              "      <td>2</td>\n",
              "      <td>Friendly</td>\n",
              "      <td>England</td>\n",
              "      <td>False</td>\n",
              "      <td>England</td>\n",
              "      <td>2</td>\n",
              "    </tr>\n",
              "    <tr>\n",
              "      <th>3</th>\n",
              "      <td>1875-03-06</td>\n",
              "      <td>England</td>\n",
              "      <td>Scotland</td>\n",
              "      <td>2</td>\n",
              "      <td>2</td>\n",
              "      <td>Friendly</td>\n",
              "      <td>England</td>\n",
              "      <td>False</td>\n",
              "      <td>Draw</td>\n",
              "      <td>0</td>\n",
              "    </tr>\n",
              "    <tr>\n",
              "      <th>6</th>\n",
              "      <td>1877-03-03</td>\n",
              "      <td>England</td>\n",
              "      <td>Scotland</td>\n",
              "      <td>1</td>\n",
              "      <td>3</td>\n",
              "      <td>Friendly</td>\n",
              "      <td>England</td>\n",
              "      <td>False</td>\n",
              "      <td>Scotland</td>\n",
              "      <td>2</td>\n",
              "    </tr>\n",
              "    <tr>\n",
              "      <th>10</th>\n",
              "      <td>1879-01-18</td>\n",
              "      <td>England</td>\n",
              "      <td>Wales</td>\n",
              "      <td>2</td>\n",
              "      <td>1</td>\n",
              "      <td>Friendly</td>\n",
              "      <td>England</td>\n",
              "      <td>False</td>\n",
              "      <td>England</td>\n",
              "      <td>1</td>\n",
              "    </tr>\n",
              "    <tr>\n",
              "      <th>11</th>\n",
              "      <td>1879-04-05</td>\n",
              "      <td>England</td>\n",
              "      <td>Scotland</td>\n",
              "      <td>5</td>\n",
              "      <td>4</td>\n",
              "      <td>Friendly</td>\n",
              "      <td>England</td>\n",
              "      <td>False</td>\n",
              "      <td>England</td>\n",
              "      <td>1</td>\n",
              "    </tr>\n",
              "  </tbody>\n",
              "</table>\n",
              "</div>"
            ],
            "text/plain": [
              "          date home_team away_team  home_score  away_score tournament  \\\n",
              "1   1873-03-08   England  Scotland           4           2   Friendly   \n",
              "3   1875-03-06   England  Scotland           2           2   Friendly   \n",
              "6   1877-03-03   England  Scotland           1           3   Friendly   \n",
              "10  1879-01-18   England     Wales           2           1   Friendly   \n",
              "11  1879-04-05   England  Scotland           5           4   Friendly   \n",
              "\n",
              "    country  neutral winning_team  goal_difference  \n",
              "1   England    False      England                2  \n",
              "3   England    False         Draw                0  \n",
              "6   England    False     Scotland                2  \n",
              "10  England    False      England                1  \n",
              "11  England    False      England                1  "
            ]
          },
          "metadata": {
            "tags": []
          },
          "execution_count": 13
        }
      ]
    },
    {
      "metadata": {
        "id": "hn1ChAKStYfR",
        "colab_type": "code",
        "outputId": "ddc8a455-06d6-4dec-e139-b8d1486046b8",
        "colab": {
          "base_uri": "https://localhost:8080/",
          "height": 204
        }
      },
      "cell_type": "code",
      "source": [
        "# get all international matches of the teams of the world cup since 1990\n",
        "year=[]\n",
        "for n in df['date']:\n",
        "  year.append(int(n[:4]))\n",
        "df['match_year']=year\n",
        "\n",
        "display(df.head())\n"
      ],
      "execution_count": 14,
      "outputs": [
        {
          "output_type": "display_data",
          "data": {
            "text/html": [
              "<div>\n",
              "<style scoped>\n",
              "    .dataframe tbody tr th:only-of-type {\n",
              "        vertical-align: middle;\n",
              "    }\n",
              "\n",
              "    .dataframe tbody tr th {\n",
              "        vertical-align: top;\n",
              "    }\n",
              "\n",
              "    .dataframe thead th {\n",
              "        text-align: right;\n",
              "    }\n",
              "</style>\n",
              "<table border=\"1\" class=\"dataframe\">\n",
              "  <thead>\n",
              "    <tr style=\"text-align: right;\">\n",
              "      <th></th>\n",
              "      <th>date</th>\n",
              "      <th>home_team</th>\n",
              "      <th>away_team</th>\n",
              "      <th>home_score</th>\n",
              "      <th>away_score</th>\n",
              "      <th>tournament</th>\n",
              "      <th>country</th>\n",
              "      <th>neutral</th>\n",
              "      <th>winning_team</th>\n",
              "      <th>goal_difference</th>\n",
              "      <th>match_year</th>\n",
              "    </tr>\n",
              "  </thead>\n",
              "  <tbody>\n",
              "    <tr>\n",
              "      <th>1</th>\n",
              "      <td>1873-03-08</td>\n",
              "      <td>England</td>\n",
              "      <td>Scotland</td>\n",
              "      <td>4</td>\n",
              "      <td>2</td>\n",
              "      <td>Friendly</td>\n",
              "      <td>England</td>\n",
              "      <td>False</td>\n",
              "      <td>England</td>\n",
              "      <td>2</td>\n",
              "      <td>1873</td>\n",
              "    </tr>\n",
              "    <tr>\n",
              "      <th>3</th>\n",
              "      <td>1875-03-06</td>\n",
              "      <td>England</td>\n",
              "      <td>Scotland</td>\n",
              "      <td>2</td>\n",
              "      <td>2</td>\n",
              "      <td>Friendly</td>\n",
              "      <td>England</td>\n",
              "      <td>False</td>\n",
              "      <td>Draw</td>\n",
              "      <td>0</td>\n",
              "      <td>1875</td>\n",
              "    </tr>\n",
              "    <tr>\n",
              "      <th>6</th>\n",
              "      <td>1877-03-03</td>\n",
              "      <td>England</td>\n",
              "      <td>Scotland</td>\n",
              "      <td>1</td>\n",
              "      <td>3</td>\n",
              "      <td>Friendly</td>\n",
              "      <td>England</td>\n",
              "      <td>False</td>\n",
              "      <td>Scotland</td>\n",
              "      <td>2</td>\n",
              "      <td>1877</td>\n",
              "    </tr>\n",
              "    <tr>\n",
              "      <th>10</th>\n",
              "      <td>1879-01-18</td>\n",
              "      <td>England</td>\n",
              "      <td>Wales</td>\n",
              "      <td>2</td>\n",
              "      <td>1</td>\n",
              "      <td>Friendly</td>\n",
              "      <td>England</td>\n",
              "      <td>False</td>\n",
              "      <td>England</td>\n",
              "      <td>1</td>\n",
              "      <td>1879</td>\n",
              "    </tr>\n",
              "    <tr>\n",
              "      <th>11</th>\n",
              "      <td>1879-04-05</td>\n",
              "      <td>England</td>\n",
              "      <td>Scotland</td>\n",
              "      <td>5</td>\n",
              "      <td>4</td>\n",
              "      <td>Friendly</td>\n",
              "      <td>England</td>\n",
              "      <td>False</td>\n",
              "      <td>England</td>\n",
              "      <td>1</td>\n",
              "      <td>1879</td>\n",
              "    </tr>\n",
              "  </tbody>\n",
              "</table>\n",
              "</div>"
            ],
            "text/plain": [
              "          date home_team away_team  home_score  away_score tournament  \\\n",
              "1   1873-03-08   England  Scotland           4           2   Friendly   \n",
              "3   1875-03-06   England  Scotland           2           2   Friendly   \n",
              "6   1877-03-03   England  Scotland           1           3   Friendly   \n",
              "10  1879-01-18   England     Wales           2           1   Friendly   \n",
              "11  1879-04-05   England  Scotland           5           4   Friendly   \n",
              "\n",
              "    country  neutral winning_team  goal_difference  match_year  \n",
              "1   England    False      England                2        1873  \n",
              "3   England    False         Draw                0        1875  \n",
              "6   England    False     Scotland                2        1877  \n",
              "10  England    False      England                1        1879  \n",
              "11  England    False      England                1        1879  "
            ]
          },
          "metadata": {
            "tags": []
          }
        }
      ]
    },
    {
      "metadata": {
        "id": "JoBF1hZ9w_5F",
        "colab_type": "code",
        "outputId": "dda3568a-c393-403c-978f-d959ad68383f",
        "colab": {
          "base_uri": "https://localhost:8080/",
          "height": 34
        }
      },
      "cell_type": "code",
      "source": [
        "df.shape"
      ],
      "execution_count": 15,
      "outputs": [
        {
          "output_type": "execute_result",
          "data": {
            "text/plain": [
              "(20375, 11)"
            ]
          },
          "metadata": {
            "tags": []
          },
          "execution_count": 15
        }
      ]
    },
    {
      "metadata": {
        "id": "N0Wxs48wqwMx",
        "colab_type": "code",
        "outputId": "569b032a-c01e-48cd-8ac5-025ca81ba520",
        "colab": {
          "base_uri": "https://localhost:8080/",
          "height": 221
        }
      },
      "cell_type": "code",
      "source": [
        "df=df[df.match_year>=1990]\n",
        "display(df.head())\n",
        "display(df.shape)"
      ],
      "execution_count": 16,
      "outputs": [
        {
          "output_type": "display_data",
          "data": {
            "text/html": [
              "<div>\n",
              "<style scoped>\n",
              "    .dataframe tbody tr th:only-of-type {\n",
              "        vertical-align: middle;\n",
              "    }\n",
              "\n",
              "    .dataframe tbody tr th {\n",
              "        vertical-align: top;\n",
              "    }\n",
              "\n",
              "    .dataframe thead th {\n",
              "        text-align: right;\n",
              "    }\n",
              "</style>\n",
              "<table border=\"1\" class=\"dataframe\">\n",
              "  <thead>\n",
              "    <tr style=\"text-align: right;\">\n",
              "      <th></th>\n",
              "      <th>date</th>\n",
              "      <th>home_team</th>\n",
              "      <th>away_team</th>\n",
              "      <th>home_score</th>\n",
              "      <th>away_score</th>\n",
              "      <th>tournament</th>\n",
              "      <th>country</th>\n",
              "      <th>neutral</th>\n",
              "      <th>winning_team</th>\n",
              "      <th>goal_difference</th>\n",
              "      <th>match_year</th>\n",
              "    </tr>\n",
              "  </thead>\n",
              "  <tbody>\n",
              "    <tr>\n",
              "      <th>15795</th>\n",
              "      <td>1990-01-17</td>\n",
              "      <td>Mexico</td>\n",
              "      <td>Argentina</td>\n",
              "      <td>2</td>\n",
              "      <td>0</td>\n",
              "      <td>Friendly</td>\n",
              "      <td>USA</td>\n",
              "      <td>True</td>\n",
              "      <td>Mexico</td>\n",
              "      <td>2</td>\n",
              "      <td>1990</td>\n",
              "    </tr>\n",
              "    <tr>\n",
              "      <th>15802</th>\n",
              "      <td>1990-01-24</td>\n",
              "      <td>France</td>\n",
              "      <td>German DR</td>\n",
              "      <td>3</td>\n",
              "      <td>0</td>\n",
              "      <td>Friendly</td>\n",
              "      <td>Kuwait</td>\n",
              "      <td>True</td>\n",
              "      <td>France</td>\n",
              "      <td>3</td>\n",
              "      <td>1990</td>\n",
              "    </tr>\n",
              "    <tr>\n",
              "      <th>15804</th>\n",
              "      <td>1990-01-25</td>\n",
              "      <td>Nigeria</td>\n",
              "      <td>Ivory Coast</td>\n",
              "      <td>2</td>\n",
              "      <td>0</td>\n",
              "      <td>Friendly</td>\n",
              "      <td>Nigeria</td>\n",
              "      <td>False</td>\n",
              "      <td>Nigeria</td>\n",
              "      <td>2</td>\n",
              "      <td>1990</td>\n",
              "    </tr>\n",
              "    <tr>\n",
              "      <th>15809</th>\n",
              "      <td>1990-01-28</td>\n",
              "      <td>Nigeria</td>\n",
              "      <td>Senegal</td>\n",
              "      <td>1</td>\n",
              "      <td>1</td>\n",
              "      <td>Friendly</td>\n",
              "      <td>Nigeria</td>\n",
              "      <td>False</td>\n",
              "      <td>Draw</td>\n",
              "      <td>0</td>\n",
              "      <td>1990</td>\n",
              "    </tr>\n",
              "    <tr>\n",
              "      <th>15811</th>\n",
              "      <td>1990-02-02</td>\n",
              "      <td>Colombia</td>\n",
              "      <td>Uruguay</td>\n",
              "      <td>0</td>\n",
              "      <td>2</td>\n",
              "      <td>Friendly</td>\n",
              "      <td>USA</td>\n",
              "      <td>True</td>\n",
              "      <td>Uruguay</td>\n",
              "      <td>2</td>\n",
              "      <td>1990</td>\n",
              "    </tr>\n",
              "  </tbody>\n",
              "</table>\n",
              "</div>"
            ],
            "text/plain": [
              "             date home_team    away_team  home_score  away_score tournament  \\\n",
              "15795  1990-01-17    Mexico    Argentina           2           0   Friendly   \n",
              "15802  1990-01-24    France    German DR           3           0   Friendly   \n",
              "15804  1990-01-25   Nigeria  Ivory Coast           2           0   Friendly   \n",
              "15809  1990-01-28   Nigeria      Senegal           1           1   Friendly   \n",
              "15811  1990-02-02  Colombia      Uruguay           0           2   Friendly   \n",
              "\n",
              "       country  neutral winning_team  goal_difference  match_year  \n",
              "15795      USA     True       Mexico                2        1990  \n",
              "15802   Kuwait     True       France                3        1990  \n",
              "15804  Nigeria    False      Nigeria                2        1990  \n",
              "15809  Nigeria    False         Draw                0        1990  \n",
              "15811      USA     True      Uruguay                2        1990  "
            ]
          },
          "metadata": {
            "tags": []
          }
        },
        {
          "output_type": "display_data",
          "data": {
            "text/plain": [
              "(10580, 11)"
            ]
          },
          "metadata": {
            "tags": []
          }
        }
      ]
    },
    {
      "metadata": {
        "id": "aLdbg6FOuCu7",
        "colab_type": "code",
        "outputId": "d91615e7-5ef8-452f-e10c-2065a591fc1b",
        "colab": {
          "base_uri": "https://localhost:8080/",
          "height": 221
        }
      },
      "cell_type": "code",
      "source": [
        "df_natteam=df[df['home_team'].isin(countrylist)& df['away_team'].isin(countrylist)]\n",
        "print(df_natteam.shape)\n",
        "df_natteam.head()"
      ],
      "execution_count": 17,
      "outputs": [
        {
          "output_type": "stream",
          "text": [
            "(3564, 11)\n"
          ],
          "name": "stdout"
        },
        {
          "output_type": "execute_result",
          "data": {
            "text/html": [
              "<div>\n",
              "<style scoped>\n",
              "    .dataframe tbody tr th:only-of-type {\n",
              "        vertical-align: middle;\n",
              "    }\n",
              "\n",
              "    .dataframe tbody tr th {\n",
              "        vertical-align: top;\n",
              "    }\n",
              "\n",
              "    .dataframe thead th {\n",
              "        text-align: right;\n",
              "    }\n",
              "</style>\n",
              "<table border=\"1\" class=\"dataframe\">\n",
              "  <thead>\n",
              "    <tr style=\"text-align: right;\">\n",
              "      <th></th>\n",
              "      <th>date</th>\n",
              "      <th>home_team</th>\n",
              "      <th>away_team</th>\n",
              "      <th>home_score</th>\n",
              "      <th>away_score</th>\n",
              "      <th>tournament</th>\n",
              "      <th>country</th>\n",
              "      <th>neutral</th>\n",
              "      <th>winning_team</th>\n",
              "      <th>goal_difference</th>\n",
              "      <th>match_year</th>\n",
              "    </tr>\n",
              "  </thead>\n",
              "  <tbody>\n",
              "    <tr>\n",
              "      <th>15795</th>\n",
              "      <td>1990-01-17</td>\n",
              "      <td>Mexico</td>\n",
              "      <td>Argentina</td>\n",
              "      <td>2</td>\n",
              "      <td>0</td>\n",
              "      <td>Friendly</td>\n",
              "      <td>USA</td>\n",
              "      <td>True</td>\n",
              "      <td>Mexico</td>\n",
              "      <td>2</td>\n",
              "      <td>1990</td>\n",
              "    </tr>\n",
              "    <tr>\n",
              "      <th>15809</th>\n",
              "      <td>1990-01-28</td>\n",
              "      <td>Nigeria</td>\n",
              "      <td>Senegal</td>\n",
              "      <td>1</td>\n",
              "      <td>1</td>\n",
              "      <td>Friendly</td>\n",
              "      <td>Nigeria</td>\n",
              "      <td>False</td>\n",
              "      <td>Draw</td>\n",
              "      <td>0</td>\n",
              "      <td>1990</td>\n",
              "    </tr>\n",
              "    <tr>\n",
              "      <th>15811</th>\n",
              "      <td>1990-02-02</td>\n",
              "      <td>Colombia</td>\n",
              "      <td>Uruguay</td>\n",
              "      <td>0</td>\n",
              "      <td>2</td>\n",
              "      <td>Friendly</td>\n",
              "      <td>USA</td>\n",
              "      <td>True</td>\n",
              "      <td>Uruguay</td>\n",
              "      <td>2</td>\n",
              "      <td>1990</td>\n",
              "    </tr>\n",
              "    <tr>\n",
              "      <th>15813</th>\n",
              "      <td>1990-02-02</td>\n",
              "      <td>Iran</td>\n",
              "      <td>Poland</td>\n",
              "      <td>0</td>\n",
              "      <td>2</td>\n",
              "      <td>Friendly</td>\n",
              "      <td>Iran</td>\n",
              "      <td>False</td>\n",
              "      <td>Poland</td>\n",
              "      <td>2</td>\n",
              "      <td>1990</td>\n",
              "    </tr>\n",
              "    <tr>\n",
              "      <th>15816</th>\n",
              "      <td>1990-02-04</td>\n",
              "      <td>Costa Rica</td>\n",
              "      <td>Uruguay</td>\n",
              "      <td>0</td>\n",
              "      <td>2</td>\n",
              "      <td>Friendly</td>\n",
              "      <td>USA</td>\n",
              "      <td>True</td>\n",
              "      <td>Uruguay</td>\n",
              "      <td>2</td>\n",
              "      <td>1990</td>\n",
              "    </tr>\n",
              "  </tbody>\n",
              "</table>\n",
              "</div>"
            ],
            "text/plain": [
              "             date   home_team  away_team  home_score  away_score tournament  \\\n",
              "15795  1990-01-17      Mexico  Argentina           2           0   Friendly   \n",
              "15809  1990-01-28     Nigeria    Senegal           1           1   Friendly   \n",
              "15811  1990-02-02    Colombia    Uruguay           0           2   Friendly   \n",
              "15813  1990-02-02        Iran     Poland           0           2   Friendly   \n",
              "15816  1990-02-04  Costa Rica    Uruguay           0           2   Friendly   \n",
              "\n",
              "       country  neutral winning_team  goal_difference  match_year  \n",
              "15795      USA     True       Mexico                2        1990  \n",
              "15809  Nigeria    False         Draw                0        1990  \n",
              "15811      USA     True      Uruguay                2        1990  \n",
              "15813     Iran    False       Poland                2        1990  \n",
              "15816      USA     True      Uruguay                2        1990  "
            ]
          },
          "metadata": {
            "tags": []
          },
          "execution_count": 17
        }
      ]
    },
    {
      "metadata": {
        "id": "ZuZd__sHuX7o",
        "colab_type": "code",
        "outputId": "b3ff11bc-610b-4881-a207-0b2a5286f155",
        "colab": {
          "base_uri": "https://localhost:8080/",
          "height": 393
        }
      },
      "cell_type": "code",
      "source": [
        "# Show distribution of goal differences in the international matches\n",
        "\n",
        "# fig, axes = plt.subplots(2, 1)\n",
        "plt.hist(df_natteam['goal_difference'],bins=100)\n",
        "plt.xlabel(\"number of goals\")\n",
        "plt.ylabel(\"count\")\n",
        "plt.title(\"goal difference in all international matches\")\n",
        "# df.hist('h_draw',bins=100, ax=axes[0,1])"
      ],
      "execution_count": 18,
      "outputs": [
        {
          "output_type": "execute_result",
          "data": {
            "text/plain": [
              "Text(0.5,1,'goal difference in all international matches')"
            ]
          },
          "metadata": {
            "tags": []
          },
          "execution_count": 18
        },
        {
          "output_type": "display_data",
          "data": {
            "image/png": "[encoded data removed]",
            "text/plain": [
              "<matplotlib.figure.Figure at 0x7f02ab28da20>"
            ]
          },
          "metadata": {
            "tags": []
          }
        }
      ]
    },
    {
      "metadata": {
        "id": "0EKjU2MCcsDW",
        "colab_type": "code",
        "outputId": "83f678d2-6f31-480c-9813-272bac715be6",
        "colab": {
          "base_uri": "https://localhost:8080/",
          "height": 378
        }
      },
      "cell_type": "code",
      "source": [
        "# Show the distribution of the most played international tournaments\n",
        "df_natteam['tournament'].value_counts()[:8].plot(kind='barh')\n",
        "plt.xlabel(\"Number of matches\")"
      ],
      "execution_count": 19,
      "outputs": [
        {
          "output_type": "execute_result",
          "data": {
            "text/plain": [
              "Text(0.5,0,'Number of matches')"
            ]
          },
          "metadata": {
            "tags": []
          },
          "execution_count": 19
        },
        {
          "output_type": "display_data",
          "data": {
            "image/png": "[encoded data removed]",
            "text/plain": [
              "<matplotlib.figure.Figure at 0x7f02ab01d630>"
            ]
          },
          "metadata": {
            "tags": []
          }
        }
      ]
    },
    {
      "metadata": {
        "id": "Br-9f9tLd4rI",
        "colab_type": "code",
        "outputId": "740b6d0b-f8b3-4fc3-e9d3-0bba37833d58",
        "colab": {
          "base_uri": "https://localhost:8080/",
          "height": 393
        }
      },
      "cell_type": "code",
      "source": [
        "# show the countries with the most wins since 1990 for all these international games\n",
        "df_natteam['winning_team'].value_counts()[1:11].plot(kind='barh')\n",
        "plt.xlabel(\"Winnings\")\n",
        "plt.title(\"The 10 most successful countries in internataional matches since 1990\")\n"
      ],
      "execution_count": 20,
      "outputs": [
        {
          "output_type": "execute_result",
          "data": {
            "text/plain": [
              "Text(0.5,1,'The 10 most successful countries in internataional matches since 1990')"
            ]
          },
          "metadata": {
            "tags": []
          },
          "execution_count": 20
        },
        {
          "output_type": "display_data",
          "data": {
            "image/png": "[encoded data removed]",
            "text/plain": [
              "<matplotlib.figure.Figure at 0x7f02ab0f4f28>"
            ]
          },
          "metadata": {
            "tags": []
          }
        }
      ]
    },
    {
      "metadata": {
        "id": "Nv9Q3MtOeNAZ",
        "colab_type": "code",
        "outputId": "058b49c2-ea9a-4431-acd4-bdd44e5a689e",
        "colab": {
          "base_uri": "https://localhost:8080/",
          "height": 379
        }
      },
      "cell_type": "code",
      "source": [
        "#examine the perfromance of the squads when they play at home\n",
        "home_win = df_natteam[df_natteam.home_score > df_natteam.away_score]\n",
        "away_win = df_natteam[df_natteam.home_score < df_natteam.away_score]\n",
        "draw_df = df_natteam[df_natteam.home_score == df_natteam.away_score]\n",
        "\n",
        "win=home_win.shape[0]/df_natteam.shape[0]*100\n",
        "draw=draw_df.shape[0]/df_natteam.shape[0]*100\n",
        "lose=(df_natteam.shape[0]-home_win.shape[0]-draw_df.shape[0])/df_natteam.shape[0]*100\n",
        "\n",
        "\n",
        "objects = ('Win', 'Draw', 'Lose')\n",
        "y_pos = np.arange(len(objects))\n",
        "performance = [win,draw,lose]\n",
        "plt.bar(y_pos, performance, align='center', alpha=0.4)\n",
        "plt.xticks(y_pos, objects)\n",
        "plt.ylabel('Percentage (%)')\n",
        "plt.title('Performance of Home Team')"
      ],
      "execution_count": 21,
      "outputs": [
        {
          "output_type": "execute_result",
          "data": {
            "text/plain": [
              "Text(0.5,1,'Performance of Home Team')"
            ]
          },
          "metadata": {
            "tags": []
          },
          "execution_count": 21
        },
        {
          "output_type": "display_data",
          "data": {
            "image/png": "[encoded data removed]",
            "text/plain": [
              "<matplotlib.figure.Figure at 0x7f02aaeebb00>"
            ]
          },
          "metadata": {
            "tags": []
          }
        }
      ]
    },
    {
      "metadata": {
        "id": "ECH6IEqtB-YN",
        "colab_type": "text"
      },
      "cell_type": "markdown",
      "source": [
        "### Create train set"
      ]
    },
    {
      "metadata": {
        "id": "ctgIOLOMdg6W",
        "colab_type": "code",
        "colab": {}
      },
      "cell_type": "code",
      "source": [
        "# Create x and y train\n",
        "x_train = df_natteam[['home_team','away_team']]\n",
        "y_train = df_natteam['winning_team']\n",
        "\n",
        "# Divide the training set to training and validation set\n",
        "# x_train, x_val, y_train, y_val = train_test_split(x_train,y_train, test_size=0.3, random_state=99)\n"
      ],
      "execution_count": 0,
      "outputs": []
    },
    {
      "metadata": {
        "id": "ggPDR-3IpfsE",
        "colab_type": "code",
        "colab": {}
      },
      "cell_type": "code",
      "source": [
        ""
      ],
      "execution_count": 0,
      "outputs": []
    },
    {
      "metadata": {
        "id": "-r4LjXYJFats",
        "colab_type": "text"
      },
      "cell_type": "markdown",
      "source": [
        "### we perform k-fold cross validation to select the best parameters for each model based on some criteria."
      ]
    },
    {
      "metadata": {
        "id": "exVlSs2ug0Na",
        "colab_type": "text"
      },
      "cell_type": "markdown",
      "source": [
        "#test set"
      ]
    },
    {
      "metadata": {
        "id": "2oShz3O6gylL",
        "colab_type": "code",
        "colab": {}
      },
      "cell_type": "code",
      "source": [
        "# scrape and create our test set\n",
        "\n",
        "fifa_page=requests.get(\"https://fixturedownload.com/results/fifa-world-cup-2018\")\n",
        "ranking_soup = BeautifulSoup(fifa_page.text, \"html.parser\")\n",
        "match_table = ranking_soup.find('tbody')\n",
        "rows_match = match_table.findAll('tr')\n",
        "\n",
        "home_country = []\n",
        "score = []\n",
        "away_country = []\n",
        "round_number = []\n",
        "for row in rows_match:\n",
        "    tds = row.findAll('td')\n",
        "    \n",
        "    round_number.append(tds[0].text)\n",
        "    \n",
        "    home_country.append(tds[3].text)\n",
        "    \n",
        "    away_country.append(tds[4].text)\n",
        "    \n",
        "    score.append(tds[6].text)"
      ],
      "execution_count": 0,
      "outputs": []
    },
    {
      "metadata": {
        "id": "GFsDMXV7hFM5",
        "colab_type": "code",
        "outputId": "c62f9074-9a29-4c26-e0f2-343a754e70dc",
        "colab": {
          "base_uri": "https://localhost:8080/",
          "height": 119
        }
      },
      "cell_type": "code",
      "source": [
        "winner = []\n",
        "k = 0\n",
        "for value in score:\n",
        "    game_result = value.split(' ')\n",
        "    if int(game_result[0]) > int(game_result[-1]):\n",
        "        winner.append(home_country[k])\n",
        "    elif int(game_result[0]) == int(game_result[-1]):\n",
        "        winner.append('Draw')\n",
        "    else:\n",
        "        winner.append(away_country[k])\n",
        "    k +=1\n",
        "\n",
        "df_test = pd.DataFrame({'round_number':round_number,'home_team':home_country,'away_team':away_country,'winning_team':winner})\n",
        "df_test = df_test.replace({\"Korea Republic\":\"South Korea\",\"IR Iran\":\"Iran\"})\n",
        "df_test['phase'] = (df_test['round_number'] == '1') | (df_test['round_number'] == '2') | (df_test['round_number'] == '3')\n",
        "\n",
        "phase_1 = df_test[df_test['phase']== True]\n",
        "phase_2 = df_test[df_test['phase']== False]\n",
        "\n",
        "# all the phases untill apart of knockout phase\n",
        "x_test1 = phase_1[['home_team','away_team']]\n",
        "\n",
        "# only the knockout phase matches\n",
        "x_test2 = phase_2[['home_team','away_team']]\n",
        "\n",
        "# all the winning teams untill apart of knockout phase\n",
        "y_test1 = phase_1['winning_team']\n",
        "\n",
        "# winning teams of the knockout phase\n",
        "y_test2 = phase_2['winning_team']\n",
        "\n",
        "y_test1.head()"
      ],
      "execution_count": 24,
      "outputs": [
        {
          "output_type": "execute_result",
          "data": {
            "text/plain": [
              "0     Russia\n",
              "1    Uruguay\n",
              "2       Iran\n",
              "3       Draw\n",
              "4     France\n",
              "Name: winning_team, dtype: object"
            ]
          },
          "metadata": {
            "tags": []
          },
          "execution_count": 24
        }
      ]
    },
    {
      "metadata": {
        "id": "josPnW1cFpjo",
        "colab_type": "code",
        "outputId": "dd0295d4-4f52-4f7d-eb7a-fd5eba35181d",
        "colab": {
          "base_uri": "https://localhost:8080/",
          "height": 561
        }
      },
      "cell_type": "code",
      "source": [
        "# the scraped data show a draw when a game is prolonged in the knockout phase to 120min/penalties. This is a solution to get the right winners of the knocout phase:\n",
        "draws = y_test2 == 'Draw'\n",
        "idx = y_test2[draws].index.values\n",
        "for index in idx:\n",
        "  team1 = x_test2['away_team'].loc[index]\n",
        "  team2 = x_test2['home_team'].loc[index]\n",
        "  team1_progress = ((x_test2['away_team'].loc[index+1:]==team1).any() or (x_test2['home_team'].loc[index+1:]==team1).any())\n",
        "  if team1_progress:\n",
        "    y_test2.loc[index] = team1\n",
        "  else:\n",
        "    y_test2.loc[index] = team2\n",
        "# winning teams of the knocout phase with the winning teams after 120min/penalties-if occured    \n",
        "y_test2"
      ],
      "execution_count": 25,
      "outputs": [
        {
          "output_type": "stream",
          "text": [
            "/usr/local/lib/python3.6/dist-packages/pandas/core/indexing.py:194: SettingWithCopyWarning: \n",
            "A value is trying to be set on a copy of a slice from a DataFrame\n",
            "\n",
            "See the caveats in the documentation: http://pandas.pydata.org/pandas-docs/stable/indexing.html#indexing-view-versus-copy\n",
            "  self._setitem_with_indexer(indexer, value)\n",
            "/usr/local/lib/python3.6/dist-packages/ipykernel_launcher.py:8: SettingWithCopyWarning: \n",
            "A value is trying to be set on a copy of a slice from a DataFrame\n",
            "\n",
            "See the caveats in the documentation: http://pandas.pydata.org/pandas-docs/stable/indexing.html#indexing-view-versus-copy\n",
            "  \n",
            "/usr/local/lib/python3.6/dist-packages/ipykernel_launcher.py:10: SettingWithCopyWarning: \n",
            "A value is trying to be set on a copy of a slice from a DataFrame\n",
            "\n",
            "See the caveats in the documentation: http://pandas.pydata.org/pandas-docs/stable/indexing.html#indexing-view-versus-copy\n",
            "  # Remove the CWD from sys.path while we load stuff.\n"
          ],
          "name": "stderr"
        },
        {
          "output_type": "execute_result",
          "data": {
            "text/plain": [
              "48     France\n",
              "49    Uruguay\n",
              "50     Russia\n",
              "51    Croatia\n",
              "52     Brazil\n",
              "53    Belgium\n",
              "54     Sweden\n",
              "55    England\n",
              "56     France\n",
              "57    Belgium\n",
              "58    England\n",
              "59    Croatia\n",
              "60     France\n",
              "61    Croatia\n",
              "62    Belgium\n",
              "63     France\n",
              "Name: winning_team, dtype: object"
            ]
          },
          "metadata": {
            "tags": []
          },
          "execution_count": 25
        }
      ]
    },
    {
      "metadata": {
        "id": "a3IXVOutLikl",
        "colab_type": "code",
        "colab": {}
      },
      "cell_type": "code",
      "source": [
        "# do a hack on the knockout phase if there is a draw result\n",
        "def knockout_test(model,x):\n",
        "  # condition so that neural network could work also with this function\n",
        "  if isinstance(model,(Sequential,)):\n",
        "    ypred = model.predict(x)\n",
        "  # the rest of the models can use probability\n",
        "  else:\n",
        "    ypred = model.predict_proba(x)\n",
        "    \n",
        "  winners = np.argmax(ypred,axis=1)\n",
        "  draw = np.argmax(ypred,axis=1)==0\n",
        "  # take care of an occurence of a draw predicted result- the hack\n",
        "  if draw.any():\n",
        "    draw_winners = np.argmax(ypred[draw,1:])+1\n",
        "    winners[draw]=draw_winners\n",
        "  \n",
        "  return winners\n"
      ],
      "execution_count": 0,
      "outputs": []
    },
    {
      "metadata": {
        "id": "mrzfciO8w74v",
        "colab_type": "code",
        "colab": {}
      },
      "cell_type": "code",
      "source": [
        ""
      ],
      "execution_count": 0,
      "outputs": []
    },
    {
      "metadata": {
        "id": "rpDIfxUWBN3U",
        "colab_type": "text"
      },
      "cell_type": "markdown",
      "source": [
        "#Feature engineering for our baseline model"
      ]
    },
    {
      "metadata": {
        "id": "T5X-cN5RGwxX",
        "colab_type": "text"
      },
      "cell_type": "markdown",
      "source": [
        "###FIFA rankings- the most important feature of our baseline model"
      ]
    },
    {
      "metadata": {
        "id": "Y5qH7xsaGolT",
        "colab_type": "code",
        "outputId": "11e807ba-d0a1-4d2b-c179-0651860e8e8e",
        "colab": {
          "base_uri": "https://localhost:8080/",
          "height": 289
        }
      },
      "cell_type": "code",
      "source": [
        "# scrape the Fifa rankings from the fifa.com website as of the seventh of june 2018- Just before the world cup started\n",
        "# https://www.fifa.com/fifa-world-ranking/ranking-table/men/rank/id12210/#all\n",
        "fifa_page=requests.get(\"https://www.fifa.com/fifa-world-ranking/ranking-table/men/rank/id12210/#all\")\n",
        "\n",
        "ranking_soup = BeautifulSoup(fifa_page.text, \"html.parser\")\n",
        "\n",
        "ranking_table = ranking_soup.findAll(\"tbody\")\n",
        "\n",
        "ranking_list=[]\n",
        "        \n",
        "for rank in ranking_table:\n",
        "  ranked_countries = rank.findAll('tr')\n",
        "  \n",
        "  for c in ranked_countries:\n",
        "    di = dict()\n",
        "    \n",
        "    ranking = c.find('td',attrs={'class':\"fi-table__td fi-table__rank\"}).text\n",
        "    di['ranking'] = ranking\n",
        "    di['country_ranked_06/18']=c.find('a',attrs={'class':\"fi-t__link\"}).find('span',attrs={'class':\"fi-t__nText\"}).text\n",
        "    ranking_list.append(di)\n",
        "raw_df_ranking = pd.DataFrame(ranking_list)\n",
        "#south korea and Iran don't apear in the same name in ranking and country list\n",
        "raw_df_ranking = raw_df_ranking.replace({\"Korea Republic\":\"South Korea\",\"IR Iran\":\"Iran\"})\n",
        "\n",
        "df_ranking=raw_df_ranking[raw_df_ranking['country_ranked_06/18'].isin(countrylist)]\n",
        "\n",
        "df_ranking['ranking'] = pd.to_numeric(df_ranking['ranking'])\n",
        "df_ranking.head()"
      ],
      "execution_count": 27,
      "outputs": [
        {
          "output_type": "stream",
          "text": [
            "/usr/local/lib/python3.6/dist-packages/ipykernel_launcher.py:25: SettingWithCopyWarning: \n",
            "A value is trying to be set on a copy of a slice from a DataFrame.\n",
            "Try using .loc[row_indexer,col_indexer] = value instead\n",
            "\n",
            "See the caveats in the documentation: http://pandas.pydata.org/pandas-docs/stable/indexing.html#indexing-view-versus-copy\n"
          ],
          "name": "stderr"
        },
        {
          "output_type": "execute_result",
          "data": {
            "text/html": [
              "<div>\n",
              "<style scoped>\n",
              "    .dataframe tbody tr th:only-of-type {\n",
              "        vertical-align: middle;\n",
              "    }\n",
              "\n",
              "    .dataframe tbody tr th {\n",
              "        vertical-align: top;\n",
              "    }\n",
              "\n",
              "    .dataframe thead th {\n",
              "        text-align: right;\n",
              "    }\n",
              "</style>\n",
              "<table border=\"1\" class=\"dataframe\">\n",
              "  <thead>\n",
              "    <tr style=\"text-align: right;\">\n",
              "      <th></th>\n",
              "      <th>country_ranked_06/18</th>\n",
              "      <th>ranking</th>\n",
              "    </tr>\n",
              "  </thead>\n",
              "  <tbody>\n",
              "    <tr>\n",
              "      <th>0</th>\n",
              "      <td>Germany</td>\n",
              "      <td>1</td>\n",
              "    </tr>\n",
              "    <tr>\n",
              "      <th>1</th>\n",
              "      <td>Brazil</td>\n",
              "      <td>2</td>\n",
              "    </tr>\n",
              "    <tr>\n",
              "      <th>2</th>\n",
              "      <td>Belgium</td>\n",
              "      <td>3</td>\n",
              "    </tr>\n",
              "    <tr>\n",
              "      <th>3</th>\n",
              "      <td>Portugal</td>\n",
              "      <td>4</td>\n",
              "    </tr>\n",
              "    <tr>\n",
              "      <th>4</th>\n",
              "      <td>Argentina</td>\n",
              "      <td>5</td>\n",
              "    </tr>\n",
              "  </tbody>\n",
              "</table>\n",
              "</div>"
            ],
            "text/plain": [
              "  country_ranked_06/18  ranking\n",
              "0              Germany        1\n",
              "1               Brazil        2\n",
              "2              Belgium        3\n",
              "3             Portugal        4\n",
              "4            Argentina        5"
            ]
          },
          "metadata": {
            "tags": []
          },
          "execution_count": 27
        }
      ]
    },
    {
      "metadata": {
        "id": "PaNgKkuqHXXk",
        "colab_type": "code",
        "outputId": "798220d2-34bb-4581-96c3-a5c17e9b76a0",
        "colab": {
          "base_uri": "https://localhost:8080/",
          "height": 204
        }
      },
      "cell_type": "code",
      "source": [
        "#get the rankings of only the squads that participated in the 2018 world cup\n",
        "df_ranking=df_ranking[df_ranking['country_ranked_06/18'].isin(countrylist)]\n",
        "\n",
        "df_ranking.set_index(\"country_ranked_06/18\")\n",
        "df_ranking = df_ranking.rename(columns={'country_ranked_06/18': 'country'})\n",
        "df_ranking.set_index('country')\n",
        "df_ranking.head()"
      ],
      "execution_count": 28,
      "outputs": [
        {
          "output_type": "execute_result",
          "data": {
            "text/html": [
              "<div>\n",
              "<style scoped>\n",
              "    .dataframe tbody tr th:only-of-type {\n",
              "        vertical-align: middle;\n",
              "    }\n",
              "\n",
              "    .dataframe tbody tr th {\n",
              "        vertical-align: top;\n",
              "    }\n",
              "\n",
              "    .dataframe thead th {\n",
              "        text-align: right;\n",
              "    }\n",
              "</style>\n",
              "<table border=\"1\" class=\"dataframe\">\n",
              "  <thead>\n",
              "    <tr style=\"text-align: right;\">\n",
              "      <th></th>\n",
              "      <th>country</th>\n",
              "      <th>ranking</th>\n",
              "    </tr>\n",
              "  </thead>\n",
              "  <tbody>\n",
              "    <tr>\n",
              "      <th>0</th>\n",
              "      <td>Germany</td>\n",
              "      <td>1</td>\n",
              "    </tr>\n",
              "    <tr>\n",
              "      <th>1</th>\n",
              "      <td>Brazil</td>\n",
              "      <td>2</td>\n",
              "    </tr>\n",
              "    <tr>\n",
              "      <th>2</th>\n",
              "      <td>Belgium</td>\n",
              "      <td>3</td>\n",
              "    </tr>\n",
              "    <tr>\n",
              "      <th>3</th>\n",
              "      <td>Portugal</td>\n",
              "      <td>4</td>\n",
              "    </tr>\n",
              "    <tr>\n",
              "      <th>4</th>\n",
              "      <td>Argentina</td>\n",
              "      <td>5</td>\n",
              "    </tr>\n",
              "  </tbody>\n",
              "</table>\n",
              "</div>"
            ],
            "text/plain": [
              "     country  ranking\n",
              "0    Germany        1\n",
              "1     Brazil        2\n",
              "2    Belgium        3\n",
              "3   Portugal        4\n",
              "4  Argentina        5"
            ]
          },
          "metadata": {
            "tags": []
          },
          "execution_count": 28
        }
      ]
    },
    {
      "metadata": {
        "id": "FB83m-k9B19b",
        "colab_type": "text"
      },
      "cell_type": "markdown",
      "source": [
        "#### Feature of the last 20 matches performance before the world cup"
      ]
    },
    {
      "metadata": {
        "id": "k42VA0VPud80",
        "colab_type": "code",
        "outputId": "841add8f-d3b2-4900-ad54-d9f4f5433a2d",
        "colab": {
          "base_uri": "https://localhost:8080/",
          "height": 235
        }
      },
      "cell_type": "code",
      "source": [
        "# get the 20 most recent performance and later make it a predictor\n",
        "winning_teamlist = df_natteam['winning_team'].unique()\n",
        "\n",
        "number_wins = []\n",
        "for team in countrylist:\n",
        "    index_played = df_natteam[(df_natteam['home_team']==team) | (df_natteam['away_team']==team)][-20:]\n",
        "    won_games = index_played[index_played['winning_team']==team].shape[0]\n",
        "    number_wins.append({'country':team,'# won':won_games})\n",
        "\n",
        "df_wins = pd.DataFrame(number_wins)\n",
        "df_wins = df_wins.set_index('country')\n",
        "df_wins['country']=df_wins.index\n",
        "df_wins.head()"
      ],
      "execution_count": 29,
      "outputs": [
        {
          "output_type": "execute_result",
          "data": {
            "text/html": [
              "<div>\n",
              "<style scoped>\n",
              "    .dataframe tbody tr th:only-of-type {\n",
              "        vertical-align: middle;\n",
              "    }\n",
              "\n",
              "    .dataframe tbody tr th {\n",
              "        vertical-align: top;\n",
              "    }\n",
              "\n",
              "    .dataframe thead th {\n",
              "        text-align: right;\n",
              "    }\n",
              "</style>\n",
              "<table border=\"1\" class=\"dataframe\">\n",
              "  <thead>\n",
              "    <tr style=\"text-align: right;\">\n",
              "      <th></th>\n",
              "      <th># won</th>\n",
              "      <th>country</th>\n",
              "    </tr>\n",
              "    <tr>\n",
              "      <th>country</th>\n",
              "      <th></th>\n",
              "      <th></th>\n",
              "    </tr>\n",
              "  </thead>\n",
              "  <tbody>\n",
              "    <tr>\n",
              "      <th>Egypt</th>\n",
              "      <td>6</td>\n",
              "      <td>Egypt</td>\n",
              "    </tr>\n",
              "    <tr>\n",
              "      <th>Russia</th>\n",
              "      <td>5</td>\n",
              "      <td>Russia</td>\n",
              "    </tr>\n",
              "    <tr>\n",
              "      <th>Saudi Arabia</th>\n",
              "      <td>2</td>\n",
              "      <td>Saudi Arabia</td>\n",
              "    </tr>\n",
              "    <tr>\n",
              "      <th>Uruguay</th>\n",
              "      <td>7</td>\n",
              "      <td>Uruguay</td>\n",
              "    </tr>\n",
              "    <tr>\n",
              "      <th>Iran</th>\n",
              "      <td>4</td>\n",
              "      <td>Iran</td>\n",
              "    </tr>\n",
              "  </tbody>\n",
              "</table>\n",
              "</div>"
            ],
            "text/plain": [
              "              # won       country\n",
              "country                          \n",
              "Egypt             6         Egypt\n",
              "Russia            5        Russia\n",
              "Saudi Arabia      2  Saudi Arabia\n",
              "Uruguay           7       Uruguay\n",
              "Iran              4          Iran"
            ]
          },
          "metadata": {
            "tags": []
          },
          "execution_count": 29
        }
      ]
    },
    {
      "metadata": {
        "id": "B9EkOXCgCc_R",
        "colab_type": "text"
      },
      "cell_type": "markdown",
      "source": [
        "#### National squad Coach salary feature"
      ]
    },
    {
      "metadata": {
        "id": "MbVlOHyFCRBA",
        "colab_type": "code",
        "colab": {}
      },
      "cell_type": "code",
      "source": [
        "# Function to get the Original Country of Coach and his/her age \n",
        "import datetime \n",
        "import time\n",
        "now = datetime.datetime.now()  # Import the datetime  library \n",
        "\n",
        "def coach_info(url):\n",
        "    page = requests.get(url)\n",
        "    soup = BeautifulSoup(page.text, \"html.parser\")  # Parse the passed URL \n",
        "    \n",
        "    \n",
        "    nodes = soup.select('div.fi-p__profile-text--uppercase')  # Select the div necessary for scrapping values\n",
        "    age = now.year - int(nodes[0].find('span').text.strip()[-4:])  # Extract the age of the coach \n",
        "    nationality = nodes[1].find('span').text.strip()  # extract the nationality of the coach \n",
        "    return (age, nationality)"
      ],
      "execution_count": 0,
      "outputs": []
    },
    {
      "metadata": {
        "id": "iuo1nhl3JJfW",
        "colab_type": "code",
        "colab": {}
      },
      "cell_type": "code",
      "source": [
        "# Get the list for all coaches for the world cup, their age, original country \n",
        "\n",
        "\n",
        "ROOT = \"https://www.fifa.com\"\n",
        "\n",
        "coach_page=requests.get(\"https://www.fifa.com/worldcup/players/coaches/\") # Get URL from the coaches list\n",
        "coach_soup = BeautifulSoup(coach_page.text, \"html.parser\") # Parse the page.text in Beautiful Soup\n",
        "\n",
        "salary_page = requests.get(\"http://www.footballwood.in/salary-every-coach-in-2018-fifa-world-cup.html\") # URL to get salary for coaches\n",
        "salary_soup = BeautifulSoup(salary_page.text, \"html.parser\")\n",
        "\n",
        "# Get list of coaches salary and their country \n",
        "coach_dict = {}\n",
        "salary_nodes = salary_soup.findAll('tr')\n",
        "for i in range(1,len(salary_nodes)):\n",
        "    pays = salary_nodes[i].findNext('td').findNext('td').findNext('td').text\n",
        "    if pays == 'Iran': pays = 'IR Iran'\n",
        "    if pays == 'South Korea': pays = 'Korea Republic'\n",
        "    salaire = salary_nodes[i].findNext('td').findNext('td').findNext('td').findNext('td').text.strip('£')   \n",
        "    if salaire[-1] == 'm': \n",
        "        salary = float(salaire.strip('m')) * 1000000\n",
        "    else:\n",
        "        salary = float(salaire.replace(',', ''))\n",
        "    coach_dict[pays] = salary\n",
        " \n",
        "    \n",
        "#ranking_table = ranking_soup.findAll(\"tbody\")\n",
        "\n",
        "def parse_coach (soup: BeautifulSoup):\n",
        "    \n",
        "    coachlist = []  #List to save the coaches\n",
        "    teamlist = []  #list of save the team\n",
        "    \n",
        "    coach_nodes = soup.select('div.fi-p__name')   # Narrow to div containing the coach names\n",
        "    team_nodes = soup.select('div.fi-p__country') # Narrow to div contaning the coach's team \n",
        "    detail_nodes = soup.select('div.col-sm-3')    # Get the href for the Coach information\n",
        "    for i in range(len(coach_nodes)):\n",
        "        dictionaire = {}  # dictionaire to save the coach and the team he/she corresponds to\n",
        "        dictionaire['country'] = team_nodes[i].text.strip() # Get the country name for the coach \n",
        "        dictionaire['coach'] = coach_nodes[i].text.strip() # Get the coach corresponding to the country\n",
        "        dictionaire['coach age'], dictionaire['nationality'] = coach_info(ROOT+detail_nodes[i].find('a').attrs['href']) # Get age and nationality of the coach \n",
        "        dictionaire['Coach Salary'] = coach_dict[team_nodes[i].text.strip()]\n",
        "#         time.sleep(2)\n",
        "        coachlist.append(dictionaire)\n",
        "        \n",
        "    return coachlist"
      ],
      "execution_count": 0,
      "outputs": []
    },
    {
      "metadata": {
        "id": "IGrS1ykKJVyG",
        "colab_type": "code",
        "outputId": "15fd48b8-16df-4b03-ddf2-6043ea0f918a",
        "colab": {
          "base_uri": "https://localhost:8080/",
          "height": 204
        }
      },
      "cell_type": "code",
      "source": [
        "df_coaches = pd.DataFrame(parse_coach(coach_soup))  # Convert coach list into dataframe\n",
        "df_coaches['country'] = df_coaches.country.replace({\"Korea Republic\":\"South Korea\",\"IR Iran\":\"Iran\"})\n",
        "df_coaches.head()"
      ],
      "execution_count": 32,
      "outputs": [
        {
          "output_type": "execute_result",
          "data": {
            "text/html": [
              "<div>\n",
              "<style scoped>\n",
              "    .dataframe tbody tr th:only-of-type {\n",
              "        vertical-align: middle;\n",
              "    }\n",
              "\n",
              "    .dataframe tbody tr th {\n",
              "        vertical-align: top;\n",
              "    }\n",
              "\n",
              "    .dataframe thead th {\n",
              "        text-align: right;\n",
              "    }\n",
              "</style>\n",
              "<table border=\"1\" class=\"dataframe\">\n",
              "  <thead>\n",
              "    <tr style=\"text-align: right;\">\n",
              "      <th></th>\n",
              "      <th>Coach Salary</th>\n",
              "      <th>coach</th>\n",
              "      <th>coach age</th>\n",
              "      <th>country</th>\n",
              "      <th>nationality</th>\n",
              "    </tr>\n",
              "  </thead>\n",
              "  <tbody>\n",
              "    <tr>\n",
              "      <th>0</th>\n",
              "      <td>235600.0</td>\n",
              "      <td>Adam NAWALKA</td>\n",
              "      <td>61</td>\n",
              "      <td>Poland</td>\n",
              "      <td>POL</td>\n",
              "    </tr>\n",
              "    <tr>\n",
              "      <th>1</th>\n",
              "      <td>810000.0</td>\n",
              "      <td>Age HAREIDE</td>\n",
              "      <td>65</td>\n",
              "      <td>Denmark</td>\n",
              "      <td>NOR</td>\n",
              "    </tr>\n",
              "    <tr>\n",
              "      <th>2</th>\n",
              "      <td>810000.0</td>\n",
              "      <td>Akira NISHINO</td>\n",
              "      <td>63</td>\n",
              "      <td>Japan</td>\n",
              "      <td>JPN</td>\n",
              "    </tr>\n",
              "    <tr>\n",
              "      <th>3</th>\n",
              "      <td>174500.0</td>\n",
              "      <td>Aliou CISSE</td>\n",
              "      <td>42</td>\n",
              "      <td>Senegal</td>\n",
              "      <td>SEN</td>\n",
              "    </tr>\n",
              "    <tr>\n",
              "      <th>4</th>\n",
              "      <td>1030000.0</td>\n",
              "      <td>Bert VAN MARWIJK</td>\n",
              "      <td>66</td>\n",
              "      <td>Australia</td>\n",
              "      <td>NED</td>\n",
              "    </tr>\n",
              "  </tbody>\n",
              "</table>\n",
              "</div>"
            ],
            "text/plain": [
              "   Coach Salary             coach  coach age    country nationality\n",
              "0      235600.0      Adam NAWALKA         61     Poland         POL\n",
              "1      810000.0       Age HAREIDE         65    Denmark         NOR\n",
              "2      810000.0     Akira NISHINO         63      Japan         JPN\n",
              "3      174500.0       Aliou CISSE         42    Senegal         SEN\n",
              "4     1030000.0  Bert VAN MARWIJK         66  Australia         NED"
            ]
          },
          "metadata": {
            "tags": []
          },
          "execution_count": 32
        }
      ]
    },
    {
      "metadata": {
        "id": "k5F4LkQ0Ld6v",
        "colab_type": "text"
      },
      "cell_type": "markdown",
      "source": [
        "### For our base line model an extra 3 features were used(taken from players_features dataframe above): average age of every team, average number of caps and average number of goals"
      ]
    },
    {
      "metadata": {
        "id": "YtzimO8FlRVq",
        "colab_type": "text"
      },
      "cell_type": "markdown",
      "source": [
        "##Features DataFrame for the baseline model"
      ]
    },
    {
      "metadata": {
        "id": "Hhk6SXxSunY4",
        "colab_type": "code",
        "outputId": "124ba34b-33cb-44b4-a53d-19f984af30ef",
        "colab": {
          "base_uri": "https://localhost:8080/",
          "height": 235
        }
      },
      "cell_type": "code",
      "source": [
        "#Data set with Few predictor focused on Fifa Ranking \n",
        "result3 = pd.merge(df_wins, players_features, on='country')\n",
        "result3 = pd.merge(result3,df_ranking, on='country')\n",
        "result3 = pd.merge(result3,df_coaches, on='country')\n",
        "result3 = result3.set_index('country')\n",
        "# drop unnecessary columns\n",
        "result3=result3.drop([\"Top League\",\"nationality\",\"CL League 2017-2018\", \"coach\", \"coach age\"],axis=1)\n",
        "display(result3.head())\n"
      ],
      "execution_count": 33,
      "outputs": [
        {
          "output_type": "display_data",
          "data": {
            "text/html": [
              "<div>\n",
              "<style scoped>\n",
              "    .dataframe tbody tr th:only-of-type {\n",
              "        vertical-align: middle;\n",
              "    }\n",
              "\n",
              "    .dataframe tbody tr th {\n",
              "        vertical-align: top;\n",
              "    }\n",
              "\n",
              "    .dataframe thead th {\n",
              "        text-align: right;\n",
              "    }\n",
              "</style>\n",
              "<table border=\"1\" class=\"dataframe\">\n",
              "  <thead>\n",
              "    <tr style=\"text-align: right;\">\n",
              "      <th></th>\n",
              "      <th># won</th>\n",
              "      <th>age</th>\n",
              "      <th>caps</th>\n",
              "      <th>goals</th>\n",
              "      <th>ranking</th>\n",
              "      <th>Coach Salary</th>\n",
              "    </tr>\n",
              "    <tr>\n",
              "      <th>country</th>\n",
              "      <th></th>\n",
              "      <th></th>\n",
              "      <th></th>\n",
              "      <th></th>\n",
              "      <th></th>\n",
              "      <th></th>\n",
              "    </tr>\n",
              "  </thead>\n",
              "  <tbody>\n",
              "    <tr>\n",
              "      <th>Egypt</th>\n",
              "      <td>6</td>\n",
              "      <td>28.521739</td>\n",
              "      <td>37.304348</td>\n",
              "      <td>64</td>\n",
              "      <td>45</td>\n",
              "      <td>1300000.0</td>\n",
              "    </tr>\n",
              "    <tr>\n",
              "      <th>Russia</th>\n",
              "      <td>5</td>\n",
              "      <td>28.304348</td>\n",
              "      <td>28.521739</td>\n",
              "      <td>56</td>\n",
              "      <td>70</td>\n",
              "      <td>2210000.0</td>\n",
              "    </tr>\n",
              "    <tr>\n",
              "      <th>Saudi Arabia</th>\n",
              "      <td>2</td>\n",
              "      <td>28.173913</td>\n",
              "      <td>34.304348</td>\n",
              "      <td>91</td>\n",
              "      <td>67</td>\n",
              "      <td>1230000.0</td>\n",
              "    </tr>\n",
              "    <tr>\n",
              "      <th>Uruguay</th>\n",
              "      <td>7</td>\n",
              "      <td>27.782609</td>\n",
              "      <td>42.260870</td>\n",
              "      <td>134</td>\n",
              "      <td>14</td>\n",
              "      <td>1470000.0</td>\n",
              "    </tr>\n",
              "    <tr>\n",
              "      <th>Iran</th>\n",
              "      <td>4</td>\n",
              "      <td>26.739130</td>\n",
              "      <td>30.521739</td>\n",
              "      <td>109</td>\n",
              "      <td>37</td>\n",
              "      <td>1690000.0</td>\n",
              "    </tr>\n",
              "  </tbody>\n",
              "</table>\n",
              "</div>"
            ],
            "text/plain": [
              "              # won        age       caps  goals  ranking  Coach Salary\n",
              "country                                                                \n",
              "Egypt             6  28.521739  37.304348     64       45     1300000.0\n",
              "Russia            5  28.304348  28.521739     56       70     2210000.0\n",
              "Saudi Arabia      2  28.173913  34.304348     91       67     1230000.0\n",
              "Uruguay           7  27.782609  42.260870    134       14     1470000.0\n",
              "Iran              4  26.739130  30.521739    109       37     1690000.0"
            ]
          },
          "metadata": {
            "tags": []
          }
        }
      ]
    },
    {
      "metadata": {
        "id": "TLdMoMrrMiVE",
        "colab_type": "code",
        "outputId": "5ca5d338-d205-4f29-d7dc-51150cda7653",
        "colab": {
          "base_uri": "https://localhost:8080/",
          "height": 235
        }
      },
      "cell_type": "code",
      "source": [
        "# standardize the features data frame because of differences in values scale\n",
        "result3_std = (result3-result3.mean())/result3.std()\n",
        "result3_std.head()"
      ],
      "execution_count": 36,
      "outputs": [
        {
          "output_type": "execute_result",
          "data": {
            "text/html": [
              "<div>\n",
              "<style scoped>\n",
              "    .dataframe tbody tr th:only-of-type {\n",
              "        vertical-align: middle;\n",
              "    }\n",
              "\n",
              "    .dataframe tbody tr th {\n",
              "        vertical-align: top;\n",
              "    }\n",
              "\n",
              "    .dataframe thead th {\n",
              "        text-align: right;\n",
              "    }\n",
              "</style>\n",
              "<table border=\"1\" class=\"dataframe\">\n",
              "  <thead>\n",
              "    <tr style=\"text-align: right;\">\n",
              "      <th></th>\n",
              "      <th># won</th>\n",
              "      <th>age</th>\n",
              "      <th>caps</th>\n",
              "      <th>goals</th>\n",
              "      <th>ranking</th>\n",
              "      <th>Coach Salary</th>\n",
              "    </tr>\n",
              "    <tr>\n",
              "      <th>country</th>\n",
              "      <th></th>\n",
              "      <th></th>\n",
              "      <th></th>\n",
              "      <th></th>\n",
              "      <th></th>\n",
              "      <th></th>\n",
              "    </tr>\n",
              "  </thead>\n",
              "  <tbody>\n",
              "    <tr>\n",
              "      <th>Egypt</th>\n",
              "      <td>-0.138330</td>\n",
              "      <td>1.032079</td>\n",
              "      <td>0.200949</td>\n",
              "      <td>-0.975293</td>\n",
              "      <td>0.953167</td>\n",
              "      <td>0.164699</td>\n",
              "    </tr>\n",
              "    <tr>\n",
              "      <th>Russia</th>\n",
              "      <td>-0.433434</td>\n",
              "      <td>0.818454</td>\n",
              "      <td>-0.685091</td>\n",
              "      <td>-1.170963</td>\n",
              "      <td>2.171272</td>\n",
              "      <td>1.194555</td>\n",
              "    </tr>\n",
              "    <tr>\n",
              "      <th>Saudi Arabia</th>\n",
              "      <td>-1.318745</td>\n",
              "      <td>0.690278</td>\n",
              "      <td>-0.101708</td>\n",
              "      <td>-0.314906</td>\n",
              "      <td>2.025099</td>\n",
              "      <td>0.085479</td>\n",
              "    </tr>\n",
              "    <tr>\n",
              "      <th>Uruguay</th>\n",
              "      <td>0.156774</td>\n",
              "      <td>0.305752</td>\n",
              "      <td>0.700991</td>\n",
              "      <td>0.736820</td>\n",
              "      <td>-0.557283</td>\n",
              "      <td>0.357090</td>\n",
              "    </tr>\n",
              "    <tr>\n",
              "      <th>Iran</th>\n",
              "      <td>-0.728538</td>\n",
              "      <td>-0.719652</td>\n",
              "      <td>-0.483319</td>\n",
              "      <td>0.125351</td>\n",
              "      <td>0.563373</td>\n",
              "      <td>0.606066</td>\n",
              "    </tr>\n",
              "  </tbody>\n",
              "</table>\n",
              "</div>"
            ],
            "text/plain": [
              "                 # won       age      caps     goals   ranking  Coach Salary\n",
              "country                                                                     \n",
              "Egypt        -0.138330  1.032079  0.200949 -0.975293  0.953167      0.164699\n",
              "Russia       -0.433434  0.818454 -0.685091 -1.170963  2.171272      1.194555\n",
              "Saudi Arabia -1.318745  0.690278 -0.101708 -0.314906  2.025099      0.085479\n",
              "Uruguay       0.156774  0.305752  0.700991  0.736820 -0.557283      0.357090\n",
              "Iran         -0.728538 -0.719652 -0.483319  0.125351  0.563373      0.606066"
            ]
          },
          "metadata": {
            "tags": []
          },
          "execution_count": 36
        }
      ]
    },
    {
      "metadata": {
        "id": "51bRpxOFpkbR",
        "colab_type": "code",
        "outputId": "4a532a9a-9eeb-46ff-d029-67e05472f323",
        "colab": {
          "base_uri": "https://localhost:8080/",
          "height": 320
        }
      },
      "cell_type": "code",
      "source": [
        "\n",
        "plt.figure(figsize = [14,5])\n",
        "plt.subplot(1,4,1)\n",
        "bplot1=result3.boxplot(column=['age'],figsize=(2,4),\n",
        "                       grid=True)\n",
        "plt.subplot(1,4,2)\n",
        "bplot2=result3.boxplot(column=['goals'],figsize=(2,4),\n",
        "                       grid=True)\n",
        "plt.subplot(1,4,3)\n",
        "bplot3=result3.boxplot(column=['caps'],figsize=(2,4),\n",
        "                       grid=True)\n",
        "plt.subplot(1,4,4)\n",
        "bplot4=result3.boxplot(column=['Coach Salary'],figsize=(2,4),\n",
        "                       grid=True)\n",
        "\n"
      ],
      "execution_count": 37,
      "outputs": [
        {
          "output_type": "display_data",
          "data": {
            "image/png": "[encoded data removed]",
            "text/plain": [
              "<matplotlib.figure.Figure at 0x7f02a7d3e0f0>"
            ]
          },
          "metadata": {
            "tags": []
          }
        }
      ]
    },
    {
      "metadata": {
        "id": "Kjf_WzBtTQnE",
        "colab_type": "code",
        "outputId": "a660ff77-516f-46f1-b26b-71998149e0db",
        "colab": {
          "base_uri": "https://localhost:8080/",
          "height": 353
        }
      },
      "cell_type": "code",
      "source": [
        "plt.figure(figsize=(9,5))\n",
        "sns.heatmap(result3_std.corr(),annot=True) "
      ],
      "execution_count": 38,
      "outputs": [
        {
          "output_type": "execute_result",
          "data": {
            "text/plain": [
              "<matplotlib.axes._subplots.AxesSubplot at 0x7f02a7d43908>"
            ]
          },
          "metadata": {
            "tags": []
          },
          "execution_count": 38
        },
        {
          "output_type": "display_data",
          "data": {
            "image/png": "[encoded data removed]",
            "text/plain": [
              "<matplotlib.figure.Figure at 0x7f02a7d43240>"
            ]
          },
          "metadata": {
            "tags": []
          }
        }
      ]
    },
    {
      "metadata": {
        "id": "sUa_ljaNcgva",
        "colab_type": "text"
      },
      "cell_type": "markdown",
      "source": [
        "### Coefficient analysis-Logistic regression"
      ]
    },
    {
      "metadata": {
        "id": "Z3ixxXKDL_8A",
        "colab_type": "code",
        "outputId": "e2b38066-a00b-4517-f025-e3b9acbc9e45",
        "colab": {
          "base_uri": "https://localhost:8080/",
          "height": 515
        }
      },
      "cell_type": "code",
      "source": [
        "plt.figure(figsize = [21,8])\n",
        "plt.subplot(1,3,1)\n",
        "plt.title('Logisitic reg. Feature Importance for Draw')\n",
        "plt.barh(result3.columns,reg3.coef_[0,:6],color='r')\n",
        "plt.barh(result3.columns,reg3.coef_[0,6:],color='b')\n",
        "plt.legend(['Home Team','Away Team'])\n",
        "plt.subplot(1,3,2)\n",
        "plt.title('Logisitic reg. Feature Importance for Home Team Win')\n",
        "plt.barh(result3.columns,reg3.coef_[1,:6],color='r')\n",
        "plt.barh(result3.columns,reg3.coef_[1,6:],color='b')\n",
        "plt.legend(['Home Team','Away Team'])\n",
        "plt.subplot(1,3,3)\n",
        "plt.title('Logisitic reg. Feature Importance for Away Team Win')\n",
        "plt.barh(result3.columns,reg3.coef_[2,:6],color='r')\n",
        "plt.barh(result3.columns,reg3.coef_[2,6:],color='b')\n",
        "plt.legend(['Home Team','Away Team'])\n"
      ],
      "execution_count": 0,
      "outputs": [
        {
          "output_type": "execute_result",
          "data": {
            "text/plain": [
              "<matplotlib.legend.Legend at 0x7fd5ee271588>"
            ]
          },
          "metadata": {
            "tags": []
          },
          "execution_count": 176
        },
        {
          "output_type": "display_data",
          "data": {
            "image/png": "[encoded data removed]",
            "text/plain": [
              "<matplotlib.figure.Figure at 0x7fd5ef84f630>"
            ]
          },
          "metadata": {
            "tags": []
          }
        }
      ]
    },
    {
      "metadata": {
        "id": "pFRJZAXbid5U",
        "colab_type": "code",
        "outputId": "7b0487bf-bad8-4dad-c918-a248c28615d1",
        "colab": {
          "base_uri": "https://localhost:8080/",
          "height": 589
        }
      },
      "cell_type": "code",
      "source": [
        "# result3 coefficients\n",
        "\n",
        "plt.figure(figsize = [9,9])\n",
        "plt.title('Logisitic Feature Comparison (Age)')\n",
        "plt.barh(result3.columns[1]+' Draw',reg3.coef_[0,1],color='c',edgecolor='k')\n",
        "plt.barh(result3.columns[1]+' Draw',reg3.coef_[0,6],color='c')\n",
        "plt.barh(result3.columns[1]+' Home win',reg3.coef_[1,1],color='m',edgecolor='k')\n",
        "plt.barh(result3.columns[1]+' Home win',reg3.coef_[1,6],color='m')\n",
        "plt.barh(result3.columns[1]+' Away win',reg3.coef_[2,1],color='y',edgecolor='k')\n",
        "plt.barh(result3.columns[1]+' Away win',reg3.coef_[2,6],color='y')\n"
      ],
      "execution_count": 0,
      "outputs": [
        {
          "output_type": "execute_result",
          "data": {
            "text/plain": [
              "<Container object of 1 artists>"
            ]
          },
          "metadata": {
            "tags": []
          },
          "execution_count": 177
        },
        {
          "output_type": "display_data",
          "data": {
            "image/png": "[encoded data removed]",
            "text/plain": [
              "<matplotlib.figure.Figure at 0x7fd5ef6e2ef0>"
            ]
          },
          "metadata": {
            "tags": []
          }
        }
      ]
    },
    {
      "metadata": {
        "id": "ZAyIedkE4-39",
        "colab_type": "text"
      },
      "cell_type": "markdown",
      "source": [
        "#Our model built from scratch\n"
      ]
    },
    {
      "metadata": {
        "id": "3qJGMU2RH2KM",
        "colab_type": "code",
        "outputId": "2bd90063-5f3f-4d21-ca92-43f27b1b7640",
        "colab": {
          "base_uri": "https://localhost:8080/",
          "height": 423
        }
      },
      "cell_type": "code",
      "source": [
        "# sofifa complete dataset\n",
        "response = requests.get('https://drive.google.com/uc?export=download&id=12Km8bbBwLulQi2uFymPSCkXBTB5Ws-qj')\n",
        "#have to decode the bytes before it can be read by pandas into df\n",
        "df1 = pd.read_csv(BytesIO(response.content),index_col=0)\n",
        "df1.head()"
      ],
      "execution_count": 0,
      "outputs": [
        {
          "output_type": "stream",
          "text": [
            "/usr/local/lib/python3.6/dist-packages/IPython/core/interactiveshell.py:2718: DtypeWarning: Columns (23,35) have mixed types. Specify dtype option on import or set low_memory=False.\n",
            "  interactivity=interactivity, compiler=compiler, result=result)\n"
          ],
          "name": "stderr"
        },
        {
          "output_type": "execute_result",
          "data": {
            "text/html": [
              "<div>\n",
              "<style scoped>\n",
              "    .dataframe tbody tr th:only-of-type {\n",
              "        vertical-align: middle;\n",
              "    }\n",
              "\n",
              "    .dataframe tbody tr th {\n",
              "        vertical-align: top;\n",
              "    }\n",
              "\n",
              "    .dataframe thead th {\n",
              "        text-align: right;\n",
              "    }\n",
              "</style>\n",
              "<table border=\"1\" class=\"dataframe\">\n",
              "  <thead>\n",
              "    <tr style=\"text-align: right;\">\n",
              "      <th></th>\n",
              "      <th>Name</th>\n",
              "      <th>Age</th>\n",
              "      <th>Photo</th>\n",
              "      <th>Nationality</th>\n",
              "      <th>Flag</th>\n",
              "      <th>Overall</th>\n",
              "      <th>Potential</th>\n",
              "      <th>Club</th>\n",
              "      <th>Club Logo</th>\n",
              "      <th>Value</th>\n",
              "      <th>...</th>\n",
              "      <th>RB</th>\n",
              "      <th>RCB</th>\n",
              "      <th>RCM</th>\n",
              "      <th>RDM</th>\n",
              "      <th>RF</th>\n",
              "      <th>RM</th>\n",
              "      <th>RS</th>\n",
              "      <th>RW</th>\n",
              "      <th>RWB</th>\n",
              "      <th>ST</th>\n",
              "    </tr>\n",
              "  </thead>\n",
              "  <tbody>\n",
              "    <tr>\n",
              "      <th>0</th>\n",
              "      <td>Cristiano Ronaldo</td>\n",
              "      <td>32</td>\n",
              "      <td>https://cdn.sofifa.org/48/18/players/20801.png</td>\n",
              "      <td>Portugal</td>\n",
              "      <td>https://cdn.sofifa.org/flags/38.png</td>\n",
              "      <td>94</td>\n",
              "      <td>94</td>\n",
              "      <td>Real Madrid CF</td>\n",
              "      <td>https://cdn.sofifa.org/24/18/teams/243.png</td>\n",
              "      <td>€95.5M</td>\n",
              "      <td>...</td>\n",
              "      <td>61.0</td>\n",
              "      <td>53.0</td>\n",
              "      <td>82.0</td>\n",
              "      <td>62.0</td>\n",
              "      <td>91.0</td>\n",
              "      <td>89.0</td>\n",
              "      <td>92.0</td>\n",
              "      <td>91.0</td>\n",
              "      <td>66.0</td>\n",
              "      <td>92.0</td>\n",
              "    </tr>\n",
              "    <tr>\n",
              "      <th>1</th>\n",
              "      <td>L. Messi</td>\n",
              "      <td>30</td>\n",
              "      <td>https://cdn.sofifa.org/48/18/players/158023.png</td>\n",
              "      <td>Argentina</td>\n",
              "      <td>https://cdn.sofifa.org/flags/52.png</td>\n",
              "      <td>93</td>\n",
              "      <td>93</td>\n",
              "      <td>FC Barcelona</td>\n",
              "      <td>https://cdn.sofifa.org/24/18/teams/241.png</td>\n",
              "      <td>€105M</td>\n",
              "      <td>...</td>\n",
              "      <td>57.0</td>\n",
              "      <td>45.0</td>\n",
              "      <td>84.0</td>\n",
              "      <td>59.0</td>\n",
              "      <td>92.0</td>\n",
              "      <td>90.0</td>\n",
              "      <td>88.0</td>\n",
              "      <td>91.0</td>\n",
              "      <td>62.0</td>\n",
              "      <td>88.0</td>\n",
              "    </tr>\n",
              "    <tr>\n",
              "      <th>2</th>\n",
              "      <td>Neymar</td>\n",
              "      <td>25</td>\n",
              "      <td>https://cdn.sofifa.org/48/18/players/190871.png</td>\n",
              "      <td>Brazil</td>\n",
              "      <td>https://cdn.sofifa.org/flags/54.png</td>\n",
              "      <td>92</td>\n",
              "      <td>94</td>\n",
              "      <td>Paris Saint-Germain</td>\n",
              "      <td>https://cdn.sofifa.org/24/18/teams/73.png</td>\n",
              "      <td>€123M</td>\n",
              "      <td>...</td>\n",
              "      <td>59.0</td>\n",
              "      <td>46.0</td>\n",
              "      <td>79.0</td>\n",
              "      <td>59.0</td>\n",
              "      <td>88.0</td>\n",
              "      <td>87.0</td>\n",
              "      <td>84.0</td>\n",
              "      <td>89.0</td>\n",
              "      <td>64.0</td>\n",
              "      <td>84.0</td>\n",
              "    </tr>\n",
              "    <tr>\n",
              "      <th>3</th>\n",
              "      <td>L. Suárez</td>\n",
              "      <td>30</td>\n",
              "      <td>https://cdn.sofifa.org/48/18/players/176580.png</td>\n",
              "      <td>Uruguay</td>\n",
              "      <td>https://cdn.sofifa.org/flags/60.png</td>\n",
              "      <td>92</td>\n",
              "      <td>92</td>\n",
              "      <td>FC Barcelona</td>\n",
              "      <td>https://cdn.sofifa.org/24/18/teams/241.png</td>\n",
              "      <td>€97M</td>\n",
              "      <td>...</td>\n",
              "      <td>64.0</td>\n",
              "      <td>58.0</td>\n",
              "      <td>80.0</td>\n",
              "      <td>65.0</td>\n",
              "      <td>88.0</td>\n",
              "      <td>85.0</td>\n",
              "      <td>88.0</td>\n",
              "      <td>87.0</td>\n",
              "      <td>68.0</td>\n",
              "      <td>88.0</td>\n",
              "    </tr>\n",
              "    <tr>\n",
              "      <th>4</th>\n",
              "      <td>M. Neuer</td>\n",
              "      <td>31</td>\n",
              "      <td>https://cdn.sofifa.org/48/18/players/167495.png</td>\n",
              "      <td>Germany</td>\n",
              "      <td>https://cdn.sofifa.org/flags/21.png</td>\n",
              "      <td>92</td>\n",
              "      <td>92</td>\n",
              "      <td>FC Bayern Munich</td>\n",
              "      <td>https://cdn.sofifa.org/24/18/teams/21.png</td>\n",
              "      <td>€61M</td>\n",
              "      <td>...</td>\n",
              "      <td>NaN</td>\n",
              "      <td>NaN</td>\n",
              "      <td>NaN</td>\n",
              "      <td>NaN</td>\n",
              "      <td>NaN</td>\n",
              "      <td>NaN</td>\n",
              "      <td>NaN</td>\n",
              "      <td>NaN</td>\n",
              "      <td>NaN</td>\n",
              "      <td>NaN</td>\n",
              "    </tr>\n",
              "  </tbody>\n",
              "</table>\n",
              "<p>5 rows × 74 columns</p>\n",
              "</div>"
            ],
            "text/plain": [
              "                Name  Age                                            Photo  \\\n",
              "0  Cristiano Ronaldo   32   https://cdn.sofifa.org/48/18/players/20801.png   \n",
              "1           L. Messi   30  https://cdn.sofifa.org/48/18/players/158023.png   \n",
              "2             Neymar   25  https://cdn.sofifa.org/48/18/players/190871.png   \n",
              "3          L. Suárez   30  https://cdn.sofifa.org/48/18/players/176580.png   \n",
              "4           M. Neuer   31  https://cdn.sofifa.org/48/18/players/167495.png   \n",
              "\n",
              "  Nationality                                 Flag  Overall  Potential  \\\n",
              "0    Portugal  https://cdn.sofifa.org/flags/38.png       94         94   \n",
              "1   Argentina  https://cdn.sofifa.org/flags/52.png       93         93   \n",
              "2      Brazil  https://cdn.sofifa.org/flags/54.png       92         94   \n",
              "3     Uruguay  https://cdn.sofifa.org/flags/60.png       92         92   \n",
              "4     Germany  https://cdn.sofifa.org/flags/21.png       92         92   \n",
              "\n",
              "                  Club                                   Club Logo   Value  \\\n",
              "0       Real Madrid CF  https://cdn.sofifa.org/24/18/teams/243.png  €95.5M   \n",
              "1         FC Barcelona  https://cdn.sofifa.org/24/18/teams/241.png   €105M   \n",
              "2  Paris Saint-Germain   https://cdn.sofifa.org/24/18/teams/73.png   €123M   \n",
              "3         FC Barcelona  https://cdn.sofifa.org/24/18/teams/241.png    €97M   \n",
              "4     FC Bayern Munich   https://cdn.sofifa.org/24/18/teams/21.png    €61M   \n",
              "\n",
              "   ...     RB   RCB   RCM   RDM    RF    RM    RS    RW   RWB    ST  \n",
              "0  ...   61.0  53.0  82.0  62.0  91.0  89.0  92.0  91.0  66.0  92.0  \n",
              "1  ...   57.0  45.0  84.0  59.0  92.0  90.0  88.0  91.0  62.0  88.0  \n",
              "2  ...   59.0  46.0  79.0  59.0  88.0  87.0  84.0  89.0  64.0  84.0  \n",
              "3  ...   64.0  58.0  80.0  65.0  88.0  85.0  88.0  87.0  68.0  88.0  \n",
              "4  ...    NaN   NaN   NaN   NaN   NaN   NaN   NaN   NaN   NaN   NaN  \n",
              "\n",
              "[5 rows x 74 columns]"
            ]
          },
          "metadata": {
            "tags": []
          },
          "execution_count": 67
        }
      ]
    },
    {
      "metadata": {
        "id": "SiQeEASavduQ",
        "colab_type": "code",
        "outputId": "d0dbfede-7db6-4ce7-e955-971dce440ddf",
        "colab": {
          "base_uri": "https://localhost:8080/",
          "height": 389
        }
      },
      "cell_type": "code",
      "source": [
        "# rank players according to their overall score\n",
        "df1.nlargest(100, columns='Overall').head()"
      ],
      "execution_count": 0,
      "outputs": [
        {
          "output_type": "execute_result",
          "data": {
            "text/html": [
              "<div>\n",
              "<style scoped>\n",
              "    .dataframe tbody tr th:only-of-type {\n",
              "        vertical-align: middle;\n",
              "    }\n",
              "\n",
              "    .dataframe tbody tr th {\n",
              "        vertical-align: top;\n",
              "    }\n",
              "\n",
              "    .dataframe thead th {\n",
              "        text-align: right;\n",
              "    }\n",
              "</style>\n",
              "<table border=\"1\" class=\"dataframe\">\n",
              "  <thead>\n",
              "    <tr style=\"text-align: right;\">\n",
              "      <th></th>\n",
              "      <th>Name</th>\n",
              "      <th>Age</th>\n",
              "      <th>Photo</th>\n",
              "      <th>Nationality</th>\n",
              "      <th>Flag</th>\n",
              "      <th>Overall</th>\n",
              "      <th>Potential</th>\n",
              "      <th>Club</th>\n",
              "      <th>Club Logo</th>\n",
              "      <th>Value</th>\n",
              "      <th>...</th>\n",
              "      <th>RB</th>\n",
              "      <th>RCB</th>\n",
              "      <th>RCM</th>\n",
              "      <th>RDM</th>\n",
              "      <th>RF</th>\n",
              "      <th>RM</th>\n",
              "      <th>RS</th>\n",
              "      <th>RW</th>\n",
              "      <th>RWB</th>\n",
              "      <th>ST</th>\n",
              "    </tr>\n",
              "  </thead>\n",
              "  <tbody>\n",
              "    <tr>\n",
              "      <th>0</th>\n",
              "      <td>Cristiano Ronaldo</td>\n",
              "      <td>32</td>\n",
              "      <td>https://cdn.sofifa.org/48/18/players/20801.png</td>\n",
              "      <td>Portugal</td>\n",
              "      <td>https://cdn.sofifa.org/flags/38.png</td>\n",
              "      <td>94</td>\n",
              "      <td>94</td>\n",
              "      <td>Real Madrid CF</td>\n",
              "      <td>https://cdn.sofifa.org/24/18/teams/243.png</td>\n",
              "      <td>€95.5M</td>\n",
              "      <td>...</td>\n",
              "      <td>61.0</td>\n",
              "      <td>53.0</td>\n",
              "      <td>82.0</td>\n",
              "      <td>62.0</td>\n",
              "      <td>91.0</td>\n",
              "      <td>89.0</td>\n",
              "      <td>92.0</td>\n",
              "      <td>91.0</td>\n",
              "      <td>66.0</td>\n",
              "      <td>92.0</td>\n",
              "    </tr>\n",
              "    <tr>\n",
              "      <th>1</th>\n",
              "      <td>L. Messi</td>\n",
              "      <td>30</td>\n",
              "      <td>https://cdn.sofifa.org/48/18/players/158023.png</td>\n",
              "      <td>Argentina</td>\n",
              "      <td>https://cdn.sofifa.org/flags/52.png</td>\n",
              "      <td>93</td>\n",
              "      <td>93</td>\n",
              "      <td>FC Barcelona</td>\n",
              "      <td>https://cdn.sofifa.org/24/18/teams/241.png</td>\n",
              "      <td>€105M</td>\n",
              "      <td>...</td>\n",
              "      <td>57.0</td>\n",
              "      <td>45.0</td>\n",
              "      <td>84.0</td>\n",
              "      <td>59.0</td>\n",
              "      <td>92.0</td>\n",
              "      <td>90.0</td>\n",
              "      <td>88.0</td>\n",
              "      <td>91.0</td>\n",
              "      <td>62.0</td>\n",
              "      <td>88.0</td>\n",
              "    </tr>\n",
              "    <tr>\n",
              "      <th>2</th>\n",
              "      <td>Neymar</td>\n",
              "      <td>25</td>\n",
              "      <td>https://cdn.sofifa.org/48/18/players/190871.png</td>\n",
              "      <td>Brazil</td>\n",
              "      <td>https://cdn.sofifa.org/flags/54.png</td>\n",
              "      <td>92</td>\n",
              "      <td>94</td>\n",
              "      <td>Paris Saint-Germain</td>\n",
              "      <td>https://cdn.sofifa.org/24/18/teams/73.png</td>\n",
              "      <td>€123M</td>\n",
              "      <td>...</td>\n",
              "      <td>59.0</td>\n",
              "      <td>46.0</td>\n",
              "      <td>79.0</td>\n",
              "      <td>59.0</td>\n",
              "      <td>88.0</td>\n",
              "      <td>87.0</td>\n",
              "      <td>84.0</td>\n",
              "      <td>89.0</td>\n",
              "      <td>64.0</td>\n",
              "      <td>84.0</td>\n",
              "    </tr>\n",
              "    <tr>\n",
              "      <th>3</th>\n",
              "      <td>L. Suárez</td>\n",
              "      <td>30</td>\n",
              "      <td>https://cdn.sofifa.org/48/18/players/176580.png</td>\n",
              "      <td>Uruguay</td>\n",
              "      <td>https://cdn.sofifa.org/flags/60.png</td>\n",
              "      <td>92</td>\n",
              "      <td>92</td>\n",
              "      <td>FC Barcelona</td>\n",
              "      <td>https://cdn.sofifa.org/24/18/teams/241.png</td>\n",
              "      <td>€97M</td>\n",
              "      <td>...</td>\n",
              "      <td>64.0</td>\n",
              "      <td>58.0</td>\n",
              "      <td>80.0</td>\n",
              "      <td>65.0</td>\n",
              "      <td>88.0</td>\n",
              "      <td>85.0</td>\n",
              "      <td>88.0</td>\n",
              "      <td>87.0</td>\n",
              "      <td>68.0</td>\n",
              "      <td>88.0</td>\n",
              "    </tr>\n",
              "    <tr>\n",
              "      <th>4</th>\n",
              "      <td>M. Neuer</td>\n",
              "      <td>31</td>\n",
              "      <td>https://cdn.sofifa.org/48/18/players/167495.png</td>\n",
              "      <td>Germany</td>\n",
              "      <td>https://cdn.sofifa.org/flags/21.png</td>\n",
              "      <td>92</td>\n",
              "      <td>92</td>\n",
              "      <td>FC Bayern Munich</td>\n",
              "      <td>https://cdn.sofifa.org/24/18/teams/21.png</td>\n",
              "      <td>€61M</td>\n",
              "      <td>...</td>\n",
              "      <td>NaN</td>\n",
              "      <td>NaN</td>\n",
              "      <td>NaN</td>\n",
              "      <td>NaN</td>\n",
              "      <td>NaN</td>\n",
              "      <td>NaN</td>\n",
              "      <td>NaN</td>\n",
              "      <td>NaN</td>\n",
              "      <td>NaN</td>\n",
              "      <td>NaN</td>\n",
              "    </tr>\n",
              "  </tbody>\n",
              "</table>\n",
              "<p>5 rows × 74 columns</p>\n",
              "</div>"
            ],
            "text/plain": [
              "                Name  Age                                            Photo  \\\n",
              "0  Cristiano Ronaldo   32   https://cdn.sofifa.org/48/18/players/20801.png   \n",
              "1           L. Messi   30  https://cdn.sofifa.org/48/18/players/158023.png   \n",
              "2             Neymar   25  https://cdn.sofifa.org/48/18/players/190871.png   \n",
              "3          L. Suárez   30  https://cdn.sofifa.org/48/18/players/176580.png   \n",
              "4           M. Neuer   31  https://cdn.sofifa.org/48/18/players/167495.png   \n",
              "\n",
              "  Nationality                                 Flag  Overall  Potential  \\\n",
              "0    Portugal  https://cdn.sofifa.org/flags/38.png       94         94   \n",
              "1   Argentina  https://cdn.sofifa.org/flags/52.png       93         93   \n",
              "2      Brazil  https://cdn.sofifa.org/flags/54.png       92         94   \n",
              "3     Uruguay  https://cdn.sofifa.org/flags/60.png       92         92   \n",
              "4     Germany  https://cdn.sofifa.org/flags/21.png       92         92   \n",
              "\n",
              "                  Club                                   Club Logo   Value  \\\n",
              "0       Real Madrid CF  https://cdn.sofifa.org/24/18/teams/243.png  €95.5M   \n",
              "1         FC Barcelona  https://cdn.sofifa.org/24/18/teams/241.png   €105M   \n",
              "2  Paris Saint-Germain   https://cdn.sofifa.org/24/18/teams/73.png   €123M   \n",
              "3         FC Barcelona  https://cdn.sofifa.org/24/18/teams/241.png    €97M   \n",
              "4     FC Bayern Munich   https://cdn.sofifa.org/24/18/teams/21.png    €61M   \n",
              "\n",
              "   ...     RB   RCB   RCM   RDM    RF    RM    RS    RW   RWB    ST  \n",
              "0  ...   61.0  53.0  82.0  62.0  91.0  89.0  92.0  91.0  66.0  92.0  \n",
              "1  ...   57.0  45.0  84.0  59.0  92.0  90.0  88.0  91.0  62.0  88.0  \n",
              "2  ...   59.0  46.0  79.0  59.0  88.0  87.0  84.0  89.0  64.0  84.0  \n",
              "3  ...   64.0  58.0  80.0  65.0  88.0  85.0  88.0  87.0  68.0  88.0  \n",
              "4  ...    NaN   NaN   NaN   NaN   NaN   NaN   NaN   NaN   NaN   NaN  \n",
              "\n",
              "[5 rows x 74 columns]"
            ]
          },
          "metadata": {
            "tags": []
          },
          "execution_count": 68
        }
      ]
    },
    {
      "metadata": {
        "id": "MaWpTf1jT8cZ",
        "colab_type": "code",
        "colab": {}
      },
      "cell_type": "code",
      "source": [
        "# clean unnecessary columns and strip the value and wage column from non numeric signs to make the data analyzable\n",
        "df1_clean=df1.drop([\"Photo\",\"Flag\",\"Club Logo\"],axis=1)\n",
        "df1_clean['Value'] = df1_clean['Value'].str.replace('€', '')\n",
        "df1_clean['Wage']=df1_clean['Wage'].str.replace('€','')\n",
        "\n",
        "#parse string for millions and thousands to numeric values\n",
        "def parseValueColumn(strVal):\n",
        "    if 'M' in strVal:\n",
        "        return int(float(strVal.replace('M', '')) * 1000000)\n",
        "    elif 'K' in strVal:\n",
        "        return int(float(strVal.replace('K', '')) * 1000)\n",
        "    else:\n",
        "        return int(strVal)   \n",
        "#parse string for thousands to numeric values \n",
        "def parseWageColumn(strVal):\n",
        "  if 'K' in strVal:\n",
        "    return int(float(strVal.replace('K', '')) * 1000)\n",
        "  else:\n",
        "    return int(strVal)   \n",
        " \n",
        "df1_clean['Value'] = df1_clean['Value'].apply(lambda x: parseValueColumn(x))\n",
        "df1_clean['Wage']=df1_clean['Wage'].apply(lambda x: parseWageColumn(x))"
      ],
      "execution_count": 0,
      "outputs": []
    },
    {
      "metadata": {
        "id": "rZCXe4BvVNMh",
        "colab_type": "code",
        "outputId": "fdb3c69f-ea8e-4b90-d9aa-6af5c5812b6d",
        "colab": {
          "base_uri": "https://localhost:8080/",
          "height": 1071
        }
      },
      "cell_type": "code",
      "source": [
        "# check for null data\n",
        "df1.isnull().sum()"
      ],
      "execution_count": 0,
      "outputs": [
        {
          "output_type": "execute_result",
          "data": {
            "text/plain": [
              "Name                      0\n",
              "Age                       0\n",
              "Photo                     0\n",
              "Nationality               0\n",
              "Flag                      0\n",
              "Overall                   0\n",
              "Potential                 0\n",
              "Club                    248\n",
              "Club Logo                 0\n",
              "Value                     0\n",
              "Wage                      0\n",
              "Special                   0\n",
              "Acceleration              0\n",
              "Aggression                0\n",
              "Agility                   0\n",
              "Balance                   0\n",
              "Ball control              0\n",
              "Composure                 0\n",
              "Crossing                  0\n",
              "Curve                     0\n",
              "Dribbling                 0\n",
              "Finishing                 0\n",
              "Free kick accuracy        0\n",
              "GK diving                 0\n",
              "GK handling               0\n",
              "GK kicking                0\n",
              "GK positioning            0\n",
              "GK reflexes               0\n",
              "Heading accuracy          0\n",
              "Interceptions             0\n",
              "                       ... \n",
              "Vision                    0\n",
              "Volleys                   0\n",
              "CAM                    2029\n",
              "CB                     2029\n",
              "CDM                    2029\n",
              "CF                     2029\n",
              "CM                     2029\n",
              "ID                        0\n",
              "LAM                    2029\n",
              "LB                     2029\n",
              "LCB                    2029\n",
              "LCM                    2029\n",
              "LDM                    2029\n",
              "LF                     2029\n",
              "LM                     2029\n",
              "LS                     2029\n",
              "LW                     2029\n",
              "LWB                    2029\n",
              "Preferred Positions       0\n",
              "RAM                    2029\n",
              "RB                     2029\n",
              "RCB                    2029\n",
              "RCM                    2029\n",
              "RDM                    2029\n",
              "RF                     2029\n",
              "RM                     2029\n",
              "RS                     2029\n",
              "RW                     2029\n",
              "RWB                    2029\n",
              "ST                     2029\n",
              "Length: 74, dtype: int64"
            ]
          },
          "metadata": {
            "tags": []
          },
          "execution_count": 70
        }
      ]
    },
    {
      "metadata": {
        "id": "EsSmc1CEMXT8",
        "colab_type": "code",
        "outputId": "d36d6130-400a-46f8-8bb6-e2ce7dd236d4",
        "colab": {
          "base_uri": "https://localhost:8080/",
          "height": 389
        }
      },
      "cell_type": "code",
      "source": [
        "df1_clean.head()"
      ],
      "execution_count": 0,
      "outputs": [
        {
          "output_type": "execute_result",
          "data": {
            "text/html": [
              "<div>\n",
              "<style scoped>\n",
              "    .dataframe tbody tr th:only-of-type {\n",
              "        vertical-align: middle;\n",
              "    }\n",
              "\n",
              "    .dataframe tbody tr th {\n",
              "        vertical-align: top;\n",
              "    }\n",
              "\n",
              "    .dataframe thead th {\n",
              "        text-align: right;\n",
              "    }\n",
              "</style>\n",
              "<table border=\"1\" class=\"dataframe\">\n",
              "  <thead>\n",
              "    <tr style=\"text-align: right;\">\n",
              "      <th></th>\n",
              "      <th>Name</th>\n",
              "      <th>Age</th>\n",
              "      <th>Nationality</th>\n",
              "      <th>Overall</th>\n",
              "      <th>Potential</th>\n",
              "      <th>Club</th>\n",
              "      <th>Value</th>\n",
              "      <th>Wage</th>\n",
              "      <th>Special</th>\n",
              "      <th>Acceleration</th>\n",
              "      <th>...</th>\n",
              "      <th>RB</th>\n",
              "      <th>RCB</th>\n",
              "      <th>RCM</th>\n",
              "      <th>RDM</th>\n",
              "      <th>RF</th>\n",
              "      <th>RM</th>\n",
              "      <th>RS</th>\n",
              "      <th>RW</th>\n",
              "      <th>RWB</th>\n",
              "      <th>ST</th>\n",
              "    </tr>\n",
              "  </thead>\n",
              "  <tbody>\n",
              "    <tr>\n",
              "      <th>0</th>\n",
              "      <td>Cristiano Ronaldo</td>\n",
              "      <td>32</td>\n",
              "      <td>Portugal</td>\n",
              "      <td>94</td>\n",
              "      <td>94</td>\n",
              "      <td>Real Madrid CF</td>\n",
              "      <td>95500000</td>\n",
              "      <td>565000</td>\n",
              "      <td>2228</td>\n",
              "      <td>89</td>\n",
              "      <td>...</td>\n",
              "      <td>61.0</td>\n",
              "      <td>53.0</td>\n",
              "      <td>82.0</td>\n",
              "      <td>62.0</td>\n",
              "      <td>91.0</td>\n",
              "      <td>89.0</td>\n",
              "      <td>92.0</td>\n",
              "      <td>91.0</td>\n",
              "      <td>66.0</td>\n",
              "      <td>92.0</td>\n",
              "    </tr>\n",
              "    <tr>\n",
              "      <th>1</th>\n",
              "      <td>L. Messi</td>\n",
              "      <td>30</td>\n",
              "      <td>Argentina</td>\n",
              "      <td>93</td>\n",
              "      <td>93</td>\n",
              "      <td>FC Barcelona</td>\n",
              "      <td>105000000</td>\n",
              "      <td>565000</td>\n",
              "      <td>2154</td>\n",
              "      <td>92</td>\n",
              "      <td>...</td>\n",
              "      <td>57.0</td>\n",
              "      <td>45.0</td>\n",
              "      <td>84.0</td>\n",
              "      <td>59.0</td>\n",
              "      <td>92.0</td>\n",
              "      <td>90.0</td>\n",
              "      <td>88.0</td>\n",
              "      <td>91.0</td>\n",
              "      <td>62.0</td>\n",
              "      <td>88.0</td>\n",
              "    </tr>\n",
              "    <tr>\n",
              "      <th>2</th>\n",
              "      <td>Neymar</td>\n",
              "      <td>25</td>\n",
              "      <td>Brazil</td>\n",
              "      <td>92</td>\n",
              "      <td>94</td>\n",
              "      <td>Paris Saint-Germain</td>\n",
              "      <td>123000000</td>\n",
              "      <td>280000</td>\n",
              "      <td>2100</td>\n",
              "      <td>94</td>\n",
              "      <td>...</td>\n",
              "      <td>59.0</td>\n",
              "      <td>46.0</td>\n",
              "      <td>79.0</td>\n",
              "      <td>59.0</td>\n",
              "      <td>88.0</td>\n",
              "      <td>87.0</td>\n",
              "      <td>84.0</td>\n",
              "      <td>89.0</td>\n",
              "      <td>64.0</td>\n",
              "      <td>84.0</td>\n",
              "    </tr>\n",
              "    <tr>\n",
              "      <th>3</th>\n",
              "      <td>L. Suárez</td>\n",
              "      <td>30</td>\n",
              "      <td>Uruguay</td>\n",
              "      <td>92</td>\n",
              "      <td>92</td>\n",
              "      <td>FC Barcelona</td>\n",
              "      <td>97000000</td>\n",
              "      <td>510000</td>\n",
              "      <td>2291</td>\n",
              "      <td>88</td>\n",
              "      <td>...</td>\n",
              "      <td>64.0</td>\n",
              "      <td>58.0</td>\n",
              "      <td>80.0</td>\n",
              "      <td>65.0</td>\n",
              "      <td>88.0</td>\n",
              "      <td>85.0</td>\n",
              "      <td>88.0</td>\n",
              "      <td>87.0</td>\n",
              "      <td>68.0</td>\n",
              "      <td>88.0</td>\n",
              "    </tr>\n",
              "    <tr>\n",
              "      <th>4</th>\n",
              "      <td>M. Neuer</td>\n",
              "      <td>31</td>\n",
              "      <td>Germany</td>\n",
              "      <td>92</td>\n",
              "      <td>92</td>\n",
              "      <td>FC Bayern Munich</td>\n",
              "      <td>61000000</td>\n",
              "      <td>230000</td>\n",
              "      <td>1493</td>\n",
              "      <td>58</td>\n",
              "      <td>...</td>\n",
              "      <td>NaN</td>\n",
              "      <td>NaN</td>\n",
              "      <td>NaN</td>\n",
              "      <td>NaN</td>\n",
              "      <td>NaN</td>\n",
              "      <td>NaN</td>\n",
              "      <td>NaN</td>\n",
              "      <td>NaN</td>\n",
              "      <td>NaN</td>\n",
              "      <td>NaN</td>\n",
              "    </tr>\n",
              "  </tbody>\n",
              "</table>\n",
              "<p>5 rows × 71 columns</p>\n",
              "</div>"
            ],
            "text/plain": [
              "                Name  Age Nationality  Overall  Potential  \\\n",
              "0  Cristiano Ronaldo   32    Portugal       94         94   \n",
              "1           L. Messi   30   Argentina       93         93   \n",
              "2             Neymar   25      Brazil       92         94   \n",
              "3          L. Suárez   30     Uruguay       92         92   \n",
              "4           M. Neuer   31     Germany       92         92   \n",
              "\n",
              "                  Club      Value    Wage  Special Acceleration  ...     RB  \\\n",
              "0       Real Madrid CF   95500000  565000     2228           89  ...   61.0   \n",
              "1         FC Barcelona  105000000  565000     2154           92  ...   57.0   \n",
              "2  Paris Saint-Germain  123000000  280000     2100           94  ...   59.0   \n",
              "3         FC Barcelona   97000000  510000     2291           88  ...   64.0   \n",
              "4     FC Bayern Munich   61000000  230000     1493           58  ...    NaN   \n",
              "\n",
              "    RCB   RCM   RDM    RF    RM    RS    RW   RWB    ST  \n",
              "0  53.0  82.0  62.0  91.0  89.0  92.0  91.0  66.0  92.0  \n",
              "1  45.0  84.0  59.0  92.0  90.0  88.0  91.0  62.0  88.0  \n",
              "2  46.0  79.0  59.0  88.0  87.0  84.0  89.0  64.0  84.0  \n",
              "3  58.0  80.0  65.0  88.0  85.0  88.0  87.0  68.0  88.0  \n",
              "4   NaN   NaN   NaN   NaN   NaN   NaN   NaN   NaN   NaN  \n",
              "\n",
              "[5 rows x 71 columns]"
            ]
          },
          "metadata": {
            "tags": []
          },
          "execution_count": 71
        }
      ]
    },
    {
      "metadata": {
        "id": "2HD4yTLHlvqW",
        "colab_type": "code",
        "outputId": "b6510046-8362-4fac-a655-2fcf39ac6c12",
        "colab": {
          "base_uri": "https://localhost:8080/",
          "height": 238
        }
      },
      "cell_type": "code",
      "source": [
        "df1_clean.columns"
      ],
      "execution_count": 0,
      "outputs": [
        {
          "output_type": "execute_result",
          "data": {
            "text/plain": [
              "Index(['Name', 'Age', 'Nationality', 'Overall', 'Potential', 'Club', 'Value',\n",
              "       'Wage', 'Special', 'Acceleration', 'Aggression', 'Agility', 'Balance',\n",
              "       'Ball control', 'Composure', 'Crossing', 'Curve', 'Dribbling',\n",
              "       'Finishing', 'Free kick accuracy', 'GK diving', 'GK handling',\n",
              "       'GK kicking', 'GK positioning', 'GK reflexes', 'Heading accuracy',\n",
              "       'Interceptions', 'Jumping', 'Long passing', 'Long shots', 'Marking',\n",
              "       'Penalties', 'Positioning', 'Reactions', 'Short passing', 'Shot power',\n",
              "       'Sliding tackle', 'Sprint speed', 'Stamina', 'Standing tackle',\n",
              "       'Strength', 'Vision', 'Volleys', 'CAM', 'CB', 'CDM', 'CF', 'CM', 'ID',\n",
              "       'LAM', 'LB', 'LCB', 'LCM', 'LDM', 'LF', 'LM', 'LS', 'LW', 'LWB',\n",
              "       'Preferred Positions', 'RAM', 'RB', 'RCB', 'RCM', 'RDM', 'RF', 'RM',\n",
              "       'RS', 'RW', 'RWB', 'ST'],\n",
              "      dtype='object')"
            ]
          },
          "metadata": {
            "tags": []
          },
          "execution_count": 72
        }
      ]
    },
    {
      "metadata": {
        "id": "31PfRoVGOiju",
        "colab_type": "code",
        "outputId": "41a0bee1-c60a-4d05-8421-f3a8de524bd6",
        "colab": {
          "base_uri": "https://localhost:8080/",
          "height": 1088
        }
      },
      "cell_type": "code",
      "source": [
        "# limit the players for only the players in the world cup\n",
        "df1_clean=df1_clean[df1_clean['Nationality'].isin(countrylist)]\n",
        "display(df1_clean.shape)\n",
        "df1_clean.columns\n",
        "df1_clean.dtypes"
      ],
      "execution_count": 0,
      "outputs": [
        {
          "output_type": "display_data",
          "data": {
            "text/plain": [
              "(11686, 71)"
            ]
          },
          "metadata": {
            "tags": []
          }
        },
        {
          "output_type": "execute_result",
          "data": {
            "text/plain": [
              "Name                    object\n",
              "Age                      int64\n",
              "Nationality             object\n",
              "Overall                  int64\n",
              "Potential                int64\n",
              "Club                    object\n",
              "Value                    int64\n",
              "Wage                     int64\n",
              "Special                  int64\n",
              "Acceleration            object\n",
              "Aggression              object\n",
              "Agility                 object\n",
              "Balance                 object\n",
              "Ball control            object\n",
              "Composure               object\n",
              "Crossing                object\n",
              "Curve                   object\n",
              "Dribbling               object\n",
              "Finishing               object\n",
              "Free kick accuracy      object\n",
              "GK diving               object\n",
              "GK handling             object\n",
              "GK kicking              object\n",
              "GK positioning          object\n",
              "GK reflexes             object\n",
              "Heading accuracy        object\n",
              "Interceptions           object\n",
              "Jumping                 object\n",
              "Long passing            object\n",
              "Long shots              object\n",
              "                        ...   \n",
              "Vision                  object\n",
              "Volleys                 object\n",
              "CAM                    float64\n",
              "CB                     float64\n",
              "CDM                    float64\n",
              "CF                     float64\n",
              "CM                     float64\n",
              "ID                       int64\n",
              "LAM                    float64\n",
              "LB                     float64\n",
              "LCB                    float64\n",
              "LCM                    float64\n",
              "LDM                    float64\n",
              "LF                     float64\n",
              "LM                     float64\n",
              "LS                     float64\n",
              "LW                     float64\n",
              "LWB                    float64\n",
              "Preferred Positions     object\n",
              "RAM                    float64\n",
              "RB                     float64\n",
              "RCB                    float64\n",
              "RCM                    float64\n",
              "RDM                    float64\n",
              "RF                     float64\n",
              "RM                     float64\n",
              "RS                     float64\n",
              "RW                     float64\n",
              "RWB                    float64\n",
              "ST                     float64\n",
              "Length: 71, dtype: object"
            ]
          },
          "metadata": {
            "tags": []
          },
          "execution_count": 73
        }
      ]
    },
    {
      "metadata": {
        "id": "uWRRM2X6JpUw",
        "colab_type": "code",
        "outputId": "a8927b11-e436-4058-df69-73604c37f109",
        "colab": {
          "base_uri": "https://localhost:8080/",
          "height": 393
        }
      },
      "cell_type": "code",
      "source": [
        "# show players value distribution\n",
        "plt.hist(df1_clean['Value'], bins=10, alpha=0.4, color='b')\n",
        "plt.title(\"Players Value distribution\")\n",
        "plt.xlabel(\"players value\")\n",
        "plt.ylabel(\"Count\")"
      ],
      "execution_count": 0,
      "outputs": [
        {
          "output_type": "execute_result",
          "data": {
            "text/plain": [
              "Text(0,0.5,'Count')"
            ]
          },
          "metadata": {
            "tags": []
          },
          "execution_count": 74
        },
        {
          "output_type": "display_data",
          "data": {
            "image/png": "[encoded data removed]",
            "text/plain": [
              "<matplotlib.figure.Figure at 0x7f5f49efd390>"
            ]
          },
          "metadata": {
            "tags": []
          }
        }
      ]
    },
    {
      "metadata": {
        "id": "yccKtPjxUiGb",
        "colab_type": "text"
      },
      "cell_type": "markdown",
      "source": [
        "#Analysis of our own model's full features dataframe"
      ]
    },
    {
      "metadata": {
        "id": "RbJCmTppTTXq",
        "colab_type": "code",
        "colab": {}
      },
      "cell_type": "code",
      "source": [
        "# change object type data to integer for pivot table and fill 0 in string values\n",
        "df1_clean.iloc[:,9:43]=df1_clean.iloc[:,9:43].apply(pd.to_numeric, errors='coerce').fillna(0).astype(int)"
      ],
      "execution_count": 0,
      "outputs": []
    },
    {
      "metadata": {
        "id": "lMpH3ZY0gjCP",
        "colab_type": "code",
        "outputId": "80ded720-bd3b-4515-8eb0-ee018aed65b6",
        "colab": {
          "base_uri": "https://localhost:8080/",
          "height": 301
        }
      },
      "cell_type": "code",
      "source": [
        "players_pivot = pd.pivot_table(df1_clean,index='Nationality', aggfunc='mean')\n",
        "players_pivot['country'] = players_pivot.index\n",
        "players_pivot.head()"
      ],
      "execution_count": 0,
      "outputs": [
        {
          "output_type": "execute_result",
          "data": {
            "text/html": [
              "<div>\n",
              "<style scoped>\n",
              "    .dataframe tbody tr th:only-of-type {\n",
              "        vertical-align: middle;\n",
              "    }\n",
              "\n",
              "    .dataframe tbody tr th {\n",
              "        vertical-align: top;\n",
              "    }\n",
              "\n",
              "    .dataframe thead th {\n",
              "        text-align: right;\n",
              "    }\n",
              "</style>\n",
              "<table border=\"1\" class=\"dataframe\">\n",
              "  <thead>\n",
              "    <tr style=\"text-align: right;\">\n",
              "      <th></th>\n",
              "      <th>Acceleration</th>\n",
              "      <th>Age</th>\n",
              "      <th>Aggression</th>\n",
              "      <th>Agility</th>\n",
              "      <th>Balance</th>\n",
              "      <th>Ball control</th>\n",
              "      <th>CAM</th>\n",
              "      <th>CB</th>\n",
              "      <th>CDM</th>\n",
              "      <th>CF</th>\n",
              "      <th>...</th>\n",
              "      <th>Special</th>\n",
              "      <th>Sprint speed</th>\n",
              "      <th>Stamina</th>\n",
              "      <th>Standing tackle</th>\n",
              "      <th>Strength</th>\n",
              "      <th>Value</th>\n",
              "      <th>Vision</th>\n",
              "      <th>Volleys</th>\n",
              "      <th>Wage</th>\n",
              "      <th>country</th>\n",
              "    </tr>\n",
              "    <tr>\n",
              "      <th>Nationality</th>\n",
              "      <th></th>\n",
              "      <th></th>\n",
              "      <th></th>\n",
              "      <th></th>\n",
              "      <th></th>\n",
              "      <th></th>\n",
              "      <th></th>\n",
              "      <th></th>\n",
              "      <th></th>\n",
              "      <th></th>\n",
              "      <th></th>\n",
              "      <th></th>\n",
              "      <th></th>\n",
              "      <th></th>\n",
              "      <th></th>\n",
              "      <th></th>\n",
              "      <th></th>\n",
              "      <th></th>\n",
              "      <th></th>\n",
              "      <th></th>\n",
              "      <th></th>\n",
              "    </tr>\n",
              "  </thead>\n",
              "  <tbody>\n",
              "    <tr>\n",
              "      <th>Argentina</th>\n",
              "      <td>64.584456</td>\n",
              "      <td>25.932642</td>\n",
              "      <td>55.247668</td>\n",
              "      <td>63.623834</td>\n",
              "      <td>64.943005</td>\n",
              "      <td>58.800000</td>\n",
              "      <td>60.710465</td>\n",
              "      <td>55.486047</td>\n",
              "      <td>57.126744</td>\n",
              "      <td>60.563953</td>\n",
              "      <td>...</td>\n",
              "      <td>1620.636269</td>\n",
              "      <td>64.580311</td>\n",
              "      <td>63.014508</td>\n",
              "      <td>46.212435</td>\n",
              "      <td>64.113990</td>\n",
              "      <td>2.908699e+06</td>\n",
              "      <td>53.920207</td>\n",
              "      <td>44.503627</td>\n",
              "      <td>12752.331606</td>\n",
              "      <td>Argentina</td>\n",
              "    </tr>\n",
              "    <tr>\n",
              "      <th>Australia</th>\n",
              "      <td>64.303965</td>\n",
              "      <td>24.312775</td>\n",
              "      <td>53.154185</td>\n",
              "      <td>61.814978</td>\n",
              "      <td>62.607930</td>\n",
              "      <td>52.779736</td>\n",
              "      <td>55.578680</td>\n",
              "      <td>54.482234</td>\n",
              "      <td>54.989848</td>\n",
              "      <td>55.223350</td>\n",
              "      <td>...</td>\n",
              "      <td>1515.881057</td>\n",
              "      <td>65.105727</td>\n",
              "      <td>61.832599</td>\n",
              "      <td>47.422907</td>\n",
              "      <td>64.894273</td>\n",
              "      <td>7.339868e+05</td>\n",
              "      <td>50.101322</td>\n",
              "      <td>37.660793</td>\n",
              "      <td>4114.537445</td>\n",
              "      <td>Australia</td>\n",
              "    </tr>\n",
              "    <tr>\n",
              "      <th>Belgium</th>\n",
              "      <td>63.319853</td>\n",
              "      <td>23.893382</td>\n",
              "      <td>54.444853</td>\n",
              "      <td>63.908088</td>\n",
              "      <td>63.404412</td>\n",
              "      <td>59.705882</td>\n",
              "      <td>61.982684</td>\n",
              "      <td>56.043290</td>\n",
              "      <td>58.480519</td>\n",
              "      <td>61.411255</td>\n",
              "      <td>...</td>\n",
              "      <td>1619.849265</td>\n",
              "      <td>63.856618</td>\n",
              "      <td>61.088235</td>\n",
              "      <td>45.474265</td>\n",
              "      <td>63.783088</td>\n",
              "      <td>4.450092e+06</td>\n",
              "      <td>54.628676</td>\n",
              "      <td>44.919118</td>\n",
              "      <td>19194.852941</td>\n",
              "      <td>Belgium</td>\n",
              "    </tr>\n",
              "    <tr>\n",
              "      <th>Brazil</th>\n",
              "      <td>66.439655</td>\n",
              "      <td>27.208128</td>\n",
              "      <td>59.816502</td>\n",
              "      <td>65.306650</td>\n",
              "      <td>64.038177</td>\n",
              "      <td>63.248768</td>\n",
              "      <td>63.122340</td>\n",
              "      <td>58.454787</td>\n",
              "      <td>60.143617</td>\n",
              "      <td>63.029255</td>\n",
              "      <td>...</td>\n",
              "      <td>1710.948276</td>\n",
              "      <td>66.811576</td>\n",
              "      <td>65.019704</td>\n",
              "      <td>50.869458</td>\n",
              "      <td>67.185961</td>\n",
              "      <td>4.008898e+06</td>\n",
              "      <td>57.556650</td>\n",
              "      <td>49.998768</td>\n",
              "      <td>18736.453202</td>\n",
              "      <td>Brazil</td>\n",
              "    </tr>\n",
              "    <tr>\n",
              "      <th>Colombia</th>\n",
              "      <td>66.429054</td>\n",
              "      <td>25.388514</td>\n",
              "      <td>53.596284</td>\n",
              "      <td>64.327703</td>\n",
              "      <td>64.927365</td>\n",
              "      <td>57.097973</td>\n",
              "      <td>58.020408</td>\n",
              "      <td>54.352505</td>\n",
              "      <td>55.458256</td>\n",
              "      <td>57.873840</td>\n",
              "      <td>...</td>\n",
              "      <td>1571.844595</td>\n",
              "      <td>66.322635</td>\n",
              "      <td>65.275338</td>\n",
              "      <td>46.072635</td>\n",
              "      <td>65.403716</td>\n",
              "      <td>1.708860e+06</td>\n",
              "      <td>51.471284</td>\n",
              "      <td>40.246622</td>\n",
              "      <td>5859.797297</td>\n",
              "      <td>Colombia</td>\n",
              "    </tr>\n",
              "  </tbody>\n",
              "</table>\n",
              "<p>5 rows × 68 columns</p>\n",
              "</div>"
            ],
            "text/plain": [
              "             Acceleration        Age  Aggression    Agility    Balance  \\\n",
              "Nationality                                                              \n",
              "Argentina       64.584456  25.932642   55.247668  63.623834  64.943005   \n",
              "Australia       64.303965  24.312775   53.154185  61.814978  62.607930   \n",
              "Belgium         63.319853  23.893382   54.444853  63.908088  63.404412   \n",
              "Brazil          66.439655  27.208128   59.816502  65.306650  64.038177   \n",
              "Colombia        66.429054  25.388514   53.596284  64.327703  64.927365   \n",
              "\n",
              "             Ball control        CAM         CB        CDM         CF  \\\n",
              "Nationality                                                             \n",
              "Argentina       58.800000  60.710465  55.486047  57.126744  60.563953   \n",
              "Australia       52.779736  55.578680  54.482234  54.989848  55.223350   \n",
              "Belgium         59.705882  61.982684  56.043290  58.480519  61.411255   \n",
              "Brazil          63.248768  63.122340  58.454787  60.143617  63.029255   \n",
              "Colombia        57.097973  58.020408  54.352505  55.458256  57.873840   \n",
              "\n",
              "               ...          Special  Sprint speed    Stamina  Standing tackle  \\\n",
              "Nationality    ...                                                              \n",
              "Argentina      ...      1620.636269     64.580311  63.014508        46.212435   \n",
              "Australia      ...      1515.881057     65.105727  61.832599        47.422907   \n",
              "Belgium        ...      1619.849265     63.856618  61.088235        45.474265   \n",
              "Brazil         ...      1710.948276     66.811576  65.019704        50.869458   \n",
              "Colombia       ...      1571.844595     66.322635  65.275338        46.072635   \n",
              "\n",
              "              Strength         Value     Vision    Volleys          Wage  \\\n",
              "Nationality                                                                \n",
              "Argentina    64.113990  2.908699e+06  53.920207  44.503627  12752.331606   \n",
              "Australia    64.894273  7.339868e+05  50.101322  37.660793   4114.537445   \n",
              "Belgium      63.783088  4.450092e+06  54.628676  44.919118  19194.852941   \n",
              "Brazil       67.185961  4.008898e+06  57.556650  49.998768  18736.453202   \n",
              "Colombia     65.403716  1.708860e+06  51.471284  40.246622   5859.797297   \n",
              "\n",
              "               country  \n",
              "Nationality             \n",
              "Argentina    Argentina  \n",
              "Australia    Australia  \n",
              "Belgium        Belgium  \n",
              "Brazil          Brazil  \n",
              "Colombia      Colombia  \n",
              "\n",
              "[5 rows x 68 columns]"
            ]
          },
          "metadata": {
            "tags": []
          },
          "execution_count": 76
        }
      ]
    },
    {
      "metadata": {
        "id": "XKyzxtCvrcIy",
        "colab_type": "code",
        "outputId": "4da08a05-7c05-4aaf-d584-41718fad904d",
        "colab": {
          "base_uri": "https://localhost:8080/",
          "height": 352
        }
      },
      "cell_type": "code",
      "source": [
        "# this dataframe englobes all the predictors that make our own model\n",
        "result2 = pd.merge(df_wins, players_pivot, on='country')\n",
        "result2 = pd.merge(result2,df_ranking, on='country')\n",
        "result2= pd.merge(result2, players_features,on='country')\n",
        "result2 = result2.set_index('country')\n",
        "# drop non relevant columns\n",
        "result2=result2.drop(['ranking','ID','age','caps','goals'], axis=1)\n",
        "result2.loc['South Korea'] = result2.mean()\n",
        "result2.head()"
      ],
      "execution_count": 0,
      "outputs": [
        {
          "output_type": "execute_result",
          "data": {
            "text/html": [
              "<div>\n",
              "<style scoped>\n",
              "    .dataframe tbody tr th:only-of-type {\n",
              "        vertical-align: middle;\n",
              "    }\n",
              "\n",
              "    .dataframe tbody tr th {\n",
              "        vertical-align: top;\n",
              "    }\n",
              "\n",
              "    .dataframe thead th {\n",
              "        text-align: right;\n",
              "    }\n",
              "</style>\n",
              "<table border=\"1\" class=\"dataframe\">\n",
              "  <thead>\n",
              "    <tr style=\"text-align: right;\">\n",
              "      <th></th>\n",
              "      <th># won</th>\n",
              "      <th>Acceleration</th>\n",
              "      <th>Age</th>\n",
              "      <th>Aggression</th>\n",
              "      <th>Agility</th>\n",
              "      <th>Balance</th>\n",
              "      <th>Ball control</th>\n",
              "      <th>CAM</th>\n",
              "      <th>CB</th>\n",
              "      <th>CDM</th>\n",
              "      <th>...</th>\n",
              "      <th>Sprint speed</th>\n",
              "      <th>Stamina</th>\n",
              "      <th>Standing tackle</th>\n",
              "      <th>Strength</th>\n",
              "      <th>Value</th>\n",
              "      <th>Vision</th>\n",
              "      <th>Volleys</th>\n",
              "      <th>Wage</th>\n",
              "      <th>CL League 2017-2018</th>\n",
              "      <th>Top League</th>\n",
              "    </tr>\n",
              "    <tr>\n",
              "      <th>country</th>\n",
              "      <th></th>\n",
              "      <th></th>\n",
              "      <th></th>\n",
              "      <th></th>\n",
              "      <th></th>\n",
              "      <th></th>\n",
              "      <th></th>\n",
              "      <th></th>\n",
              "      <th></th>\n",
              "      <th></th>\n",
              "      <th></th>\n",
              "      <th></th>\n",
              "      <th></th>\n",
              "      <th></th>\n",
              "      <th></th>\n",
              "      <th></th>\n",
              "      <th></th>\n",
              "      <th></th>\n",
              "      <th></th>\n",
              "      <th></th>\n",
              "      <th></th>\n",
              "    </tr>\n",
              "  </thead>\n",
              "  <tbody>\n",
              "    <tr>\n",
              "      <th>Egypt</th>\n",
              "      <td>6.0</td>\n",
              "      <td>66.562500</td>\n",
              "      <td>27.250000</td>\n",
              "      <td>59.187500</td>\n",
              "      <td>64.906250</td>\n",
              "      <td>66.468750</td>\n",
              "      <td>61.718750</td>\n",
              "      <td>62.620690</td>\n",
              "      <td>58.551724</td>\n",
              "      <td>60.241379</td>\n",
              "      <td>...</td>\n",
              "      <td>64.843750</td>\n",
              "      <td>65.125000</td>\n",
              "      <td>51.750000</td>\n",
              "      <td>69.437500</td>\n",
              "      <td>2.958437e+06</td>\n",
              "      <td>56.875000</td>\n",
              "      <td>47.937500</td>\n",
              "      <td>16062.500000</td>\n",
              "      <td>1.0</td>\n",
              "      <td>7.0</td>\n",
              "    </tr>\n",
              "    <tr>\n",
              "      <th>Russia</th>\n",
              "      <td>5.0</td>\n",
              "      <td>62.169935</td>\n",
              "      <td>25.232026</td>\n",
              "      <td>52.862745</td>\n",
              "      <td>60.238562</td>\n",
              "      <td>61.692810</td>\n",
              "      <td>54.127451</td>\n",
              "      <td>59.816000</td>\n",
              "      <td>57.020000</td>\n",
              "      <td>58.032000</td>\n",
              "      <td>...</td>\n",
              "      <td>61.130719</td>\n",
              "      <td>58.555556</td>\n",
              "      <td>46.627451</td>\n",
              "      <td>62.944444</td>\n",
              "      <td>2.006209e+06</td>\n",
              "      <td>51.111111</td>\n",
              "      <td>41.415033</td>\n",
              "      <td>16637.254902</td>\n",
              "      <td>8.0</td>\n",
              "      <td>1.0</td>\n",
              "    </tr>\n",
              "    <tr>\n",
              "      <th>Saudi Arabia</th>\n",
              "      <td>2.0</td>\n",
              "      <td>63.793313</td>\n",
              "      <td>25.252280</td>\n",
              "      <td>51.954407</td>\n",
              "      <td>62.747720</td>\n",
              "      <td>65.243161</td>\n",
              "      <td>50.693009</td>\n",
              "      <td>54.134752</td>\n",
              "      <td>52.198582</td>\n",
              "      <td>52.755319</td>\n",
              "      <td>...</td>\n",
              "      <td>63.942249</td>\n",
              "      <td>61.060790</td>\n",
              "      <td>43.650456</td>\n",
              "      <td>62.358663</td>\n",
              "      <td>5.641641e+05</td>\n",
              "      <td>47.890578</td>\n",
              "      <td>36.796353</td>\n",
              "      <td>6990.881459</td>\n",
              "      <td>0.0</td>\n",
              "      <td>3.0</td>\n",
              "    </tr>\n",
              "    <tr>\n",
              "      <th>Uruguay</th>\n",
              "      <td>7.0</td>\n",
              "      <td>65.196078</td>\n",
              "      <td>26.124183</td>\n",
              "      <td>57.660131</td>\n",
              "      <td>62.333333</td>\n",
              "      <td>64.287582</td>\n",
              "      <td>60.836601</td>\n",
              "      <td>61.507246</td>\n",
              "      <td>56.028986</td>\n",
              "      <td>57.550725</td>\n",
              "      <td>...</td>\n",
              "      <td>65.633987</td>\n",
              "      <td>63.464052</td>\n",
              "      <td>47.437908</td>\n",
              "      <td>65.980392</td>\n",
              "      <td>4.146046e+06</td>\n",
              "      <td>52.588235</td>\n",
              "      <td>46.594771</td>\n",
              "      <td>17333.333333</td>\n",
              "      <td>7.0</td>\n",
              "      <td>11.0</td>\n",
              "    </tr>\n",
              "    <tr>\n",
              "      <th>Iran</th>\n",
              "      <td>4.0</td>\n",
              "      <td>66.764706</td>\n",
              "      <td>24.882353</td>\n",
              "      <td>57.058824</td>\n",
              "      <td>65.470588</td>\n",
              "      <td>62.941176</td>\n",
              "      <td>57.117647</td>\n",
              "      <td>64.142857</td>\n",
              "      <td>53.142857</td>\n",
              "      <td>55.571429</td>\n",
              "      <td>...</td>\n",
              "      <td>67.352941</td>\n",
              "      <td>59.000000</td>\n",
              "      <td>39.411765</td>\n",
              "      <td>64.647059</td>\n",
              "      <td>2.822353e+06</td>\n",
              "      <td>58.176471</td>\n",
              "      <td>50.764706</td>\n",
              "      <td>9117.647059</td>\n",
              "      <td>2.0</td>\n",
              "      <td>1.0</td>\n",
              "    </tr>\n",
              "  </tbody>\n",
              "</table>\n",
              "<p>5 rows × 69 columns</p>\n",
              "</div>"
            ],
            "text/plain": [
              "              # won  Acceleration        Age  Aggression    Agility  \\\n",
              "country                                                               \n",
              "Egypt           6.0     66.562500  27.250000   59.187500  64.906250   \n",
              "Russia          5.0     62.169935  25.232026   52.862745  60.238562   \n",
              "Saudi Arabia    2.0     63.793313  25.252280   51.954407  62.747720   \n",
              "Uruguay         7.0     65.196078  26.124183   57.660131  62.333333   \n",
              "Iran            4.0     66.764706  24.882353   57.058824  65.470588   \n",
              "\n",
              "                Balance  Ball control        CAM         CB        CDM  \\\n",
              "country                                                                  \n",
              "Egypt         66.468750     61.718750  62.620690  58.551724  60.241379   \n",
              "Russia        61.692810     54.127451  59.816000  57.020000  58.032000   \n",
              "Saudi Arabia  65.243161     50.693009  54.134752  52.198582  52.755319   \n",
              "Uruguay       64.287582     60.836601  61.507246  56.028986  57.550725   \n",
              "Iran          62.941176     57.117647  64.142857  53.142857  55.571429   \n",
              "\n",
              "                 ...      Sprint speed    Stamina  Standing tackle   Strength  \\\n",
              "country          ...                                                            \n",
              "Egypt            ...         64.843750  65.125000        51.750000  69.437500   \n",
              "Russia           ...         61.130719  58.555556        46.627451  62.944444   \n",
              "Saudi Arabia     ...         63.942249  61.060790        43.650456  62.358663   \n",
              "Uruguay          ...         65.633987  63.464052        47.437908  65.980392   \n",
              "Iran             ...         67.352941  59.000000        39.411765  64.647059   \n",
              "\n",
              "                     Value     Vision    Volleys          Wage  \\\n",
              "country                                                          \n",
              "Egypt         2.958437e+06  56.875000  47.937500  16062.500000   \n",
              "Russia        2.006209e+06  51.111111  41.415033  16637.254902   \n",
              "Saudi Arabia  5.641641e+05  47.890578  36.796353   6990.881459   \n",
              "Uruguay       4.146046e+06  52.588235  46.594771  17333.333333   \n",
              "Iran          2.822353e+06  58.176471  50.764706   9117.647059   \n",
              "\n",
              "              CL League 2017-2018  Top League  \n",
              "country                                        \n",
              "Egypt                         1.0         7.0  \n",
              "Russia                        8.0         1.0  \n",
              "Saudi Arabia                  0.0         3.0  \n",
              "Uruguay                       7.0        11.0  \n",
              "Iran                          2.0         1.0  \n",
              "\n",
              "[5 rows x 69 columns]"
            ]
          },
          "metadata": {
            "tags": []
          },
          "execution_count": 77
        }
      ]
    },
    {
      "metadata": {
        "id": "88T8dR-5F5i_",
        "colab_type": "text"
      },
      "cell_type": "markdown",
      "source": [
        "#EDA of our own model data"
      ]
    },
    {
      "metadata": {
        "id": "cuTHwFGWEaa7",
        "colab_type": "code",
        "outputId": "47b34d69-8c67-40ee-fd81-782d5a64eb74",
        "colab": {
          "base_uri": "https://localhost:8080/",
          "height": 181
        }
      },
      "cell_type": "code",
      "source": [
        "result2_std.boxplot(column=['Age','# won','Wage','Overall'],figsize=(10,8),\n",
        "                       grid=True)"
      ],
      "execution_count": 40,
      "outputs": [
        {
          "output_type": "error",
          "ename": "NameError",
          "evalue": "ignored",
          "traceback": [
            "\u001b[0;31m---------------------------------------------------------------------------\u001b[0m",
            "\u001b[0;31mNameError\u001b[0m                                 Traceback (most recent call last)",
            "\u001b[0;32m<ipython-input-40-8eb98761457b>\u001b[0m in \u001b[0;36m<module>\u001b[0;34m()\u001b[0m\n\u001b[0;32m----> 1\u001b[0;31m result2_std.boxplot(column=['Age','# won','Wage','Overall'],figsize=(10,8),\n\u001b[0m\u001b[1;32m      2\u001b[0m                        grid=True)\n",
            "\u001b[0;31mNameError\u001b[0m: name 'result2_std' is not defined"
          ]
        }
      ]
    },
    {
      "metadata": {
        "id": "Qw9JrqXpKE3_",
        "colab_type": "code",
        "outputId": "b4325db9-cd3e-46ac-a1a8-fb86a2674548",
        "colab": {
          "base_uri": "https://localhost:8080/",
          "height": 734
        }
      },
      "cell_type": "code",
      "source": [
        "# show players Overall distribution\n",
        "plt.hist(df1.Potential, bins=10, alpha=0.4,normed=True, color='b')\n",
        "plt.title(\"#Players Potential distribution\")\n",
        "plt.xlabel(\"Potential\")\n",
        "plt.ylabel(\"Count\")\n",
        "overall_mean = df1_clean.Overall.mean()\n",
        "overall_std = df1_clean.Overall.std()\n",
        "xmin, xmax = plt.xlim()\n",
        "x = np.linspace(xmin, xmax, 100)\n",
        "p = norm.pdf(x, overall_mean, overall_std)\n",
        "plt.plot(x, p, 'k', linewidth=2, color='r')\n",
        "title = \"Player's Potential,  mean = %.2f,  std = %.2f\" % (overall_mean, overall_std)\n",
        "plt.title(title)\n",
        "\n",
        "plt.show()\n",
        "\n",
        "\n",
        "\n",
        "# show players Overall distribution\n",
        "plt.hist(df1_clean.Potential, bins=10, alpha=0.4,normed=True, color='b')\n",
        "plt.title(\"#Players Overall Rating distribution\")\n",
        "plt.xlabel(\"Overall\")\n",
        "plt.ylabel(\"Count\")\n",
        "potential_mean = df1_clean.Potential.mean()\n",
        "potential_std = df1_clean.Potential.std()\n",
        "xmin, xmax = plt.xlim()\n",
        "x = np.linspace(xmin, xmax, 100)\n",
        "p = norm.pdf(x, potential_mean, potential_std)\n",
        "plt.plot(x, p, 'k', linewidth=2, color='r')\n",
        "title = \"Player's Overall Rating,  mean = %.2f,  std = %.2f\" % (potential_mean, potential_std)\n",
        "plt.title(title)\n",
        "\n",
        "plt.show()"
      ],
      "execution_count": 0,
      "outputs": [
        {
          "output_type": "display_data",
          "data": {
            "image/png": "[encoded data removed]",
            "text/plain": [
              "<matplotlib.figure.Figure at 0x7f5a978427b8>"
            ]
          },
          "metadata": {
            "tags": []
          }
        },
        {
          "output_type": "display_data",
          "data": {
            "image/png": "[encoded data removed]",
            "text/plain": [
              "<matplotlib.figure.Figure at 0x7f5a97855128>"
            ]
          },
          "metadata": {
            "tags": []
          }
        }
      ]
    },
    {
      "metadata": {
        "id": "TpC8ITcHp64O",
        "colab_type": "code",
        "outputId": "eab8a4fb-8d65-45f0-c8ec-b279e7a5f7cc",
        "colab": {
          "base_uri": "https://localhost:8080/",
          "height": 568
        }
      },
      "cell_type": "code",
      "source": [
        "age=df1['Age']\n",
        "Nationality=df1['Nationality']\n",
        "playerval=df1.groupby('Club')['Value']\n",
        "playernationality=df1.groupby('Nationality')['Age']\n",
        "\n",
        "\n",
        "# n = pd.DataFrame(list(zip(df1['Value'],df1['Club'])))\n",
        "age_high = result2.Age.sort_values()[:10]\n",
        "age_low = result2.Age.sort_values()[-10:]\n",
        "\n",
        "pot_high = result2.Potential.sort_values()[:10]\n",
        "pot_low = result2.Potential.sort_values()[-10:]\n",
        "\n",
        "wage_high = result2.Wage.sort_values()[:10]\n",
        "wage_low = result2.Wage.sort_values()[-10:]\n",
        "\n",
        "value_high = result2.Value.sort_values()[:10]\n",
        "value_low = result2.Value.sort_values()[-10:]\n",
        "\n",
        "\n",
        "plt.figure(figsize = [18,9])\n",
        "plt.subplot(2,2,1)\n",
        "agedist=plt.barh(age_high.index,age_high,align='center')\n",
        "agedist=plt.barh(age_low.index,age_low,align='center')\n",
        "plt.xlabel('Age')\n",
        "plt.ylabel('Country')\n",
        "plt.subplot(2,2,2)\n",
        "agedist=plt.barh(pot_high.index,pot_high,align='center')\n",
        "agedist=plt.barh(pot_low.index,pot_low,align='center')\n",
        "plt.xlabel('Potential')\n",
        "plt.ylabel('Country')\n",
        "plt.subplot(2,2,3)\n",
        "agedist=plt.barh(wage_high.index,wage_high,align='center')\n",
        "agedist=plt.barh(wage_low.index,wage_low,align='center')\n",
        "plt.xlabel('Wage')\n",
        "plt.ylabel('Country')\n",
        "plt.subplot(2,2,4)\n",
        "agedist=plt.barh(value_high.index,value_high,align='center')\n",
        "agedist=plt.barh(value_low.index,value_low,align='center')\n",
        "plt.xlabel('Value')\n",
        "plt.ylabel('Country')\n",
        "\n",
        "\n"
      ],
      "execution_count": 0,
      "outputs": [
        {
          "output_type": "execute_result",
          "data": {
            "text/plain": [
              "Text(0,0.5,'Country')"
            ]
          },
          "metadata": {
            "tags": []
          },
          "execution_count": 100
        },
        {
          "output_type": "display_data",
          "data": {
            "image/png": "[encoded data removed]",
            "text/plain": [
              "<matplotlib.figure.Figure at 0x7f5a97799278>"
            ]
          },
          "metadata": {
            "tags": []
          }
        }
      ]
    },
    {
      "metadata": {
        "id": "d8TWCQLlH3MK",
        "colab_type": "code",
        "outputId": "e6f6673b-b5fc-48fa-e83d-8c081cd7ef17",
        "colab": {
          "base_uri": "https://localhost:8080/",
          "height": 895
        }
      },
      "cell_type": "code",
      "source": [
        "plt.figure(figsize = [21,15])\n",
        "plt.subplot(1,3,1)\n",
        "plt.title('Logisitic Feature Importance for Draw')\n",
        "plt.barh(result2_std.columns,reg2.coef_[0,:69],color='r')\n",
        "plt.barh(result2_std.columns,reg2.coef_[0,69:],color='b')\n",
        "plt.legend(['Home Team','Away Team'])\n",
        "plt.subplot(1,3,2)\n",
        "plt.title('Logisitic Feature Importance for Home Team Win')\n",
        "plt.barh(result2_std.columns,reg2.coef_[1,:69],color='r')\n",
        "plt.barh(result2_std.columns,reg2.coef_[1,69:],color='b')\n",
        "plt.legend(['Home Team','Away Team'])\n",
        "plt.subplot(1,3,3)\n",
        "plt.title('Logisitic Feature Importance for Away Team Win')\n",
        "plt.barh(result2_std.columns,reg2.coef_[2,:69],color='r')\n",
        "plt.barh(result2_std.columns,reg2.coef_[2,69:],color='b')\n",
        "plt.legend(['Home Team','Away Team'])\n"
      ],
      "execution_count": 0,
      "outputs": [
        {
          "output_type": "execute_result",
          "data": {
            "text/plain": [
              "<matplotlib.legend.Legend at 0x7f5a971c6ba8>"
            ]
          },
          "metadata": {
            "tags": []
          },
          "execution_count": 101
        },
        {
          "output_type": "display_data",
          "data": {
            "image/png": "[encoded data removed]",
            "text/plain": [
              "<matplotlib.figure.Figure at 0x7f5a97782630>"
            ]
          },
          "metadata": {
            "tags": []
          }
        }
      ]
    }
  ]
}